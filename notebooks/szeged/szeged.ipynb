{
 "cells": [
  {
   "cell_type": "code",
   "execution_count": 90,
   "metadata": {
    "collapsed": true
   },
   "outputs": [],
   "source": [
    "import os\n",
    "import pandas as pd\n",
    "import yaml\n",
    "\n",
    "%matplotlib inline\n",
    "\n",
    "import seaborn as sns\n",
    "sns.set_style(\"darkgrid\")"
   ]
  },
  {
   "cell_type": "code",
   "execution_count": 94,
   "metadata": {},
   "outputs": [
    {
     "name": "stdout",
     "output_type": "stream",
     "text": [
      "8oelb.conll-2009_ready.disamb.new\n",
      "10elb.conll-2009_ready.disamb.new\n",
      "10erv.conll-2009_ready.disamb.new\n",
      "1984.conll-2009_ready.disamb.new\n",
      "cwszt.conll-2009_ready.disamb.new\n",
      "gazdtar.conll-2009_ready.disamb.new\n",
      "hvg.conll-2009_ready.disamb.new\n",
      "mh.conll-2009_ready.disamb.new\n",
      "newsml.conll-2009_ready.disamb.new\n",
      "np.conll-2009_ready.disamb.new\n",
      "nv.conll-2009_ready.disamb.new\n",
      "pfred.conll-2009_ready.disamb.new\n",
      "szerzj.conll-2009_ready.disamb.new\n",
      "utas.conll-2009_ready.disamb.new\n",
      "win2000.conll-2009_ready.disamb.new\n"
     ]
    },
    {
     "data": {
      "text/html": [
       "<div>\n",
       "<style>\n",
       "    .dataframe thead tr:only-child th {\n",
       "        text-align: right;\n",
       "    }\n",
       "\n",
       "    .dataframe thead th {\n",
       "        text-align: left;\n",
       "    }\n",
       "\n",
       "    .dataframe tbody tr th {\n",
       "        vertical-align: top;\n",
       "    }\n",
       "</style>\n",
       "<table border=\"1\" class=\"dataframe\">\n",
       "  <thead>\n",
       "    <tr style=\"text-align: right;\">\n",
       "      <th></th>\n",
       "      <th>token</th>\n",
       "      <th>lemma</th>\n",
       "      <th>old_pos</th>\n",
       "      <th>ud</th>\n",
       "      <th>szeged_conv</th>\n",
       "      <th>match_type</th>\n",
       "      <th>segmentation</th>\n",
       "      <th>hfst_tags</th>\n",
       "      <th>hfst_tapes</th>\n",
       "      <th>hfst_other_ana</th>\n",
       "    </tr>\n",
       "  </thead>\n",
       "  <tbody>\n",
       "    <tr>\n",
       "      <th>0</th>\n",
       "      <td>A</td>\n",
       "      <td>a</td>\n",
       "      <td>T</td>\n",
       "      <td>SubPOS=f</td>\n",
       "      <td>a[/Det|art.Def]</td>\n",
       "      <td>single_full_match</td>\n",
       "      <td>a</td>\n",
       "      <td>[/Det|Art.Def]</td>\n",
       "      <td>a:a :[/Det|Art.Def]</td>\n",
       "      <td>[[A, [/N|Unit|Abbr] [Nom], A:A :[/N|Unit|Abbr]...</td>\n",
       "    </tr>\n",
       "    <tr>\n",
       "      <th>1</th>\n",
       "      <td>múlt</td>\n",
       "      <td>múlt</td>\n",
       "      <td>A</td>\n",
       "      <td>SubPOS=f|Deg=p|Num=s|Cas=n|NumP=none|PerP=none...</td>\n",
       "      <td>múlt[/Adj][Nom]</td>\n",
       "      <td>diff1_mult2</td>\n",
       "      <td>múlt</td>\n",
       "      <td>[/Adj|Attr]</td>\n",
       "      <td>m:m ú:ú l:l t:t :[/Adj|Attr]</td>\n",
       "      <td>[[múl t, [/V] [Pst.NDef.3Sg], m:m ú:ú l:l :[/V...</td>\n",
       "    </tr>\n",
       "    <tr>\n",
       "      <th>2</th>\n",
       "      <td>héten</td>\n",
       "      <td>hét</td>\n",
       "      <td>N</td>\n",
       "      <td>SubPOS=c|Num=s|Cas=p|NumP=none|PerP=none|NumPd...</td>\n",
       "      <td>hét[/N][Supe]</td>\n",
       "      <td>single_full_match</td>\n",
       "      <td>hét en</td>\n",
       "      <td>[/N] [Supe]</td>\n",
       "      <td>h:h é:é t:t :[/N] e:e n:n :[Supe]</td>\n",
       "      <td>[[hét en, [/Num] [Supe], h:h é:é t:t :[/Num] e...</td>\n",
       "    </tr>\n",
       "    <tr>\n",
       "      <th>3</th>\n",
       "      <td>a</td>\n",
       "      <td>a</td>\n",
       "      <td>T</td>\n",
       "      <td>SubPOS=f</td>\n",
       "      <td>a[/Det|art.Def]</td>\n",
       "      <td>single_full_match</td>\n",
       "      <td>a</td>\n",
       "      <td>[/Det|Art.Def]</td>\n",
       "      <td>a:a :[/Det|Art.Def]</td>\n",
       "      <td>[[a, [/Det|Pro|(Post)], a:a :[/Det|Pro|(Post)]...</td>\n",
       "    </tr>\n",
       "    <tr>\n",
       "      <th>4</th>\n",
       "      <td>családommal</td>\n",
       "      <td>család</td>\n",
       "      <td>N</td>\n",
       "      <td>SubPOS=c|Num=s|Cas=i|NumP=s|PerP=1|NumPd=none</td>\n",
       "      <td>család[/N][Poss.1Sg][Ins]</td>\n",
       "      <td>single_full_match</td>\n",
       "      <td>család om mal</td>\n",
       "      <td>[/N] [Poss.1Sg] [Ins]</td>\n",
       "      <td>c:c s:s a:a l:l á:á d:d :[/N] o:o m:m :[Poss.1...</td>\n",
       "      <td>[]</td>\n",
       "    </tr>\n",
       "  </tbody>\n",
       "</table>\n",
       "</div>"
      ],
      "text/plain": [
       "         token   lemma old_pos  \\\n",
       "0            A       a       T   \n",
       "1         múlt    múlt       A   \n",
       "2        héten     hét       N   \n",
       "3            a       a       T   \n",
       "4  családommal  család       N   \n",
       "\n",
       "                                                  ud  \\\n",
       "0                                           SubPOS=f   \n",
       "1  SubPOS=f|Deg=p|Num=s|Cas=n|NumP=none|PerP=none...   \n",
       "2  SubPOS=c|Num=s|Cas=p|NumP=none|PerP=none|NumPd...   \n",
       "3                                           SubPOS=f   \n",
       "4      SubPOS=c|Num=s|Cas=i|NumP=s|PerP=1|NumPd=none   \n",
       "\n",
       "                 szeged_conv         match_type   segmentation  \\\n",
       "0            a[/Det|art.Def]  single_full_match              a   \n",
       "1            múlt[/Adj][Nom]        diff1_mult2           múlt   \n",
       "2              hét[/N][Supe]  single_full_match         hét en   \n",
       "3            a[/Det|art.Def]  single_full_match              a   \n",
       "4  család[/N][Poss.1Sg][Ins]  single_full_match  család om mal   \n",
       "\n",
       "               hfst_tags                                         hfst_tapes  \\\n",
       "0         [/Det|Art.Def]                                a:a :[/Det|Art.Def]   \n",
       "1            [/Adj|Attr]                       m:m ú:ú l:l t:t :[/Adj|Attr]   \n",
       "2            [/N] [Supe]                  h:h é:é t:t :[/N] e:e n:n :[Supe]   \n",
       "3         [/Det|Art.Def]                                a:a :[/Det|Art.Def]   \n",
       "4  [/N] [Poss.1Sg] [Ins]  c:c s:s a:a l:l á:á d:d :[/N] o:o m:m :[Poss.1...   \n",
       "\n",
       "                                      hfst_other_ana  \n",
       "0  [[A, [/N|Unit|Abbr] [Nom], A:A :[/N|Unit|Abbr]...  \n",
       "1  [[múl t, [/V] [Pst.NDef.3Sg], m:m ú:ú l:l :[/V...  \n",
       "2  [[hét en, [/Num] [Supe], h:h é:é t:t :[/Num] e...  \n",
       "3  [[a, [/Det|Pro|(Post)], a:a :[/Det|Pro|(Post)]...  \n",
       "4                                                 []  "
      ]
     },
     "execution_count": 94,
     "metadata": {},
     "output_type": "execute_result"
    }
   ],
   "source": [
    "import json\n",
    "\n",
    "mszny_dir = \"../../morph_disambig/szeged_morph_disambig_corp/\"\n",
    "szeged_df = None\n",
    "szeged_cols = [\n",
    "    \"token\", \"lemma\", \"old_pos\", \"ud\", \"szeged_conv\", \"match_type\",\n",
    "    \"segmentation\", \"hfst_tags\", \"hfst_tapes\", \"hfst_other_ana\",\n",
    "]\n",
    "    \n",
    "for fn in os.listdir(mszny_dir):\n",
    "    print(fn)\n",
    "    fn = os.path.join(mszny_dir, fn)\n",
    "    df = pd.read_table(fn, sep=\"\\t\", names=szeged_cols, quoting=3)\n",
    "    if szeged_df is None:\n",
    "        szeged_df = df\n",
    "    else:\n",
    "        szeged_df = pd.concat((szeged_df, df))\n",
    "\n",
    "szeged_df[\"hfst_other_ana\"] = szeged_df[\"hfst_other_ana\"].apply(json.loads)\n",
    "szeged_df.head()"
   ]
  },
  {
   "cell_type": "code",
   "execution_count": 95,
   "metadata": {},
   "outputs": [
    {
     "data": {
      "text/html": [
       "<div>\n",
       "<style>\n",
       "    .dataframe thead tr:only-child th {\n",
       "        text-align: right;\n",
       "    }\n",
       "\n",
       "    .dataframe thead th {\n",
       "        text-align: left;\n",
       "    }\n",
       "\n",
       "    .dataframe tbody tr th {\n",
       "        vertical-align: top;\n",
       "    }\n",
       "</style>\n",
       "<table border=\"1\" class=\"dataframe\">\n",
       "  <thead>\n",
       "    <tr style=\"text-align: right;\">\n",
       "      <th></th>\n",
       "      <th>match_type</th>\n",
       "    </tr>\n",
       "  </thead>\n",
       "  <tbody>\n",
       "    <tr>\n",
       "      <th>single_full_match</th>\n",
       "      <td>81.887399</td>\n",
       "    </tr>\n",
       "    <tr>\n",
       "      <th>diff1_mult1</th>\n",
       "      <td>9.241657</td>\n",
       "    </tr>\n",
       "    <tr>\n",
       "      <th>diff2_mult1</th>\n",
       "      <td>2.484471</td>\n",
       "    </tr>\n",
       "    <tr>\n",
       "      <th>diff1_mult2</th>\n",
       "      <td>1.628123</td>\n",
       "    </tr>\n",
       "    <tr>\n",
       "      <th>diff3_mult1</th>\n",
       "      <td>0.958410</td>\n",
       "    </tr>\n",
       "    <tr>\n",
       "      <th>multiple_full_match</th>\n",
       "      <td>0.950983</td>\n",
       "    </tr>\n",
       "    <tr>\n",
       "      <th>diff2_mult2</th>\n",
       "      <td>0.891646</td>\n",
       "    </tr>\n",
       "    <tr>\n",
       "      <th>diff1_mult3</th>\n",
       "      <td>0.731366</td>\n",
       "    </tr>\n",
       "    <tr>\n",
       "      <th>diff3_mult2</th>\n",
       "      <td>0.540578</td>\n",
       "    </tr>\n",
       "    <tr>\n",
       "      <th>diff4_mult1</th>\n",
       "      <td>0.246451</td>\n",
       "    </tr>\n",
       "  </tbody>\n",
       "</table>\n",
       "</div>"
      ],
      "text/plain": [
       "                     match_type\n",
       "single_full_match     81.887399\n",
       "diff1_mult1            9.241657\n",
       "diff2_mult1            2.484471\n",
       "diff1_mult2            1.628123\n",
       "diff3_mult1            0.958410\n",
       "multiple_full_match    0.950983\n",
       "diff2_mult2            0.891646\n",
       "diff1_mult3            0.731366\n",
       "diff3_mult2            0.540578\n",
       "diff4_mult1            0.246451"
      ]
     },
     "execution_count": 95,
     "metadata": {},
     "output_type": "execute_result"
    }
   ],
   "source": [
    "d = szeged_df[szeged_df[\"szeged_conv\"] != \"OTHER\"][\"match_type\"].value_counts()\n",
    "(d / d.sum() * 100).head(10).to_frame()"
   ]
  },
  {
   "cell_type": "code",
   "execution_count": 97,
   "metadata": {},
   "outputs": [
    {
     "data": {
      "text/html": [
       "<div>\n",
       "<style>\n",
       "    .dataframe thead tr:only-child th {\n",
       "        text-align: right;\n",
       "    }\n",
       "\n",
       "    .dataframe thead th {\n",
       "        text-align: left;\n",
       "    }\n",
       "\n",
       "    .dataframe tbody tr th {\n",
       "        vertical-align: top;\n",
       "    }\n",
       "</style>\n",
       "<table border=\"1\" class=\"dataframe\">\n",
       "  <thead>\n",
       "    <tr style=\"text-align: right;\">\n",
       "      <th></th>\n",
       "      <th>token</th>\n",
       "      <th>szeged_conv</th>\n",
       "      <th>hfst_tags</th>\n",
       "      <th>hfst_tapes</th>\n",
       "    </tr>\n",
       "  </thead>\n",
       "  <tbody>\n",
       "    <tr>\n",
       "      <th>70542</th>\n",
       "      <td>Felnőtt</td>\n",
       "      <td>felnő[/V][Pst.NDef.3Sg]</td>\n",
       "      <td>[/Prev] [/V] [Pst.NDef.3Sg]</td>\n",
       "      <td>f:f e:e l:l :[/Prev] n:n ő:ő :[/V] t:t t:t :[P...</td>\n",
       "    </tr>\n",
       "    <tr>\n",
       "      <th>55366</th>\n",
       "      <td>Összepakolta</td>\n",
       "      <td>összepakol[/V][Pst.Def.3Sg]</td>\n",
       "      <td>[/Prev] [/V] [Pst.Def.3Sg]</td>\n",
       "      <td>ö:ö s:s s:s z:z e:e :[/Prev] p:p a:a k:k o:o l...</td>\n",
       "    </tr>\n",
       "    <tr>\n",
       "      <th>5060</th>\n",
       "      <td>Amir</td>\n",
       "      <td>Amir[/N]</td>\n",
       "      <td>NaN</td>\n",
       "      <td>Amir+?</td>\n",
       "    </tr>\n",
       "    <tr>\n",
       "      <th>78224</th>\n",
       "      <td>xyz.com</td>\n",
       "      <td>xyz.com[/N]</td>\n",
       "      <td>NaN</td>\n",
       "      <td>xyz.com+?</td>\n",
       "    </tr>\n",
       "    <tr>\n",
       "      <th>39151</th>\n",
       "      <td>vannak</td>\n",
       "      <td>van[/V][Prs.NDef.3Pl]</td>\n",
       "      <td>[/V] [</td>\n",
       "      <td>v:v a:a n:n :[/V] n:n a:a k:k :[ :P :r :s :. :...</td>\n",
       "    </tr>\n",
       "    <tr>\n",
       "      <th>10094</th>\n",
       "      <td>szlovák</td>\n",
       "      <td>szlovák[/Adj][Nom]</td>\n",
       "      <td>[/Adj|nat] [Nom]</td>\n",
       "      <td>s:s z:z l:l o:o v:v á:á k:k :[/Adj|nat] :[Nom]</td>\n",
       "    </tr>\n",
       "    <tr>\n",
       "      <th>142057</th>\n",
       "      <td>élhetnek</td>\n",
       "      <td>él[/V][_Mod/V][Prs.NDef.3Pl]</td>\n",
       "      <td>[/V] [_Mod/V] [</td>\n",
       "      <td>é:é l:l :[/V] h:h e:e t:t :[_Mod/V] n:n e:e k:...</td>\n",
       "    </tr>\n",
       "    <tr>\n",
       "      <th>723</th>\n",
       "      <td>47-re</td>\n",
       "      <td>47[/Num|Digit][Subl]</td>\n",
       "      <td>[/Num|Digit] [/Num|Digit] [Subl]</td>\n",
       "      <td>4:4 :[/Num|Digit] 7:7 -: :[/Num|Digit] r:r e:e...</td>\n",
       "    </tr>\n",
       "    <tr>\n",
       "      <th>101050</th>\n",
       "      <td>megfelelő</td>\n",
       "      <td>megfelelő[/Adj][Nom]</td>\n",
       "      <td>[/N] [Nom]</td>\n",
       "      <td>m:m e:e g:g f:f e:e l:l e:e l:l ő:ő :[/N] :[Nom]</td>\n",
       "    </tr>\n",
       "    <tr>\n",
       "      <th>8993</th>\n",
       "      <td>leállítani</td>\n",
       "      <td>leállít[/V][Inf]</td>\n",
       "      <td>[/Prev] [/V] [Inf]</td>\n",
       "      <td>l:l e:e :[/Prev] á:á l:l l:l í:í t:t :[/V] a:a...</td>\n",
       "    </tr>\n",
       "  </tbody>\n",
       "</table>\n",
       "</div>"
      ],
      "text/plain": [
       "               token                   szeged_conv  \\\n",
       "70542        Felnőtt       felnő[/V][Pst.NDef.3Sg]   \n",
       "55366   Összepakolta   összepakol[/V][Pst.Def.3Sg]   \n",
       "5060            Amir                      Amir[/N]   \n",
       "78224        xyz.com                   xyz.com[/N]   \n",
       "39151         vannak         van[/V][Prs.NDef.3Pl]   \n",
       "10094        szlovák            szlovák[/Adj][Nom]   \n",
       "142057      élhetnek  él[/V][_Mod/V][Prs.NDef.3Pl]   \n",
       "723            47-re          47[/Num|Digit][Subl]   \n",
       "101050     megfelelő          megfelelő[/Adj][Nom]   \n",
       "8993      leállítani              leállít[/V][Inf]   \n",
       "\n",
       "                               hfst_tags  \\\n",
       "70542        [/Prev] [/V] [Pst.NDef.3Sg]   \n",
       "55366         [/Prev] [/V] [Pst.Def.3Sg]   \n",
       "5060                                 NaN   \n",
       "78224                                NaN   \n",
       "39151                             [/V] [   \n",
       "10094                   [/Adj|nat] [Nom]   \n",
       "142057                   [/V] [_Mod/V] [   \n",
       "723     [/Num|Digit] [/Num|Digit] [Subl]   \n",
       "101050                        [/N] [Nom]   \n",
       "8993                  [/Prev] [/V] [Inf]   \n",
       "\n",
       "                                               hfst_tapes  \n",
       "70542   f:f e:e l:l :[/Prev] n:n ő:ő :[/V] t:t t:t :[P...  \n",
       "55366   ö:ö s:s s:s z:z e:e :[/Prev] p:p a:a k:k o:o l...  \n",
       "5060                                               Amir+?  \n",
       "78224                                           xyz.com+?  \n",
       "39151   v:v a:a n:n :[/V] n:n a:a k:k :[ :P :r :s :. :...  \n",
       "10094      s:s z:z l:l o:o v:v á:á k:k :[/Adj|nat] :[Nom]  \n",
       "142057  é:é l:l :[/V] h:h e:e t:t :[_Mod/V] n:n e:e k:...  \n",
       "723     4:4 :[/Num|Digit] 7:7 -: :[/Num|Digit] r:r e:e...  \n",
       "101050   m:m e:e g:g f:f e:e l:l e:e l:l ő:ő :[/N] :[Nom]  \n",
       "8993    l:l e:e :[/Prev] á:á l:l l:l í:í t:t :[/V] a:a...  "
      ]
     },
     "execution_count": 97,
     "metadata": {},
     "output_type": "execute_result"
    }
   ],
   "source": [
    "filt = \"diff1_mult1\"\n",
    "f = szeged_df[(szeged_df[\"szeged_conv\"] != \"OTHER\") & (szeged_df[\"match_type\"] == filt)]\n",
    "f = f.sample(10)\n",
    "f[[\"token\", \"szeged_conv\", \"hfst_tags\", \"hfst_tapes\"]]"
   ]
  },
  {
   "cell_type": "code",
   "execution_count": 58,
   "metadata": {},
   "outputs": [
    {
     "data": {
      "text/html": [
       "<div>\n",
       "<style>\n",
       "    .dataframe thead tr:only-child th {\n",
       "        text-align: right;\n",
       "    }\n",
       "\n",
       "    .dataframe thead th {\n",
       "        text-align: left;\n",
       "    }\n",
       "\n",
       "    .dataframe tbody tr th {\n",
       "        vertical-align: top;\n",
       "    }\n",
       "</style>\n",
       "<table border=\"1\" class=\"dataframe\">\n",
       "  <thead>\n",
       "    <tr style=\"text-align: right;\">\n",
       "      <th></th>\n",
       "      <th>hfst_tapes</th>\n",
       "    </tr>\n",
       "  </thead>\n",
       "  <tbody>\n",
       "    <tr>\n",
       "      <th>160107</th>\n",
       "      <td>BBDSZSZ+?</td>\n",
       "    </tr>\n",
       "    <tr>\n",
       "      <th>13691</th>\n",
       "      <td>m:m e:e g:g :[/Prev] l:l e:e p:p :[/V] e:e m:m...</td>\n",
       "    </tr>\n",
       "    <tr>\n",
       "      <th>64925</th>\n",
       "      <td>L:L A:A N:N :[/N|Acron] :[Nom]</td>\n",
       "    </tr>\n",
       "    <tr>\n",
       "      <th>13968</th>\n",
       "      <td>v:v a:a l:l u:u t:t a:a :[/N] b:b e:e v:v é:é ...</td>\n",
       "    </tr>\n",
       "    <tr>\n",
       "      <th>121783</th>\n",
       "      <td>m:m e:e g:g :[/Prev] e:e b:b é:é d:d e:e l:l :...</td>\n",
       "    </tr>\n",
       "    <tr>\n",
       "      <th>80324</th>\n",
       "      <td>S:S z:z e:e n:n t:t e:e n:n d:d r:r é:e :[/N] ...</td>\n",
       "    </tr>\n",
       "    <tr>\n",
       "      <th>105199</th>\n",
       "      <td>e:e l:l :[/Prev] j:j á:á r:r :[/V] n:n i:i :[Inf]</td>\n",
       "    </tr>\n",
       "    <tr>\n",
       "      <th>20705</th>\n",
       "      <td>f:f ö:ö l:l :[/Prev] v:v e:e n:s :z :[/V] n:n ...</td>\n",
       "    </tr>\n",
       "    <tr>\n",
       "      <th>57206</th>\n",
       "      <td>s:s z:z o:o l:l g:g á:á l:l ó:ó :[/N] :[Nom]</td>\n",
       "    </tr>\n",
       "    <tr>\n",
       "      <th>40300</th>\n",
       "      <td>2:2 :[/Num|Digit] 8:8 :[/Num|Digit] :[Nom]</td>\n",
       "    </tr>\n",
       "  </tbody>\n",
       "</table>\n",
       "</div>"
      ],
      "text/plain": [
       "                                               hfst_tapes\n",
       "160107                                          BBDSZSZ+?\n",
       "13691   m:m e:e g:g :[/Prev] l:l e:e p:p :[/V] e:e m:m...\n",
       "64925                      L:L A:A N:N :[/N|Acron] :[Nom]\n",
       "13968   v:v a:a l:l u:u t:t a:a :[/N] b:b e:e v:v é:é ...\n",
       "121783  m:m e:e g:g :[/Prev] e:e b:b é:é d:d e:e l:l :...\n",
       "80324   S:S z:z e:e n:n t:t e:e n:n d:d r:r é:e :[/N] ...\n",
       "105199  e:e l:l :[/Prev] j:j á:á r:r :[/V] n:n i:i :[Inf]\n",
       "20705   f:f ö:ö l:l :[/Prev] v:v e:e n:s :z :[/V] n:n ...\n",
       "57206        s:s z:z o:o l:l g:g á:á l:l ó:ó :[/N] :[Nom]\n",
       "40300          2:2 :[/Num|Digit] 8:8 :[/Num|Digit] :[Nom]"
      ]
     },
     "execution_count": 58,
     "metadata": {},
     "output_type": "execute_result"
    }
   ],
   "source": [
    "f[[\"hfst_tapes\"]] #.str.split()"
   ]
  },
  {
   "cell_type": "markdown",
   "metadata": {},
   "source": [
    "# Data stats"
   ]
  },
  {
   "cell_type": "code",
   "execution_count": 98,
   "metadata": {},
   "outputs": [
    {
     "data": {
      "text/html": [
       "<div>\n",
       "<style>\n",
       "    .dataframe thead tr:only-child th {\n",
       "        text-align: right;\n",
       "    }\n",
       "\n",
       "    .dataframe thead th {\n",
       "        text-align: left;\n",
       "    }\n",
       "\n",
       "    .dataframe tbody tr th {\n",
       "        vertical-align: top;\n",
       "    }\n",
       "</style>\n",
       "<table border=\"1\" class=\"dataframe\">\n",
       "  <thead>\n",
       "    <tr style=\"text-align: right;\">\n",
       "      <th></th>\n",
       "      <th>index</th>\n",
       "      <th>word</th>\n",
       "      <th>segmentation</th>\n",
       "      <th>test</th>\n",
       "    </tr>\n",
       "  </thead>\n",
       "  <tbody>\n",
       "    <tr>\n",
       "      <th>129432</th>\n",
       "      <td>9995</td>\n",
       "      <td>rakétabombák</td>\n",
       "      <td>BEEEEEBEEEEB</td>\n",
       "      <td>True</td>\n",
       "    </tr>\n",
       "    <tr>\n",
       "      <th>129433</th>\n",
       "      <td>9996</td>\n",
       "      <td>eliteket</td>\n",
       "      <td>BEEEBEBE</td>\n",
       "      <td>True</td>\n",
       "    </tr>\n",
       "    <tr>\n",
       "      <th>129434</th>\n",
       "      <td>9997</td>\n",
       "      <td>négytől</td>\n",
       "      <td>BEEEBEE</td>\n",
       "      <td>True</td>\n",
       "    </tr>\n",
       "    <tr>\n",
       "      <th>129435</th>\n",
       "      <td>9998</td>\n",
       "      <td>rosszal</td>\n",
       "      <td>BEEEEBE</td>\n",
       "      <td>True</td>\n",
       "    </tr>\n",
       "    <tr>\n",
       "      <th>129436</th>\n",
       "      <td>9999</td>\n",
       "      <td>sorakoztatja</td>\n",
       "      <td>BEEEEEEBEEBE</td>\n",
       "      <td>True</td>\n",
       "    </tr>\n",
       "  </tbody>\n",
       "</table>\n",
       "</div>"
      ],
      "text/plain": [
       "        index          word  segmentation  test\n",
       "129432   9995  rakétabombák  BEEEEEBEEEEB  True\n",
       "129433   9996      eliteket      BEEEBEBE  True\n",
       "129434   9997       négytől       BEEEBEE  True\n",
       "129435   9998       rosszal       BEEEEBE  True\n",
       "129436   9999  sorakoztatja  BEEEEEEBEEBE  True"
      ]
     },
     "execution_count": 98,
     "metadata": {},
     "output_type": "execute_result"
    }
   ],
   "source": [
    "data_dir = \"../data/szeged/train_test/\"\n",
    "train_fn = data_dir + \"normalized.train\"\n",
    "test_fn = data_dir + \"normalized.test\"\n",
    "\n",
    "df = pd.read_table(train_fn, names=['word', 'segmentation'])\n",
    "df['test'] = False\n",
    "df2 = pd.read_table(test_fn, names=['word', 'segmentation'])\n",
    "df2['test'] = True\n",
    "\n",
    "df = pd.concat([df, df2])\n",
    "df = df.reset_index()\n",
    "df.tail()"
   ]
  },
  {
   "cell_type": "code",
   "execution_count": 102,
   "metadata": {},
   "outputs": [
    {
     "data": {
      "text/plain": [
       "907"
      ]
     },
     "execution_count": 102,
     "metadata": {},
     "output_type": "execute_result"
    }
   ],
   "source": [
    "len(df) - len(df['word'].unique())"
   ]
  },
  {
   "cell_type": "code",
   "execution_count": 109,
   "metadata": {},
   "outputs": [
    {
     "data": {
      "text/html": [
       "<div>\n",
       "<style>\n",
       "    .dataframe thead tr:only-child th {\n",
       "        text-align: right;\n",
       "    }\n",
       "\n",
       "    .dataframe thead th {\n",
       "        text-align: left;\n",
       "    }\n",
       "\n",
       "    .dataframe tbody tr th {\n",
       "        vertical-align: top;\n",
       "    }\n",
       "</style>\n",
       "<table border=\"1\" class=\"dataframe\">\n",
       "  <thead>\n",
       "    <tr style=\"text-align: right;\">\n",
       "      <th></th>\n",
       "      <th>index</th>\n",
       "      <th>word</th>\n",
       "      <th>segmentation</th>\n",
       "      <th>test</th>\n",
       "    </tr>\n",
       "  </thead>\n",
       "  <tbody>\n",
       "    <tr>\n",
       "      <th>4709</th>\n",
       "      <td>4709</td>\n",
       "      <td>éjszaka</td>\n",
       "      <td>BEBEEEB</td>\n",
       "      <td>False</td>\n",
       "    </tr>\n",
       "    <tr>\n",
       "      <th>128900</th>\n",
       "      <td>9463</td>\n",
       "      <td>éjszaka</td>\n",
       "      <td>BEEEEEE</td>\n",
       "      <td>True</td>\n",
       "    </tr>\n",
       "  </tbody>\n",
       "</table>\n",
       "</div>"
      ],
      "text/plain": [
       "        index     word segmentation   test\n",
       "4709     4709  éjszaka      BEBEEEB  False\n",
       "128900   9463  éjszaka      BEEEEEE   True"
      ]
     },
     "execution_count": 109,
     "metadata": {},
     "output_type": "execute_result"
    }
   ],
   "source": [
    "df[df['word'] == 'éjszaka']"
   ]
  },
  {
   "cell_type": "code",
   "execution_count": 110,
   "metadata": {},
   "outputs": [
    {
     "data": {
      "text/plain": [
       "keleti              3\n",
       "kivált              3\n",
       "számba              3\n",
       "szokott             2\n",
       "nyelve              2\n",
       "port                2\n",
       "éjszaka             2\n",
       "kötöttek            2\n",
       "rettegett           2\n",
       "mennyire            2\n",
       "körúti              2\n",
       "sokkal              2\n",
       "felépült            2\n",
       "kisebbségi          2\n",
       "jelen               2\n",
       "jobb                2\n",
       "véletlenül          2\n",
       "adatbázis-kezelő    2\n",
       "választott          2\n",
       "nyert               2\n",
       "érte                2\n",
       "vidám               2\n",
       "fele                2\n",
       "nevelt              2\n",
       "mire                2\n",
       "egyből              2\n",
       "szintén             2\n",
       "szelet              2\n",
       "fejében             2\n",
       "értünk              2\n",
       "                   ..\n",
       "sorakoztatták       1\n",
       "autópályán          1\n",
       "lettem              1\n",
       "meghajtotta         1\n",
       "lakhatnánk          1\n",
       "records             1\n",
       "egyéntől            1\n",
       "pillantásokat       1\n",
       "várakozók           1\n",
       "kerületének         1\n",
       "tóratekercs         1\n",
       "felhajtás           1\n",
       "határ               1\n",
       "építményben         1\n",
       "fészekben           1\n",
       "feledkezzenek       1\n",
       "javadalmazási       1\n",
       "elintézi            1\n",
       "élne                1\n",
       "emberé              1\n",
       "eresztettük         1\n",
       "napszemüveget       1\n",
       "járható             1\n",
       "panellakásban       1\n",
       "segítenék           1\n",
       "villanást           1\n",
       "kézigránátok        1\n",
       "lövészdandár        1\n",
       "idéztünk            1\n",
       "felgyorsította      1\n",
       "Name: word, Length: 128530, dtype: int64"
      ]
     },
     "execution_count": 110,
     "metadata": {},
     "output_type": "execute_result"
    }
   ],
   "source": [
    "df['word'].value_counts()"
   ]
  },
  {
   "cell_type": "code",
   "execution_count": 5,
   "metadata": {
    "collapsed": true
   },
   "outputs": [],
   "source": [
    "df['morph_count'] = df.segmentation.str.count('B')\n",
    "df['word_length'] = df.word.str.len()"
   ]
  },
  {
   "cell_type": "code",
   "execution_count": 6,
   "metadata": {},
   "outputs": [
    {
     "data": {
      "image/png": "[encoded data removed]",
      "text/plain": [
       "<matplotlib.figure.Figure at 0x7fe2543ef1d0>"
      ]
     },
     "metadata": {},
     "output_type": "display_data"
    }
   ],
   "source": [
    "p = sns.countplot(df['morph_count'])\n",
    "p.set_xlabel(\"Number of morphemes in a word\")\n",
    "p.set_ylabel(\"Number of words\")\n",
    "p.figure.savefig(\"szeged/morph_count_dist.png\", dpi=900)"
   ]
  },
  {
   "cell_type": "code",
   "execution_count": 7,
   "metadata": {},
   "outputs": [
    {
     "data": {
      "image/png": "[encoded data removed]",
      "text/plain": [
       "<matplotlib.figure.Figure at 0x7fe25016f748>"
      ]
     },
     "metadata": {},
     "output_type": "display_data"
    }
   ],
   "source": [
    "p = sns.distplot(df['word_length'], kde=False, bins=30)\n",
    "p.set_xlabel(\"Word length in characters\")\n",
    "p.set_ylabel(\"Number of words\")\n",
    "p.figure.savefig(\"szeged/word_len_dist.png\", dpi=900)"
   ]
  },
  {
   "cell_type": "code",
   "execution_count": 8,
   "metadata": {},
   "outputs": [
    {
     "data": {
      "text/plain": [
       "4.252868811746346"
      ]
     },
     "execution_count": 8,
     "metadata": {},
     "output_type": "execute_result"
    }
   ],
   "source": [
    "df['word_length'].mean() / df['morph_count'].mean()"
   ]
  },
  {
   "cell_type": "markdown",
   "metadata": {},
   "source": [
    "# Results"
   ]
  },
  {
   "cell_type": "code",
   "execution_count": 9,
   "metadata": {
    "collapsed": true
   },
   "outputs": [],
   "source": [
    "result_dir = \"../results/szeged/\"\n",
    "\n",
    "cnn_results = None\n",
    "lstm_results = None\n",
    "\n",
    "for fn in os.listdir(result_dir):\n",
    "    if fn.startswith(\"cnn\"):\n",
    "        if cnn_results is None:\n",
    "            cnn_results = pd.read_table(os.path.join(result_dir, fn))\n",
    "        else:\n",
    "            cnn_results = pd.concat(\n",
    "                [cnn_results, pd.read_table(os.path.join(result_dir, fn))])\n",
    "    elif fn.startswith(\"lstm\"):\n",
    "        if lstm_results is None:\n",
    "            lstm_results = pd.read_table(os.path.join(result_dir, fn))\n",
    "        else:\n",
    "            lstm_results = pd.concat(\n",
    "                [lstm_results, pd.read_table(os.path.join(result_dir, fn))])"
   ]
  },
  {
   "cell_type": "code",
   "execution_count": 10,
   "metadata": {
    "collapsed": true
   },
   "outputs": [],
   "source": [
    "exp_dir = \"../exps/szeged/\"\n",
    "\n",
    "for exp_group in os.listdir(exp_dir):\n",
    "    if not exp_group.startswith(\"lstm\"):\n",
    "        continue\n",
    "    for exp_fn in os.listdir(os.path.join(exp_dir, exp_group)):\n",
    "        try:\n",
    "            with open(os.path.join(exp_dir, exp_group, exp_fn, \"config.yaml\")) as f:\n",
    "                config = yaml.load(f)\n",
    "            model_dir = config['model_dir']\n",
    "            d = (lstm_results[lstm_results['config.model_dir'] == model_dir])\n",
    "            if len(d) > 0:\n",
    "                continue\n",
    "            exp_dict = {'config.{}'.format(k): v for k, v in config.items()} \n",
    "            with open(os.path.join(exp_dir, exp_group, exp_fn, \"result.yaml\")) as f:\n",
    "                result = yaml.load(f)\n",
    "            exp_dict.update({'result.{}'.format(k): v for k, v in result.items()})\n",
    "            lstm_results = lstm_results.append(exp_dict, ignore_index=True)\n",
    "        except FileNotFoundError:\n",
    "            print(exp_dir, exp_group, exp_fn)\n",
    "lstm_results = lstm_results[lstm_results['config.model_dir'].notnull()]"
   ]
  },
  {
   "cell_type": "code",
   "execution_count": 11,
   "metadata": {
    "collapsed": true
   },
   "outputs": [],
   "source": [
    "def read_file_to_dict(stream):\n",
    "    d = {}\n",
    "    for line in stream:\n",
    "        fd = line.strip().split(\"\\t\")\n",
    "        d[fd[0]] = float(fd[1])\n",
    "    return d\n",
    "\n",
    "def read_results(model_dir):\n",
    "    res = {}\n",
    "    with open(os.path.join(model_dir, \"szeged.test_morph_level_eval\")) as f:\n",
    "        d = read_file_to_dict(f)\n",
    "        res.update({\"morph.{}\".format(k): v for k, v in d.items()})\n",
    "        \n",
    "    with open(os.path.join(model_dir, \"szeged.test_boundary_eval\")) as f:\n",
    "        d = read_file_to_dict(f)\n",
    "        res.update({\"boundary.{}\".format(k): v for k, v in d.items()})\n",
    "    return res\n",
    "              \n",
    "all_cnn = []\n",
    "for row in cnn_results.iterrows():\n",
    "    res = read_results(\"../\" + row[1]['config.model_dir'])\n",
    "    res['config.model_dir'] = row[1]['config.model_dir']\n",
    "    all_cnn.append(res)\n",
    "    \n",
    "all_cnn = pd.DataFrame(all_cnn)"
   ]
  },
  {
   "cell_type": "code",
   "execution_count": 12,
   "metadata": {
    "collapsed": true
   },
   "outputs": [],
   "source": [
    "all_lstm = []\n",
    "cnt = 0\n",
    "for row in lstm_results.iterrows():\n",
    "    try:\n",
    "        res = read_results(\"../\" + row[1]['config.model_dir'])\n",
    "        res['config.model_dir'] = row[1]['config.model_dir']\n",
    "        all_lstm.append(res)\n",
    "    except TypeError:\n",
    "        cnt += 1\n",
    "    \n",
    "all_lstm = pd.DataFrame(all_lstm)"
   ]
  },
  {
   "cell_type": "code",
   "execution_count": 13,
   "metadata": {
    "collapsed": true
   },
   "outputs": [],
   "source": [
    "def len_or_neg(s):\n",
    "    try:\n",
    "        return len(eval(s))\n",
    "    except TypeError:\n",
    "        return len(s)\n",
    "    \n",
    "lstm_results = all_lstm.merge(lstm_results, left_on='config.model_dir', right_on='config.model_dir')\n",
    "lstm_results['result.epochs_run'] = lstm_results['result.val_loss'].apply(len_or_neg)\n",
    "lstm_results.to_csv(\"../results/szeged/merged/lstm_results.tsv\", sep=\"\\t\", index=False)"
   ]
  },
  {
   "cell_type": "code",
   "execution_count": 14,
   "metadata": {
    "collapsed": true
   },
   "outputs": [],
   "source": [
    "cnn_results = all_cnn.merge(cnn_results, left_on='config.model_dir', right_on='config.model_dir')\n",
    "cnn_results['result.epochs_run'] = cnn_results['result.val_loss'].apply(lambda x: len(eval(x)))\n",
    "cnn_results.to_csv(\"../results/szeged/merged/cnn_results.tsv\", sep=\"\\t\", index=False)"
   ]
  },
  {
   "cell_type": "markdown",
   "metadata": {},
   "source": [
    "### Filter newer experiments"
   ]
  },
  {
   "cell_type": "code",
   "execution_count": 15,
   "metadata": {
    "collapsed": true
   },
   "outputs": [],
   "source": [
    "lstm_results = lstm_results[lstm_results['config.batch_size'] == 512]\n",
    "cnn_results = cnn_results[cnn_results['config.batch_size'] == 512]"
   ]
  },
  {
   "cell_type": "markdown",
   "metadata": {},
   "source": [
    "## Number of experiments"
   ]
  },
  {
   "cell_type": "code",
   "execution_count": 59,
   "metadata": {},
   "outputs": [
    {
     "data": {
      "text/plain": [
       "(291, 299)"
      ]
     },
     "execution_count": 59,
     "metadata": {},
     "output_type": "execute_result"
    }
   ],
   "source": [
    "len(lstm_results), len(cnn_results)"
   ]
  },
  {
   "cell_type": "markdown",
   "metadata": {},
   "source": [
    "## Parameters\n",
    "\n",
    "### RNN"
   ]
  },
  {
   "cell_type": "code",
   "execution_count": 113,
   "metadata": {},
   "outputs": [
    {
     "data": {
      "text/plain": [
       "[{'config.bidirectional': [0.0, 1.0]},\n",
       " {'config.cell_size': [8.0, 16.0, 32.0, 64.0, 128.0, 256.0, 512.0]},\n",
       " {'config.cell_type': ['GRU', 'LSTM']},\n",
       " {'config.dataframe_path': ['results/szeged/lstm_fred_results.tsv',\n",
       "   'results/szeged/lstm_results.tsv']},\n",
       " {'config.embedding_size': [5.0, 10.0, 20.0, 30.0, 40.0]},\n",
       " {'config.num_layers': [1.0, 2.0, 3.0]}]"
      ]
     },
     "execution_count": 113,
     "metadata": {},
     "output_type": "execute_result"
    }
   ],
   "source": [
    "cfg_cols = list(filter(lambda c: c.startswith(\"config.\"), lstm_results.columns))\n",
    "var_cols = []\n",
    "\n",
    "for colname in cfg_cols:\n",
    "    uc = lstm_results[colname].dropna().unique()\n",
    "    if len(uc) > 1 and len(uc) < len(lstm_results):\n",
    "        var_cols.append({colname: sorted(list(uc))})\n",
    "var_cols"
   ]
  },
  {
   "cell_type": "code",
   "execution_count": 114,
   "metadata": {},
   "outputs": [
    {
     "data": {
      "text/plain": [
       "420"
      ]
     },
     "execution_count": 114,
     "metadata": {},
     "output_type": "execute_result"
    }
   ],
   "source": [
    "2 * 7 * 2 * 5 * 3"
   ]
  },
  {
   "cell_type": "markdown",
   "metadata": {},
   "source": [
    "## Early stopping\n",
    "\n",
    "Most experiments stopped earlier than 100 epochs"
   ]
  },
  {
   "cell_type": "code",
   "execution_count": 17,
   "metadata": {},
   "outputs": [
    {
     "name": "stdout",
     "output_type": "stream",
     "text": [
      "590\n"
     ]
    },
    {
     "data": {
      "text/plain": [
       "True     0.620339\n",
       "False    0.379661\n",
       "Name: result.epochs_run, dtype: float64"
      ]
     },
     "execution_count": 17,
     "metadata": {},
     "output_type": "execute_result"
    }
   ],
   "source": [
    "d = (lstm_results['result.epochs_run'] < 100).value_counts() + (cnn_results['result.epochs_run'] < 100).value_counts()\n",
    "print(d.sum())\n",
    "d / d.sum()"
   ]
  },
  {
   "cell_type": "markdown",
   "metadata": {},
   "source": [
    "## Best RNN"
   ]
  },
  {
   "cell_type": "code",
   "execution_count": 115,
   "metadata": {
    "collapsed": true
   },
   "outputs": [],
   "source": [
    "res_cols = [\n",
    "    'boundary.precision',\n",
    "    'boundary.recall',\n",
    "    'boundary.F-score',\n",
    "    'morph.accuracy',\n",
    "    'morph.precision',\n",
    "    'morph.recall',\n",
    "    'morph.F-score',\n",
    "    'morph.word_accuracy',\n",
    "]\n",
    "\n",
    "hp_params = [\n",
    "    'cell_type', 'cell_size', 'embedding_size', 'bidirectional', 'num_layers', 'batch_size',\n",
    "    'model_dir',\n",
    "]\n",
    "hp_params = ['config.{}'.format(c) for c in hp_params]"
   ]
  },
  {
   "cell_type": "code",
   "execution_count": 116,
   "metadata": {},
   "outputs": [
    {
     "data": {
      "text/html": [
       "<div>\n",
       "<style>\n",
       "    .dataframe thead tr:only-child th {\n",
       "        text-align: right;\n",
       "    }\n",
       "\n",
       "    .dataframe thead th {\n",
       "        text-align: left;\n",
       "    }\n",
       "\n",
       "    .dataframe tbody tr th {\n",
       "        vertical-align: top;\n",
       "    }\n",
       "</style>\n",
       "<table border=\"1\" class=\"dataframe\">\n",
       "  <thead>\n",
       "    <tr style=\"text-align: right;\">\n",
       "      <th></th>\n",
       "      <th>13</th>\n",
       "    </tr>\n",
       "  </thead>\n",
       "  <tbody>\n",
       "    <tr>\n",
       "      <th>boundary.precision</th>\n",
       "      <td>0.940408</td>\n",
       "    </tr>\n",
       "    <tr>\n",
       "      <th>boundary.recall</th>\n",
       "      <td>0.914391</td>\n",
       "    </tr>\n",
       "    <tr>\n",
       "      <th>boundary.F-score</th>\n",
       "      <td>0.927217</td>\n",
       "    </tr>\n",
       "    <tr>\n",
       "      <th>morph.accuracy</th>\n",
       "      <td>0.795461</td>\n",
       "    </tr>\n",
       "    <tr>\n",
       "      <th>morph.precision</th>\n",
       "      <td>0.893384</td>\n",
       "    </tr>\n",
       "    <tr>\n",
       "      <th>morph.recall</th>\n",
       "      <td>0.878894</td>\n",
       "    </tr>\n",
       "    <tr>\n",
       "      <th>morph.F-score</th>\n",
       "      <td>0.88608</td>\n",
       "    </tr>\n",
       "    <tr>\n",
       "      <th>morph.word_accuracy</th>\n",
       "      <td>0.8303</td>\n",
       "    </tr>\n",
       "    <tr>\n",
       "      <th>config.cell_type</th>\n",
       "      <td>GRU</td>\n",
       "    </tr>\n",
       "    <tr>\n",
       "      <th>config.cell_size</th>\n",
       "      <td>256</td>\n",
       "    </tr>\n",
       "    <tr>\n",
       "      <th>config.embedding_size</th>\n",
       "      <td>30</td>\n",
       "    </tr>\n",
       "    <tr>\n",
       "      <th>config.bidirectional</th>\n",
       "      <td>1</td>\n",
       "    </tr>\n",
       "    <tr>\n",
       "      <th>config.num_layers</th>\n",
       "      <td>3</td>\n",
       "    </tr>\n",
       "    <tr>\n",
       "      <th>config.batch_size</th>\n",
       "      <td>512</td>\n",
       "    </tr>\n",
       "    <tr>\n",
       "      <th>config.model_dir</th>\n",
       "      <td>exps/szeged/lstm/0126</td>\n",
       "    </tr>\n",
       "  </tbody>\n",
       "</table>\n",
       "</div>"
      ],
      "text/plain": [
       "                                          13\n",
       "boundary.precision                  0.940408\n",
       "boundary.recall                     0.914391\n",
       "boundary.F-score                    0.927217\n",
       "morph.accuracy                      0.795461\n",
       "morph.precision                     0.893384\n",
       "morph.recall                        0.878894\n",
       "morph.F-score                        0.88608\n",
       "morph.word_accuracy                   0.8303\n",
       "config.cell_type                         GRU\n",
       "config.cell_size                         256\n",
       "config.embedding_size                     30\n",
       "config.bidirectional                       1\n",
       "config.num_layers                          3\n",
       "config.batch_size                        512\n",
       "config.model_dir       exps/szeged/lstm/0126"
      ]
     },
     "execution_count": 116,
     "metadata": {},
     "output_type": "execute_result"
    }
   ],
   "source": [
    "boundary_best = lstm_results[res_cols + hp_params].loc[lstm_results['boundary.F-score'].idxmax()].to_frame().dropna()\n",
    "boundary_best"
   ]
  },
  {
   "cell_type": "code",
   "execution_count": 20,
   "metadata": {
    "collapsed": true
   },
   "outputs": [],
   "source": [
    "s = boundary_best.loc[res_cols].rename(\n",
    "    columns={'morph.word_accuracy': 'word accuracy'}\n",
    ").to_latex(header=False)\n",
    "with open(\"szeged/rnn_best.tex\", 'w') as f:\n",
    "    f.write(s)"
   ]
  },
  {
   "cell_type": "code",
   "execution_count": 117,
   "metadata": {},
   "outputs": [
    {
     "ename": "KeyboardInterrupt",
     "evalue": "",
     "output_type": "error",
     "traceback": [
      "\u001b[0;31m---------------------------------------------------------------------------\u001b[0m",
      "\u001b[0;31mKeyboardInterrupt\u001b[0m                         Traceback (most recent call last)",
      "\u001b[0;32m<ipython-input-117-d73f22c4c130>\u001b[0m in \u001b[0;36m<module>\u001b[0;34m()\u001b[0m\n\u001b[1;32m      2\u001b[0m \u001b[0;34m\u001b[0m\u001b[0m\n\u001b[1;32m      3\u001b[0m \u001b[0mm\u001b[0m \u001b[0;34m=\u001b[0m \u001b[0;34m\"../\"\u001b[0m \u001b[0;34m+\u001b[0m \u001b[0mboundary_best\u001b[0m\u001b[0;34m.\u001b[0m\u001b[0mloc\u001b[0m\u001b[0;34m[\u001b[0m\u001b[0;34m'config.model_dir'\u001b[0m\u001b[0;34m]\u001b[0m\u001b[0;34m.\u001b[0m\u001b[0miloc\u001b[0m\u001b[0;34m[\u001b[0m\u001b[0;36m0\u001b[0m\u001b[0;34m]\u001b[0m \u001b[0;34m+\u001b[0m \u001b[0;34m\"/model.hdf5\"\u001b[0m\u001b[0;34m\u001b[0m\u001b[0m\n\u001b[0;32m----> 4\u001b[0;31m \u001b[0mmodel\u001b[0m \u001b[0;34m=\u001b[0m \u001b[0mload_model\u001b[0m\u001b[0;34m(\u001b[0m\u001b[0mm\u001b[0m\u001b[0;34m)\u001b[0m\u001b[0;34m\u001b[0m\u001b[0m\n\u001b[0m",
      "\u001b[0;32m/mnt/permanent/home/judit/miniconda3/envs/keras_deep/lib/python3.6/site-packages/keras/models.py\u001b[0m in \u001b[0;36mload_model\u001b[0;34m(filepath, custom_objects, compile)\u001b[0m\n\u001b[1;32m    289\u001b[0m             optimizer_weight_values = [optimizer_weights_group[n] for n in\n\u001b[1;32m    290\u001b[0m                                        optimizer_weight_names]\n\u001b[0;32m--> 291\u001b[0;31m             \u001b[0mmodel\u001b[0m\u001b[0;34m.\u001b[0m\u001b[0moptimizer\u001b[0m\u001b[0;34m.\u001b[0m\u001b[0mset_weights\u001b[0m\u001b[0;34m(\u001b[0m\u001b[0moptimizer_weight_values\u001b[0m\u001b[0;34m)\u001b[0m\u001b[0;34m\u001b[0m\u001b[0m\n\u001b[0m\u001b[1;32m    292\u001b[0m     \u001b[0;32mreturn\u001b[0m \u001b[0mmodel\u001b[0m\u001b[0;34m\u001b[0m\u001b[0m\n\u001b[1;32m    293\u001b[0m \u001b[0;34m\u001b[0m\u001b[0m\n",
      "\u001b[0;32m/mnt/permanent/home/judit/miniconda3/envs/keras_deep/lib/python3.6/site-packages/keras/optimizers.py\u001b[0m in \u001b[0;36mset_weights\u001b[0;34m(self, weights)\u001b[0m\n\u001b[1;32m     95\u001b[0m         \u001b[0mparams\u001b[0m \u001b[0;34m=\u001b[0m \u001b[0mself\u001b[0m\u001b[0;34m.\u001b[0m\u001b[0mweights\u001b[0m\u001b[0;34m\u001b[0m\u001b[0m\n\u001b[1;32m     96\u001b[0m         \u001b[0mweight_value_tuples\u001b[0m \u001b[0;34m=\u001b[0m \u001b[0;34m[\u001b[0m\u001b[0;34m]\u001b[0m\u001b[0;34m\u001b[0m\u001b[0m\n\u001b[0;32m---> 97\u001b[0;31m         \u001b[0mparam_values\u001b[0m \u001b[0;34m=\u001b[0m \u001b[0mK\u001b[0m\u001b[0;34m.\u001b[0m\u001b[0mbatch_get_value\u001b[0m\u001b[0;34m(\u001b[0m\u001b[0mparams\u001b[0m\u001b[0;34m)\u001b[0m\u001b[0;34m\u001b[0m\u001b[0m\n\u001b[0m\u001b[1;32m     98\u001b[0m         \u001b[0;32mfor\u001b[0m \u001b[0mpv\u001b[0m\u001b[0;34m,\u001b[0m \u001b[0mp\u001b[0m\u001b[0;34m,\u001b[0m \u001b[0mw\u001b[0m \u001b[0;32min\u001b[0m \u001b[0mzip\u001b[0m\u001b[0;34m(\u001b[0m\u001b[0mparam_values\u001b[0m\u001b[0;34m,\u001b[0m \u001b[0mparams\u001b[0m\u001b[0;34m,\u001b[0m \u001b[0mweights\u001b[0m\u001b[0;34m)\u001b[0m\u001b[0;34m:\u001b[0m\u001b[0;34m\u001b[0m\u001b[0m\n\u001b[1;32m     99\u001b[0m             \u001b[0;32mif\u001b[0m \u001b[0mpv\u001b[0m\u001b[0;34m.\u001b[0m\u001b[0mshape\u001b[0m \u001b[0;34m!=\u001b[0m \u001b[0mw\u001b[0m\u001b[0;34m.\u001b[0m\u001b[0mshape\u001b[0m\u001b[0;34m:\u001b[0m\u001b[0;34m\u001b[0m\u001b[0m\n",
      "\u001b[0;32m/mnt/permanent/home/judit/miniconda3/envs/keras_deep/lib/python3.6/site-packages/keras/backend/tensorflow_backend.py\u001b[0m in \u001b[0;36mbatch_get_value\u001b[0;34m(ops)\u001b[0m\n\u001b[1;32m   2137\u001b[0m     \"\"\"\n\u001b[1;32m   2138\u001b[0m     \u001b[0;32mif\u001b[0m \u001b[0mops\u001b[0m\u001b[0;34m:\u001b[0m\u001b[0;34m\u001b[0m\u001b[0m\n\u001b[0;32m-> 2139\u001b[0;31m         \u001b[0;32mreturn\u001b[0m \u001b[0mget_session\u001b[0m\u001b[0;34m(\u001b[0m\u001b[0;34m)\u001b[0m\u001b[0;34m.\u001b[0m\u001b[0mrun\u001b[0m\u001b[0;34m(\u001b[0m\u001b[0mops\u001b[0m\u001b[0;34m)\u001b[0m\u001b[0;34m\u001b[0m\u001b[0m\n\u001b[0m\u001b[1;32m   2140\u001b[0m     \u001b[0;32melse\u001b[0m\u001b[0;34m:\u001b[0m\u001b[0;34m\u001b[0m\u001b[0m\n\u001b[1;32m   2141\u001b[0m         \u001b[0;32mreturn\u001b[0m \u001b[0;34m[\u001b[0m\u001b[0;34m]\u001b[0m\u001b[0;34m\u001b[0m\u001b[0m\n",
      "\u001b[0;32m/mnt/permanent/home/judit/miniconda3/envs/keras_deep/lib/python3.6/site-packages/keras/backend/tensorflow_backend.py\u001b[0m in \u001b[0;36mget_session\u001b[0;34m()\u001b[0m\n\u001b[1;32m    165\u001b[0m     \u001b[0;32mif\u001b[0m \u001b[0;32mnot\u001b[0m \u001b[0m_MANUAL_VAR_INIT\u001b[0m\u001b[0;34m:\u001b[0m\u001b[0;34m\u001b[0m\u001b[0m\n\u001b[1;32m    166\u001b[0m         \u001b[0;32mwith\u001b[0m \u001b[0msession\u001b[0m\u001b[0;34m.\u001b[0m\u001b[0mgraph\u001b[0m\u001b[0;34m.\u001b[0m\u001b[0mas_default\u001b[0m\u001b[0;34m(\u001b[0m\u001b[0;34m)\u001b[0m\u001b[0;34m:\u001b[0m\u001b[0;34m\u001b[0m\u001b[0m\n\u001b[0;32m--> 167\u001b[0;31m             \u001b[0m_initialize_variables\u001b[0m\u001b[0;34m(\u001b[0m\u001b[0;34m)\u001b[0m\u001b[0;34m\u001b[0m\u001b[0m\n\u001b[0m\u001b[1;32m    168\u001b[0m     \u001b[0;32mreturn\u001b[0m \u001b[0msession\u001b[0m\u001b[0;34m\u001b[0m\u001b[0m\n\u001b[1;32m    169\u001b[0m \u001b[0;34m\u001b[0m\u001b[0m\n",
      "\u001b[0;32m/mnt/permanent/home/judit/miniconda3/envs/keras_deep/lib/python3.6/site-packages/keras/backend/tensorflow_backend.py\u001b[0m in \u001b[0;36m_initialize_variables\u001b[0;34m()\u001b[0m\n\u001b[1;32m    338\u001b[0m     \u001b[0;32mif\u001b[0m \u001b[0muninitialized_variables\u001b[0m\u001b[0;34m:\u001b[0m\u001b[0;34m\u001b[0m\u001b[0m\n\u001b[1;32m    339\u001b[0m         \u001b[0msess\u001b[0m \u001b[0;34m=\u001b[0m \u001b[0mget_session\u001b[0m\u001b[0;34m(\u001b[0m\u001b[0;34m)\u001b[0m\u001b[0;34m\u001b[0m\u001b[0m\n\u001b[0;32m--> 340\u001b[0;31m         \u001b[0msess\u001b[0m\u001b[0;34m.\u001b[0m\u001b[0mrun\u001b[0m\u001b[0;34m(\u001b[0m\u001b[0mtf\u001b[0m\u001b[0;34m.\u001b[0m\u001b[0mvariables_initializer\u001b[0m\u001b[0;34m(\u001b[0m\u001b[0muninitialized_variables\u001b[0m\u001b[0;34m)\u001b[0m\u001b[0;34m)\u001b[0m\u001b[0;34m\u001b[0m\u001b[0m\n\u001b[0m\u001b[1;32m    341\u001b[0m \u001b[0;34m\u001b[0m\u001b[0m\n\u001b[1;32m    342\u001b[0m \u001b[0;34m\u001b[0m\u001b[0m\n",
      "\u001b[0;32m/mnt/permanent/home/judit/miniconda3/envs/keras_deep/lib/python3.6/site-packages/tensorflow/python/client/session.py\u001b[0m in \u001b[0;36mrun\u001b[0;34m(self, fetches, feed_dict, options, run_metadata)\u001b[0m\n\u001b[1;32m    893\u001b[0m     \u001b[0;32mtry\u001b[0m\u001b[0;34m:\u001b[0m\u001b[0;34m\u001b[0m\u001b[0m\n\u001b[1;32m    894\u001b[0m       result = self._run(None, fetches, feed_dict, options_ptr,\n\u001b[0;32m--> 895\u001b[0;31m                          run_metadata_ptr)\n\u001b[0m\u001b[1;32m    896\u001b[0m       \u001b[0;32mif\u001b[0m \u001b[0mrun_metadata\u001b[0m\u001b[0;34m:\u001b[0m\u001b[0;34m\u001b[0m\u001b[0m\n\u001b[1;32m    897\u001b[0m         \u001b[0mproto_data\u001b[0m \u001b[0;34m=\u001b[0m \u001b[0mtf_session\u001b[0m\u001b[0;34m.\u001b[0m\u001b[0mTF_GetBuffer\u001b[0m\u001b[0;34m(\u001b[0m\u001b[0mrun_metadata_ptr\u001b[0m\u001b[0;34m)\u001b[0m\u001b[0;34m\u001b[0m\u001b[0m\n",
      "\u001b[0;32m/mnt/permanent/home/judit/miniconda3/envs/keras_deep/lib/python3.6/site-packages/tensorflow/python/client/session.py\u001b[0m in \u001b[0;36m_run\u001b[0;34m(self, handle, fetches, feed_dict, options, run_metadata)\u001b[0m\n\u001b[1;32m   1122\u001b[0m     \u001b[0;32mif\u001b[0m \u001b[0mfinal_fetches\u001b[0m \u001b[0;32mor\u001b[0m \u001b[0mfinal_targets\u001b[0m \u001b[0;32mor\u001b[0m \u001b[0;34m(\u001b[0m\u001b[0mhandle\u001b[0m \u001b[0;32mand\u001b[0m \u001b[0mfeed_dict_tensor\u001b[0m\u001b[0;34m)\u001b[0m\u001b[0;34m:\u001b[0m\u001b[0;34m\u001b[0m\u001b[0m\n\u001b[1;32m   1123\u001b[0m       results = self._do_run(handle, final_targets, final_fetches,\n\u001b[0;32m-> 1124\u001b[0;31m                              feed_dict_tensor, options, run_metadata)\n\u001b[0m\u001b[1;32m   1125\u001b[0m     \u001b[0;32melse\u001b[0m\u001b[0;34m:\u001b[0m\u001b[0;34m\u001b[0m\u001b[0m\n\u001b[1;32m   1126\u001b[0m       \u001b[0mresults\u001b[0m \u001b[0;34m=\u001b[0m \u001b[0;34m[\u001b[0m\u001b[0;34m]\u001b[0m\u001b[0;34m\u001b[0m\u001b[0m\n",
      "\u001b[0;32m/mnt/permanent/home/judit/miniconda3/envs/keras_deep/lib/python3.6/site-packages/tensorflow/python/client/session.py\u001b[0m in \u001b[0;36m_do_run\u001b[0;34m(self, handle, target_list, fetch_list, feed_dict, options, run_metadata)\u001b[0m\n\u001b[1;32m   1319\u001b[0m     \u001b[0;32mif\u001b[0m \u001b[0mhandle\u001b[0m \u001b[0;32mis\u001b[0m \u001b[0;32mNone\u001b[0m\u001b[0;34m:\u001b[0m\u001b[0;34m\u001b[0m\u001b[0m\n\u001b[1;32m   1320\u001b[0m       return self._do_call(_run_fn, self._session, feeds, fetches, targets,\n\u001b[0;32m-> 1321\u001b[0;31m                            options, run_metadata)\n\u001b[0m\u001b[1;32m   1322\u001b[0m     \u001b[0;32melse\u001b[0m\u001b[0;34m:\u001b[0m\u001b[0;34m\u001b[0m\u001b[0m\n\u001b[1;32m   1323\u001b[0m       \u001b[0;32mreturn\u001b[0m \u001b[0mself\u001b[0m\u001b[0;34m.\u001b[0m\u001b[0m_do_call\u001b[0m\u001b[0;34m(\u001b[0m\u001b[0m_prun_fn\u001b[0m\u001b[0;34m,\u001b[0m \u001b[0mself\u001b[0m\u001b[0;34m.\u001b[0m\u001b[0m_session\u001b[0m\u001b[0;34m,\u001b[0m \u001b[0mhandle\u001b[0m\u001b[0;34m,\u001b[0m \u001b[0mfeeds\u001b[0m\u001b[0;34m,\u001b[0m \u001b[0mfetches\u001b[0m\u001b[0;34m)\u001b[0m\u001b[0;34m\u001b[0m\u001b[0m\n",
      "\u001b[0;32m/mnt/permanent/home/judit/miniconda3/envs/keras_deep/lib/python3.6/site-packages/tensorflow/python/client/session.py\u001b[0m in \u001b[0;36m_do_call\u001b[0;34m(self, fn, *args)\u001b[0m\n\u001b[1;32m   1325\u001b[0m   \u001b[0;32mdef\u001b[0m \u001b[0m_do_call\u001b[0m\u001b[0;34m(\u001b[0m\u001b[0mself\u001b[0m\u001b[0;34m,\u001b[0m \u001b[0mfn\u001b[0m\u001b[0;34m,\u001b[0m \u001b[0;34m*\u001b[0m\u001b[0margs\u001b[0m\u001b[0;34m)\u001b[0m\u001b[0;34m:\u001b[0m\u001b[0;34m\u001b[0m\u001b[0m\n\u001b[1;32m   1326\u001b[0m     \u001b[0;32mtry\u001b[0m\u001b[0;34m:\u001b[0m\u001b[0;34m\u001b[0m\u001b[0m\n\u001b[0;32m-> 1327\u001b[0;31m       \u001b[0;32mreturn\u001b[0m \u001b[0mfn\u001b[0m\u001b[0;34m(\u001b[0m\u001b[0;34m*\u001b[0m\u001b[0margs\u001b[0m\u001b[0;34m)\u001b[0m\u001b[0;34m\u001b[0m\u001b[0m\n\u001b[0m\u001b[1;32m   1328\u001b[0m     \u001b[0;32mexcept\u001b[0m \u001b[0merrors\u001b[0m\u001b[0;34m.\u001b[0m\u001b[0mOpError\u001b[0m \u001b[0;32mas\u001b[0m \u001b[0me\u001b[0m\u001b[0;34m:\u001b[0m\u001b[0;34m\u001b[0m\u001b[0m\n\u001b[1;32m   1329\u001b[0m       \u001b[0mmessage\u001b[0m \u001b[0;34m=\u001b[0m \u001b[0mcompat\u001b[0m\u001b[0;34m.\u001b[0m\u001b[0mas_text\u001b[0m\u001b[0;34m(\u001b[0m\u001b[0me\u001b[0m\u001b[0;34m.\u001b[0m\u001b[0mmessage\u001b[0m\u001b[0;34m)\u001b[0m\u001b[0;34m\u001b[0m\u001b[0m\n",
      "\u001b[0;32m/mnt/permanent/home/judit/miniconda3/envs/keras_deep/lib/python3.6/site-packages/tensorflow/python/client/session.py\u001b[0m in \u001b[0;36m_run_fn\u001b[0;34m(session, feed_dict, fetch_list, target_list, options, run_metadata)\u001b[0m\n\u001b[1;32m   1304\u001b[0m           return tf_session.TF_Run(session, options,\n\u001b[1;32m   1305\u001b[0m                                    \u001b[0mfeed_dict\u001b[0m\u001b[0;34m,\u001b[0m \u001b[0mfetch_list\u001b[0m\u001b[0;34m,\u001b[0m \u001b[0mtarget_list\u001b[0m\u001b[0;34m,\u001b[0m\u001b[0;34m\u001b[0m\u001b[0m\n\u001b[0;32m-> 1306\u001b[0;31m                                    status, run_metadata)\n\u001b[0m\u001b[1;32m   1307\u001b[0m \u001b[0;34m\u001b[0m\u001b[0m\n\u001b[1;32m   1308\u001b[0m     \u001b[0;32mdef\u001b[0m \u001b[0m_prun_fn\u001b[0m\u001b[0;34m(\u001b[0m\u001b[0msession\u001b[0m\u001b[0;34m,\u001b[0m \u001b[0mhandle\u001b[0m\u001b[0;34m,\u001b[0m \u001b[0mfeed_dict\u001b[0m\u001b[0;34m,\u001b[0m \u001b[0mfetch_list\u001b[0m\u001b[0;34m)\u001b[0m\u001b[0;34m:\u001b[0m\u001b[0;34m\u001b[0m\u001b[0m\n",
      "\u001b[0;31mKeyboardInterrupt\u001b[0m: "
     ]
    }
   ],
   "source": [
    "from keras.models import load_model\n",
    "\n",
    "m = \"../\" + boundary_best.loc['config.model_dir'].iloc[0] + \"/model.hdf5\"\n",
    "model = load_model(m)"
   ]
  },
  {
   "cell_type": "code",
   "execution_count": null,
   "metadata": {},
   "outputs": [],
   "source": [
    "model.summary()"
   ]
  },
  {
   "cell_type": "code",
   "execution_count": 23,
   "metadata": {
    "collapsed": true
   },
   "outputs": [],
   "source": [
    "from keras.utils import plot_model\n",
    "\n",
    "plot_model(model)"
   ]
  },
  {
   "cell_type": "code",
   "execution_count": 24,
   "metadata": {},
   "outputs": [
    {
     "data": {
      "text/html": [
       "<div>\n",
       "<style>\n",
       "    .dataframe thead tr:only-child th {\n",
       "        text-align: right;\n",
       "    }\n",
       "\n",
       "    .dataframe thead th {\n",
       "        text-align: left;\n",
       "    }\n",
       "\n",
       "    .dataframe tbody tr th {\n",
       "        vertical-align: top;\n",
       "    }\n",
       "</style>\n",
       "<table border=\"1\" class=\"dataframe\">\n",
       "  <thead>\n",
       "    <tr style=\"text-align: right;\">\n",
       "      <th></th>\n",
       "      <th>13</th>\n",
       "    </tr>\n",
       "  </thead>\n",
       "  <tbody>\n",
       "    <tr>\n",
       "      <th>boundary.precision</th>\n",
       "      <td>0.940408</td>\n",
       "    </tr>\n",
       "    <tr>\n",
       "      <th>boundary.recall</th>\n",
       "      <td>0.914391</td>\n",
       "    </tr>\n",
       "    <tr>\n",
       "      <th>boundary.F-score</th>\n",
       "      <td>0.927217</td>\n",
       "    </tr>\n",
       "    <tr>\n",
       "      <th>morph.accuracy</th>\n",
       "      <td>0.795461</td>\n",
       "    </tr>\n",
       "    <tr>\n",
       "      <th>morph.precision</th>\n",
       "      <td>0.893384</td>\n",
       "    </tr>\n",
       "    <tr>\n",
       "      <th>morph.recall</th>\n",
       "      <td>0.878894</td>\n",
       "    </tr>\n",
       "    <tr>\n",
       "      <th>morph.F-score</th>\n",
       "      <td>0.88608</td>\n",
       "    </tr>\n",
       "    <tr>\n",
       "      <th>morph.word_accuracy</th>\n",
       "      <td>0.8303</td>\n",
       "    </tr>\n",
       "    <tr>\n",
       "      <th>config.cell_type</th>\n",
       "      <td>GRU</td>\n",
       "    </tr>\n",
       "    <tr>\n",
       "      <th>config.cell_size</th>\n",
       "      <td>256</td>\n",
       "    </tr>\n",
       "    <tr>\n",
       "      <th>config.embedding_size</th>\n",
       "      <td>30</td>\n",
       "    </tr>\n",
       "    <tr>\n",
       "      <th>config.bidirectional</th>\n",
       "      <td>1</td>\n",
       "    </tr>\n",
       "    <tr>\n",
       "      <th>config.num_layers</th>\n",
       "      <td>3</td>\n",
       "    </tr>\n",
       "    <tr>\n",
       "      <th>config.batch_size</th>\n",
       "      <td>512</td>\n",
       "    </tr>\n",
       "    <tr>\n",
       "      <th>config.model_dir</th>\n",
       "      <td>exps/szeged/lstm/0126</td>\n",
       "    </tr>\n",
       "  </tbody>\n",
       "</table>\n",
       "</div>"
      ],
      "text/plain": [
       "                                          13\n",
       "boundary.precision                  0.940408\n",
       "boundary.recall                     0.914391\n",
       "boundary.F-score                    0.927217\n",
       "morph.accuracy                      0.795461\n",
       "morph.precision                     0.893384\n",
       "morph.recall                        0.878894\n",
       "morph.F-score                        0.88608\n",
       "morph.word_accuracy                   0.8303\n",
       "config.cell_type                         GRU\n",
       "config.cell_size                         256\n",
       "config.embedding_size                     30\n",
       "config.bidirectional                       1\n",
       "config.num_layers                          3\n",
       "config.batch_size                        512\n",
       "config.model_dir       exps/szeged/lstm/0126"
      ]
     },
     "execution_count": 24,
     "metadata": {},
     "output_type": "execute_result"
    }
   ],
   "source": [
    "morph_best = lstm_results[res_cols + hp_params].loc[lstm_results['morph.F-score'].idxmax()].to_frame().dropna()\n",
    "morph_best"
   ]
  },
  {
   "cell_type": "code",
   "execution_count": 25,
   "metadata": {},
   "outputs": [
    {
     "data": {
      "text/html": [
       "<div>\n",
       "<style>\n",
       "    .dataframe thead tr:only-child th {\n",
       "        text-align: right;\n",
       "    }\n",
       "\n",
       "    .dataframe thead th {\n",
       "        text-align: left;\n",
       "    }\n",
       "\n",
       "    .dataframe tbody tr th {\n",
       "        vertical-align: top;\n",
       "    }\n",
       "</style>\n",
       "<table border=\"1\" class=\"dataframe\">\n",
       "  <thead>\n",
       "    <tr style=\"text-align: right;\">\n",
       "      <th></th>\n",
       "      <th>13</th>\n",
       "    </tr>\n",
       "  </thead>\n",
       "  <tbody>\n",
       "    <tr>\n",
       "      <th>boundary.precision</th>\n",
       "      <td>0.940408</td>\n",
       "    </tr>\n",
       "    <tr>\n",
       "      <th>boundary.recall</th>\n",
       "      <td>0.914391</td>\n",
       "    </tr>\n",
       "    <tr>\n",
       "      <th>boundary.F-score</th>\n",
       "      <td>0.927217</td>\n",
       "    </tr>\n",
       "    <tr>\n",
       "      <th>morph.accuracy</th>\n",
       "      <td>0.795461</td>\n",
       "    </tr>\n",
       "    <tr>\n",
       "      <th>morph.precision</th>\n",
       "      <td>0.893384</td>\n",
       "    </tr>\n",
       "    <tr>\n",
       "      <th>morph.recall</th>\n",
       "      <td>0.878894</td>\n",
       "    </tr>\n",
       "    <tr>\n",
       "      <th>morph.F-score</th>\n",
       "      <td>0.88608</td>\n",
       "    </tr>\n",
       "    <tr>\n",
       "      <th>morph.word_accuracy</th>\n",
       "      <td>0.8303</td>\n",
       "    </tr>\n",
       "    <tr>\n",
       "      <th>config.cell_type</th>\n",
       "      <td>GRU</td>\n",
       "    </tr>\n",
       "    <tr>\n",
       "      <th>config.cell_size</th>\n",
       "      <td>256</td>\n",
       "    </tr>\n",
       "    <tr>\n",
       "      <th>config.embedding_size</th>\n",
       "      <td>30</td>\n",
       "    </tr>\n",
       "    <tr>\n",
       "      <th>config.bidirectional</th>\n",
       "      <td>1</td>\n",
       "    </tr>\n",
       "    <tr>\n",
       "      <th>config.num_layers</th>\n",
       "      <td>3</td>\n",
       "    </tr>\n",
       "    <tr>\n",
       "      <th>config.batch_size</th>\n",
       "      <td>512</td>\n",
       "    </tr>\n",
       "    <tr>\n",
       "      <th>config.model_dir</th>\n",
       "      <td>exps/szeged/lstm/0126</td>\n",
       "    </tr>\n",
       "  </tbody>\n",
       "</table>\n",
       "</div>"
      ],
      "text/plain": [
       "                                          13\n",
       "boundary.precision                  0.940408\n",
       "boundary.recall                     0.914391\n",
       "boundary.F-score                    0.927217\n",
       "morph.accuracy                      0.795461\n",
       "morph.precision                     0.893384\n",
       "morph.recall                        0.878894\n",
       "morph.F-score                        0.88608\n",
       "morph.word_accuracy                   0.8303\n",
       "config.cell_type                         GRU\n",
       "config.cell_size                         256\n",
       "config.embedding_size                     30\n",
       "config.bidirectional                       1\n",
       "config.num_layers                          3\n",
       "config.batch_size                        512\n",
       "config.model_dir       exps/szeged/lstm/0126"
      ]
     },
     "execution_count": 25,
     "metadata": {},
     "output_type": "execute_result"
    }
   ],
   "source": [
    "morph_best = lstm_results[res_cols + hp_params].loc[lstm_results['morph.word_accuracy'].idxmax()].to_frame().dropna()\n",
    "morph_best"
   ]
  },
  {
   "cell_type": "code",
   "execution_count": null,
   "metadata": {
    "collapsed": true
   },
   "outputs": [],
   "source": []
  },
  {
   "cell_type": "markdown",
   "metadata": {},
   "source": [
    "### Is unidirectional any good?"
   ]
  },
  {
   "cell_type": "code",
   "execution_count": 26,
   "metadata": {},
   "outputs": [
    {
     "data": {
      "text/html": [
       "<div>\n",
       "<style>\n",
       "    .dataframe thead tr:only-child th {\n",
       "        text-align: right;\n",
       "    }\n",
       "\n",
       "    .dataframe thead th {\n",
       "        text-align: left;\n",
       "    }\n",
       "\n",
       "    .dataframe tbody tr th {\n",
       "        vertical-align: top;\n",
       "    }\n",
       "</style>\n",
       "<table border=\"1\" class=\"dataframe\">\n",
       "  <thead>\n",
       "    <tr style=\"text-align: right;\">\n",
       "      <th></th>\n",
       "      <th>boundary.precision</th>\n",
       "      <th>boundary.recall</th>\n",
       "      <th>boundary.F-score</th>\n",
       "      <th>morph.accuracy</th>\n",
       "      <th>morph.precision</th>\n",
       "      <th>morph.recall</th>\n",
       "      <th>morph.F-score</th>\n",
       "      <th>morph.word_accuracy</th>\n",
       "    </tr>\n",
       "    <tr>\n",
       "      <th>config.bidirectional</th>\n",
       "      <th></th>\n",
       "      <th></th>\n",
       "      <th></th>\n",
       "      <th></th>\n",
       "      <th></th>\n",
       "      <th></th>\n",
       "      <th></th>\n",
       "      <th></th>\n",
       "    </tr>\n",
       "  </thead>\n",
       "  <tbody>\n",
       "    <tr>\n",
       "      <th>0.0</th>\n",
       "      <td>0.850461</td>\n",
       "      <td>0.778648</td>\n",
       "      <td>0.811779</td>\n",
       "      <td>0.561009</td>\n",
       "      <td>0.733953</td>\n",
       "      <td>0.698955</td>\n",
       "      <td>0.715711</td>\n",
       "      <td>0.592282</td>\n",
       "    </tr>\n",
       "    <tr>\n",
       "      <th>1.0</th>\n",
       "      <td>0.904878</td>\n",
       "      <td>0.866244</td>\n",
       "      <td>0.884805</td>\n",
       "      <td>0.700861</td>\n",
       "      <td>0.833088</td>\n",
       "      <td>0.812655</td>\n",
       "      <td>0.822645</td>\n",
       "      <td>0.740081</td>\n",
       "    </tr>\n",
       "  </tbody>\n",
       "</table>\n",
       "</div>"
      ],
      "text/plain": [
       "                      boundary.precision  boundary.recall  boundary.F-score  \\\n",
       "config.bidirectional                                                          \n",
       "0.0                             0.850461         0.778648          0.811779   \n",
       "1.0                             0.904878         0.866244          0.884805   \n",
       "\n",
       "                      morph.accuracy  morph.precision  morph.recall  \\\n",
       "config.bidirectional                                                  \n",
       "0.0                         0.561009         0.733953      0.698955   \n",
       "1.0                         0.700861         0.833088      0.812655   \n",
       "\n",
       "                      morph.F-score  morph.word_accuracy  \n",
       "config.bidirectional                                      \n",
       "0.0                        0.715711             0.592282  \n",
       "1.0                        0.822645             0.740081  "
      ]
     },
     "execution_count": 26,
     "metadata": {},
     "output_type": "execute_result"
    }
   ],
   "source": [
    "lstm_results.groupby('config.bidirectional').mean()[res_cols]"
   ]
  },
  {
   "cell_type": "markdown",
   "metadata": {},
   "source": [
    "### Number of layers"
   ]
  },
  {
   "cell_type": "code",
   "execution_count": 118,
   "metadata": {},
   "outputs": [
    {
     "data": {
      "text/html": [
       "<div>\n",
       "<style>\n",
       "    .dataframe thead tr:only-child th {\n",
       "        text-align: right;\n",
       "    }\n",
       "\n",
       "    .dataframe thead th {\n",
       "        text-align: left;\n",
       "    }\n",
       "\n",
       "    .dataframe tbody tr th {\n",
       "        vertical-align: top;\n",
       "    }\n",
       "</style>\n",
       "<table border=\"1\" class=\"dataframe\">\n",
       "  <thead>\n",
       "    <tr style=\"text-align: right;\">\n",
       "      <th></th>\n",
       "      <th>boundary.precision</th>\n",
       "      <th>boundary.recall</th>\n",
       "      <th>boundary.F-score</th>\n",
       "      <th>morph.accuracy</th>\n",
       "      <th>morph.precision</th>\n",
       "      <th>morph.recall</th>\n",
       "      <th>morph.F-score</th>\n",
       "      <th>morph.word_accuracy</th>\n",
       "    </tr>\n",
       "    <tr>\n",
       "      <th>config.num_layers</th>\n",
       "      <th></th>\n",
       "      <th></th>\n",
       "      <th></th>\n",
       "      <th></th>\n",
       "      <th></th>\n",
       "      <th></th>\n",
       "      <th></th>\n",
       "      <th></th>\n",
       "    </tr>\n",
       "  </thead>\n",
       "  <tbody>\n",
       "    <tr>\n",
       "      <th>1.0</th>\n",
       "      <td>0.923319</td>\n",
       "      <td>0.912979</td>\n",
       "      <td>0.909513</td>\n",
       "      <td>0.748133</td>\n",
       "      <td>0.856013</td>\n",
       "      <td>0.857834</td>\n",
       "      <td>0.855922</td>\n",
       "      <td>0.7833</td>\n",
       "    </tr>\n",
       "    <tr>\n",
       "      <th>2.0</th>\n",
       "      <td>0.927041</td>\n",
       "      <td>0.917919</td>\n",
       "      <td>0.915874</td>\n",
       "      <td>0.765901</td>\n",
       "      <td>0.870433</td>\n",
       "      <td>0.866771</td>\n",
       "      <td>0.867433</td>\n",
       "      <td>0.8021</td>\n",
       "    </tr>\n",
       "    <tr>\n",
       "      <th>3.0</th>\n",
       "      <td>0.940408</td>\n",
       "      <td>0.925612</td>\n",
       "      <td>0.927217</td>\n",
       "      <td>0.795461</td>\n",
       "      <td>0.893384</td>\n",
       "      <td>0.881170</td>\n",
       "      <td>0.886080</td>\n",
       "      <td>0.8303</td>\n",
       "    </tr>\n",
       "  </tbody>\n",
       "</table>\n",
       "</div>"
      ],
      "text/plain": [
       "                   boundary.precision  boundary.recall  boundary.F-score  \\\n",
       "config.num_layers                                                          \n",
       "1.0                          0.923319         0.912979          0.909513   \n",
       "2.0                          0.927041         0.917919          0.915874   \n",
       "3.0                          0.940408         0.925612          0.927217   \n",
       "\n",
       "                   morph.accuracy  morph.precision  morph.recall  \\\n",
       "config.num_layers                                                  \n",
       "1.0                      0.748133         0.856013      0.857834   \n",
       "2.0                      0.765901         0.870433      0.866771   \n",
       "3.0                      0.795461         0.893384      0.881170   \n",
       "\n",
       "                   morph.F-score  morph.word_accuracy  \n",
       "config.num_layers                                      \n",
       "1.0                     0.855922               0.7833  \n",
       "2.0                     0.867433               0.8021  \n",
       "3.0                     0.886080               0.8303  "
      ]
     },
     "execution_count": 118,
     "metadata": {},
     "output_type": "execute_result"
    }
   ],
   "source": [
    "lstm_results.groupby('config.num_layers').max()[res_cols]"
   ]
  },
  {
   "cell_type": "code",
   "execution_count": 121,
   "metadata": {},
   "outputs": [
    {
     "data": {
      "text/html": [
       "<div>\n",
       "<style>\n",
       "    .dataframe thead tr:only-child th {\n",
       "        text-align: right;\n",
       "    }\n",
       "\n",
       "    .dataframe thead th {\n",
       "        text-align: left;\n",
       "    }\n",
       "\n",
       "    .dataframe tbody tr th {\n",
       "        vertical-align: top;\n",
       "    }\n",
       "</style>\n",
       "<table border=\"1\" class=\"dataframe\">\n",
       "  <thead>\n",
       "    <tr style=\"text-align: right;\">\n",
       "      <th></th>\n",
       "      <th>boundary.precision</th>\n",
       "      <th>boundary.recall</th>\n",
       "      <th>boundary.F-score</th>\n",
       "      <th>morph.accuracy</th>\n",
       "      <th>morph.precision</th>\n",
       "      <th>morph.recall</th>\n",
       "      <th>morph.F-score</th>\n",
       "      <th>morph.word_accuracy</th>\n",
       "    </tr>\n",
       "    <tr>\n",
       "      <th>config.cell_size</th>\n",
       "      <th></th>\n",
       "      <th></th>\n",
       "      <th></th>\n",
       "      <th></th>\n",
       "      <th></th>\n",
       "      <th></th>\n",
       "      <th></th>\n",
       "      <th></th>\n",
       "    </tr>\n",
       "  </thead>\n",
       "  <tbody>\n",
       "    <tr>\n",
       "      <th>8.0</th>\n",
       "      <td>0.847816</td>\n",
       "      <td>0.733247</td>\n",
       "      <td>0.785413</td>\n",
       "      <td>0.525957</td>\n",
       "      <td>0.714353</td>\n",
       "      <td>0.658989</td>\n",
       "      <td>0.685305</td>\n",
       "      <td>0.561463</td>\n",
       "    </tr>\n",
       "    <tr>\n",
       "      <th>16.0</th>\n",
       "      <td>0.870670</td>\n",
       "      <td>0.785761</td>\n",
       "      <td>0.825048</td>\n",
       "      <td>0.590717</td>\n",
       "      <td>0.759689</td>\n",
       "      <td>0.717589</td>\n",
       "      <td>0.737777</td>\n",
       "      <td>0.626394</td>\n",
       "    </tr>\n",
       "    <tr>\n",
       "      <th>32.0</th>\n",
       "      <td>0.879099</td>\n",
       "      <td>0.828588</td>\n",
       "      <td>0.852739</td>\n",
       "      <td>0.636378</td>\n",
       "      <td>0.787300</td>\n",
       "      <td>0.761342</td>\n",
       "      <td>0.774001</td>\n",
       "      <td>0.670374</td>\n",
       "    </tr>\n",
       "    <tr>\n",
       "      <th>64.0</th>\n",
       "      <td>0.882012</td>\n",
       "      <td>0.848854</td>\n",
       "      <td>0.864763</td>\n",
       "      <td>0.657507</td>\n",
       "      <td>0.799290</td>\n",
       "      <td>0.782202</td>\n",
       "      <td>0.790551</td>\n",
       "      <td>0.691787</td>\n",
       "    </tr>\n",
       "    <tr>\n",
       "      <th>128.0</th>\n",
       "      <td>0.887163</td>\n",
       "      <td>0.862691</td>\n",
       "      <td>0.874674</td>\n",
       "      <td>0.674310</td>\n",
       "      <td>0.810698</td>\n",
       "      <td>0.797688</td>\n",
       "      <td>0.804115</td>\n",
       "      <td>0.709340</td>\n",
       "    </tr>\n",
       "    <tr>\n",
       "      <th>256.0</th>\n",
       "      <td>0.890689</td>\n",
       "      <td>0.868035</td>\n",
       "      <td>0.879088</td>\n",
       "      <td>0.683375</td>\n",
       "      <td>0.816659</td>\n",
       "      <td>0.804619</td>\n",
       "      <td>0.810555</td>\n",
       "      <td>0.718667</td>\n",
       "    </tr>\n",
       "    <tr>\n",
       "      <th>512.0</th>\n",
       "      <td>0.906807</td>\n",
       "      <td>0.896041</td>\n",
       "      <td>0.901304</td>\n",
       "      <td>0.730724</td>\n",
       "      <td>0.847241</td>\n",
       "      <td>0.841429</td>\n",
       "      <td>0.844297</td>\n",
       "      <td>0.767750</td>\n",
       "    </tr>\n",
       "  </tbody>\n",
       "</table>\n",
       "</div>"
      ],
      "text/plain": [
       "                  boundary.precision  boundary.recall  boundary.F-score  \\\n",
       "config.cell_size                                                          \n",
       "8.0                         0.847816         0.733247          0.785413   \n",
       "16.0                        0.870670         0.785761          0.825048   \n",
       "32.0                        0.879099         0.828588          0.852739   \n",
       "64.0                        0.882012         0.848854          0.864763   \n",
       "128.0                       0.887163         0.862691          0.874674   \n",
       "256.0                       0.890689         0.868035          0.879088   \n",
       "512.0                       0.906807         0.896041          0.901304   \n",
       "\n",
       "                  morph.accuracy  morph.precision  morph.recall  \\\n",
       "config.cell_size                                                  \n",
       "8.0                     0.525957         0.714353      0.658989   \n",
       "16.0                    0.590717         0.759689      0.717589   \n",
       "32.0                    0.636378         0.787300      0.761342   \n",
       "64.0                    0.657507         0.799290      0.782202   \n",
       "128.0                   0.674310         0.810698      0.797688   \n",
       "256.0                   0.683375         0.816659      0.804619   \n",
       "512.0                   0.730724         0.847241      0.841429   \n",
       "\n",
       "                  morph.F-score  morph.word_accuracy  \n",
       "config.cell_size                                      \n",
       "8.0                    0.685305             0.561463  \n",
       "16.0                   0.737777             0.626394  \n",
       "32.0                   0.774001             0.670374  \n",
       "64.0                   0.790551             0.691787  \n",
       "128.0                  0.804115             0.709340  \n",
       "256.0                  0.810555             0.718667  \n",
       "512.0                  0.844297             0.767750  "
      ]
     },
     "execution_count": 121,
     "metadata": {},
     "output_type": "execute_result"
    },
    {
     "data": {
      "image/png": "[encoded data removed]",
      "text/plain": [
       "<matplotlib.figure.Figure at 0x7fe0f96bfa20>"
      ]
     },
     "metadata": {},
     "output_type": "display_data"
    }
   ],
   "source": [
    "lstm_results.groupby('config.cell_size').max()[res_cols].plot(kind='bar', y=['boundary.F-score', 'morph.word_accuracy'])\n",
    "lstm_results.groupby('config.cell_size').mean()[res_cols]"
   ]
  },
  {
   "cell_type": "code",
   "execution_count": 122,
   "metadata": {},
   "outputs": [
    {
     "data": {
      "text/html": [
       "<div>\n",
       "<style>\n",
       "    .dataframe thead tr:only-child th {\n",
       "        text-align: right;\n",
       "    }\n",
       "\n",
       "    .dataframe thead th {\n",
       "        text-align: left;\n",
       "    }\n",
       "\n",
       "    .dataframe tbody tr th {\n",
       "        vertical-align: top;\n",
       "    }\n",
       "</style>\n",
       "<table border=\"1\" class=\"dataframe\">\n",
       "  <thead>\n",
       "    <tr style=\"text-align: right;\">\n",
       "      <th></th>\n",
       "      <th>boundary.precision</th>\n",
       "      <th>boundary.recall</th>\n",
       "      <th>boundary.F-score</th>\n",
       "      <th>morph.accuracy</th>\n",
       "      <th>morph.precision</th>\n",
       "      <th>morph.recall</th>\n",
       "      <th>morph.F-score</th>\n",
       "      <th>morph.word_accuracy</th>\n",
       "    </tr>\n",
       "    <tr>\n",
       "      <th>config.embedding_size</th>\n",
       "      <th></th>\n",
       "      <th></th>\n",
       "      <th></th>\n",
       "      <th></th>\n",
       "      <th></th>\n",
       "      <th></th>\n",
       "      <th></th>\n",
       "      <th></th>\n",
       "    </tr>\n",
       "  </thead>\n",
       "  <tbody>\n",
       "    <tr>\n",
       "      <th>5.0</th>\n",
       "      <td>0.927739</td>\n",
       "      <td>0.918131</td>\n",
       "      <td>0.919591</td>\n",
       "      <td>0.773522</td>\n",
       "      <td>0.873114</td>\n",
       "      <td>0.871488</td>\n",
       "      <td>0.872300</td>\n",
       "      <td>0.8076</td>\n",
       "    </tr>\n",
       "    <tr>\n",
       "      <th>10.0</th>\n",
       "      <td>0.928197</td>\n",
       "      <td>0.910509</td>\n",
       "      <td>0.915874</td>\n",
       "      <td>0.765901</td>\n",
       "      <td>0.870433</td>\n",
       "      <td>0.864454</td>\n",
       "      <td>0.867433</td>\n",
       "      <td>0.8021</td>\n",
       "    </tr>\n",
       "    <tr>\n",
       "      <th>20.0</th>\n",
       "      <td>0.932278</td>\n",
       "      <td>0.922366</td>\n",
       "      <td>0.925337</td>\n",
       "      <td>0.790241</td>\n",
       "      <td>0.884500</td>\n",
       "      <td>0.881170</td>\n",
       "      <td>0.882832</td>\n",
       "      <td>0.8253</td>\n",
       "    </tr>\n",
       "    <tr>\n",
       "      <th>30.0</th>\n",
       "      <td>0.940408</td>\n",
       "      <td>0.925612</td>\n",
       "      <td>0.927217</td>\n",
       "      <td>0.795461</td>\n",
       "      <td>0.893384</td>\n",
       "      <td>0.879681</td>\n",
       "      <td>0.886080</td>\n",
       "      <td>0.8303</td>\n",
       "    </tr>\n",
       "    <tr>\n",
       "      <th>40.0</th>\n",
       "      <td>0.935127</td>\n",
       "      <td>0.920601</td>\n",
       "      <td>0.926299</td>\n",
       "      <td>0.792565</td>\n",
       "      <td>0.889182</td>\n",
       "      <td>0.880715</td>\n",
       "      <td>0.884280</td>\n",
       "      <td>0.8282</td>\n",
       "    </tr>\n",
       "  </tbody>\n",
       "</table>\n",
       "</div>"
      ],
      "text/plain": [
       "                       boundary.precision  boundary.recall  boundary.F-score  \\\n",
       "config.embedding_size                                                          \n",
       "5.0                              0.927739         0.918131          0.919591   \n",
       "10.0                             0.928197         0.910509          0.915874   \n",
       "20.0                             0.932278         0.922366          0.925337   \n",
       "30.0                             0.940408         0.925612          0.927217   \n",
       "40.0                             0.935127         0.920601          0.926299   \n",
       "\n",
       "                       morph.accuracy  morph.precision  morph.recall  \\\n",
       "config.embedding_size                                                  \n",
       "5.0                          0.773522         0.873114      0.871488   \n",
       "10.0                         0.765901         0.870433      0.864454   \n",
       "20.0                         0.790241         0.884500      0.881170   \n",
       "30.0                         0.795461         0.893384      0.879681   \n",
       "40.0                         0.792565         0.889182      0.880715   \n",
       "\n",
       "                       morph.F-score  morph.word_accuracy  \n",
       "config.embedding_size                                      \n",
       "5.0                         0.872300               0.8076  \n",
       "10.0                        0.867433               0.8021  \n",
       "20.0                        0.882832               0.8253  \n",
       "30.0                        0.886080               0.8303  \n",
       "40.0                        0.884280               0.8282  "
      ]
     },
     "execution_count": 122,
     "metadata": {},
     "output_type": "execute_result"
    }
   ],
   "source": [
    "lstm_results.groupby('config.embedding_size').max()[res_cols]"
   ]
  },
  {
   "cell_type": "markdown",
   "metadata": {},
   "source": [
    "## Best CNN"
   ]
  },
  {
   "cell_type": "code",
   "execution_count": 30,
   "metadata": {
    "collapsed": true
   },
   "outputs": [],
   "source": [
    "hp_params = [\n",
    "    'cell_type', 'cell_size', 'embedding_size', 'bidirectional', 'num_layers', 'layers',\n",
    "    'batch_size',\n",
    "]\n",
    "hp_params = ['config.{}'.format(c) for c in hp_params]"
   ]
  },
  {
   "cell_type": "code",
   "execution_count": 31,
   "metadata": {},
   "outputs": [
    {
     "data": {
      "text/html": [
       "<div>\n",
       "<style>\n",
       "    .dataframe thead tr:only-child th {\n",
       "        text-align: right;\n",
       "    }\n",
       "\n",
       "    .dataframe thead th {\n",
       "        text-align: left;\n",
       "    }\n",
       "\n",
       "    .dataframe tbody tr th {\n",
       "        vertical-align: top;\n",
       "    }\n",
       "</style>\n",
       "<table border=\"1\" class=\"dataframe\">\n",
       "  <thead>\n",
       "    <tr style=\"text-align: right;\">\n",
       "      <th></th>\n",
       "      <th>239</th>\n",
       "    </tr>\n",
       "  </thead>\n",
       "  <tbody>\n",
       "    <tr>\n",
       "      <th>boundary.precision</th>\n",
       "      <td>0.924944</td>\n",
       "    </tr>\n",
       "    <tr>\n",
       "      <th>boundary.recall</th>\n",
       "      <td>0.930623</td>\n",
       "    </tr>\n",
       "    <tr>\n",
       "      <th>boundary.F-score</th>\n",
       "      <td>0.927775</td>\n",
       "    </tr>\n",
       "    <tr>\n",
       "      <th>morph.accuracy</th>\n",
       "      <td>0.794648</td>\n",
       "    </tr>\n",
       "    <tr>\n",
       "      <th>morph.precision</th>\n",
       "      <td>0.883987</td>\n",
       "    </tr>\n",
       "    <tr>\n",
       "      <th>morph.recall</th>\n",
       "      <td>0.88717</td>\n",
       "    </tr>\n",
       "    <tr>\n",
       "      <th>morph.F-score</th>\n",
       "      <td>0.885576</td>\n",
       "    </tr>\n",
       "    <tr>\n",
       "      <th>morph.word_accuracy</th>\n",
       "      <td>0.8273</td>\n",
       "    </tr>\n",
       "    <tr>\n",
       "      <th>config.cell_type</th>\n",
       "      <td>LSTM</td>\n",
       "    </tr>\n",
       "    <tr>\n",
       "      <th>config.cell_size</th>\n",
       "      <td>256</td>\n",
       "    </tr>\n",
       "    <tr>\n",
       "      <th>config.embedding_size</th>\n",
       "      <td>30</td>\n",
       "    </tr>\n",
       "    <tr>\n",
       "      <th>config.bidirectional</th>\n",
       "      <td>True</td>\n",
       "    </tr>\n",
       "    <tr>\n",
       "      <th>config.num_layers</th>\n",
       "      <td>2</td>\n",
       "    </tr>\n",
       "    <tr>\n",
       "      <th>config.layers</th>\n",
       "      <td>[{'padding': 'same', 'filters': 100, 'kernel_s...</td>\n",
       "    </tr>\n",
       "    <tr>\n",
       "      <th>config.batch_size</th>\n",
       "      <td>512</td>\n",
       "    </tr>\n",
       "  </tbody>\n",
       "</table>\n",
       "</div>"
      ],
      "text/plain": [
       "                                                                     239\n",
       "boundary.precision                                              0.924944\n",
       "boundary.recall                                                 0.930623\n",
       "boundary.F-score                                                0.927775\n",
       "morph.accuracy                                                  0.794648\n",
       "morph.precision                                                 0.883987\n",
       "morph.recall                                                     0.88717\n",
       "morph.F-score                                                   0.885576\n",
       "morph.word_accuracy                                               0.8273\n",
       "config.cell_type                                                    LSTM\n",
       "config.cell_size                                                     256\n",
       "config.embedding_size                                                 30\n",
       "config.bidirectional                                                True\n",
       "config.num_layers                                                      2\n",
       "config.layers          [{'padding': 'same', 'filters': 100, 'kernel_s...\n",
       "config.batch_size                                                    512"
      ]
     },
     "execution_count": 31,
     "metadata": {},
     "output_type": "execute_result"
    }
   ],
   "source": [
    "boundary_best = cnn_results[res_cols + hp_params].loc[cnn_results['boundary.F-score'].idxmax()].to_frame().dropna()\n",
    "boundary_best"
   ]
  },
  {
   "cell_type": "code",
   "execution_count": 32,
   "metadata": {},
   "outputs": [
    {
     "data": {
      "text/plain": [
       "[{'activation': 'relu',\n",
       "  'filters': 100,\n",
       "  'kernel_size': 10,\n",
       "  'padding': 'same',\n",
       "  'strides': 1}]"
      ]
     },
     "execution_count": 32,
     "metadata": {},
     "output_type": "execute_result"
    }
   ],
   "source": [
    "eval(boundary_best.loc['config.layers'].iloc[0])"
   ]
  },
  {
   "cell_type": "code",
   "execution_count": 33,
   "metadata": {
    "collapsed": true
   },
   "outputs": [],
   "source": [
    "s = boundary_best.loc[res_cols].rename(\n",
    "    columns={'morph.word_accuracy': 'word accuracy'}\n",
    ").to_latex(header=False)\n",
    "with open(\"szeged/cnn_best.tex\", 'w') as f:\n",
    "    f.write(s)"
   ]
  },
  {
   "cell_type": "code",
   "execution_count": 34,
   "metadata": {},
   "outputs": [
    {
     "data": {
      "text/html": [
       "<div>\n",
       "<style>\n",
       "    .dataframe thead tr:only-child th {\n",
       "        text-align: right;\n",
       "    }\n",
       "\n",
       "    .dataframe thead th {\n",
       "        text-align: left;\n",
       "    }\n",
       "\n",
       "    .dataframe tbody tr th {\n",
       "        vertical-align: top;\n",
       "    }\n",
       "</style>\n",
       "<table border=\"1\" class=\"dataframe\">\n",
       "  <thead>\n",
       "    <tr style=\"text-align: right;\">\n",
       "      <th></th>\n",
       "      <th>239</th>\n",
       "    </tr>\n",
       "  </thead>\n",
       "  <tbody>\n",
       "    <tr>\n",
       "      <th>boundary.precision</th>\n",
       "      <td>0.924944</td>\n",
       "    </tr>\n",
       "    <tr>\n",
       "      <th>boundary.recall</th>\n",
       "      <td>0.930623</td>\n",
       "    </tr>\n",
       "    <tr>\n",
       "      <th>boundary.F-score</th>\n",
       "      <td>0.927775</td>\n",
       "    </tr>\n",
       "    <tr>\n",
       "      <th>morph.accuracy</th>\n",
       "      <td>0.794648</td>\n",
       "    </tr>\n",
       "    <tr>\n",
       "      <th>morph.precision</th>\n",
       "      <td>0.883987</td>\n",
       "    </tr>\n",
       "    <tr>\n",
       "      <th>morph.recall</th>\n",
       "      <td>0.88717</td>\n",
       "    </tr>\n",
       "    <tr>\n",
       "      <th>morph.F-score</th>\n",
       "      <td>0.885576</td>\n",
       "    </tr>\n",
       "    <tr>\n",
       "      <th>morph.word_accuracy</th>\n",
       "      <td>0.8273</td>\n",
       "    </tr>\n",
       "    <tr>\n",
       "      <th>config.cell_type</th>\n",
       "      <td>LSTM</td>\n",
       "    </tr>\n",
       "    <tr>\n",
       "      <th>config.cell_size</th>\n",
       "      <td>256</td>\n",
       "    </tr>\n",
       "    <tr>\n",
       "      <th>config.embedding_size</th>\n",
       "      <td>30</td>\n",
       "    </tr>\n",
       "    <tr>\n",
       "      <th>config.bidirectional</th>\n",
       "      <td>True</td>\n",
       "    </tr>\n",
       "    <tr>\n",
       "      <th>config.num_layers</th>\n",
       "      <td>2</td>\n",
       "    </tr>\n",
       "    <tr>\n",
       "      <th>config.layers</th>\n",
       "      <td>[{'padding': 'same', 'filters': 100, 'kernel_s...</td>\n",
       "    </tr>\n",
       "    <tr>\n",
       "      <th>config.batch_size</th>\n",
       "      <td>512</td>\n",
       "    </tr>\n",
       "  </tbody>\n",
       "</table>\n",
       "</div>"
      ],
      "text/plain": [
       "                                                                     239\n",
       "boundary.precision                                              0.924944\n",
       "boundary.recall                                                 0.930623\n",
       "boundary.F-score                                                0.927775\n",
       "morph.accuracy                                                  0.794648\n",
       "morph.precision                                                 0.883987\n",
       "morph.recall                                                     0.88717\n",
       "morph.F-score                                                   0.885576\n",
       "morph.word_accuracy                                               0.8273\n",
       "config.cell_type                                                    LSTM\n",
       "config.cell_size                                                     256\n",
       "config.embedding_size                                                 30\n",
       "config.bidirectional                                                True\n",
       "config.num_layers                                                      2\n",
       "config.layers          [{'padding': 'same', 'filters': 100, 'kernel_s...\n",
       "config.batch_size                                                    512"
      ]
     },
     "execution_count": 34,
     "metadata": {},
     "output_type": "execute_result"
    }
   ],
   "source": [
    "morph_best = cnn_results[res_cols + hp_params].loc[cnn_results['morph.F-score'].idxmax()].to_frame().dropna()\n",
    "morph_best"
   ]
  },
  {
   "cell_type": "code",
   "execution_count": 123,
   "metadata": {},
   "outputs": [
    {
     "data": {
      "text/html": [
       "<div>\n",
       "<style>\n",
       "    .dataframe thead tr:only-child th {\n",
       "        text-align: right;\n",
       "    }\n",
       "\n",
       "    .dataframe thead th {\n",
       "        text-align: left;\n",
       "    }\n",
       "\n",
       "    .dataframe tbody tr th {\n",
       "        vertical-align: top;\n",
       "    }\n",
       "</style>\n",
       "<table border=\"1\" class=\"dataframe\">\n",
       "  <thead>\n",
       "    <tr style=\"text-align: right;\">\n",
       "      <th></th>\n",
       "      <th>boundary.precision</th>\n",
       "      <th>boundary.recall</th>\n",
       "      <th>boundary.F-score</th>\n",
       "      <th>morph.accuracy</th>\n",
       "      <th>morph.precision</th>\n",
       "      <th>morph.recall</th>\n",
       "      <th>morph.F-score</th>\n",
       "      <th>morph.word_accuracy</th>\n",
       "    </tr>\n",
       "    <tr>\n",
       "      <th>config.num_layers</th>\n",
       "      <th></th>\n",
       "      <th></th>\n",
       "      <th></th>\n",
       "      <th></th>\n",
       "      <th></th>\n",
       "      <th></th>\n",
       "      <th></th>\n",
       "      <th></th>\n",
       "    </tr>\n",
       "  </thead>\n",
       "  <tbody>\n",
       "    <tr>\n",
       "      <th>1</th>\n",
       "      <td>0.931292</td>\n",
       "      <td>0.920531</td>\n",
       "      <td>0.918101</td>\n",
       "      <td>0.769028</td>\n",
       "      <td>0.871264</td>\n",
       "      <td>0.870785</td>\n",
       "      <td>0.869436</td>\n",
       "      <td>0.8027</td>\n",
       "    </tr>\n",
       "    <tr>\n",
       "      <th>2</th>\n",
       "      <td>0.924944</td>\n",
       "      <td>0.930623</td>\n",
       "      <td>0.927775</td>\n",
       "      <td>0.794648</td>\n",
       "      <td>0.883987</td>\n",
       "      <td>0.887170</td>\n",
       "      <td>0.885576</td>\n",
       "      <td>0.8273</td>\n",
       "    </tr>\n",
       "    <tr>\n",
       "      <th>3</th>\n",
       "      <td>1.000000</td>\n",
       "      <td>0.905074</td>\n",
       "      <td>0.898606</td>\n",
       "      <td>0.723854</td>\n",
       "      <td>0.852295</td>\n",
       "      <td>0.843353</td>\n",
       "      <td>0.839809</td>\n",
       "      <td>0.7583</td>\n",
       "    </tr>\n",
       "    <tr>\n",
       "      <th>4</th>\n",
       "      <td>0.934158</td>\n",
       "      <td>0.907262</td>\n",
       "      <td>0.910636</td>\n",
       "      <td>0.753099</td>\n",
       "      <td>0.861037</td>\n",
       "      <td>0.857297</td>\n",
       "      <td>0.859163</td>\n",
       "      <td>0.7889</td>\n",
       "    </tr>\n",
       "    <tr>\n",
       "      <th>5</th>\n",
       "      <td>1.000000</td>\n",
       "      <td>0.910650</td>\n",
       "      <td>0.911269</td>\n",
       "      <td>0.752727</td>\n",
       "      <td>0.864082</td>\n",
       "      <td>0.857793</td>\n",
       "      <td>0.858921</td>\n",
       "      <td>0.7873</td>\n",
       "    </tr>\n",
       "  </tbody>\n",
       "</table>\n",
       "</div>"
      ],
      "text/plain": [
       "                   boundary.precision  boundary.recall  boundary.F-score  \\\n",
       "config.num_layers                                                          \n",
       "1                            0.931292         0.920531          0.918101   \n",
       "2                            0.924944         0.930623          0.927775   \n",
       "3                            1.000000         0.905074          0.898606   \n",
       "4                            0.934158         0.907262          0.910636   \n",
       "5                            1.000000         0.910650          0.911269   \n",
       "\n",
       "                   morph.accuracy  morph.precision  morph.recall  \\\n",
       "config.num_layers                                                  \n",
       "1                        0.769028         0.871264      0.870785   \n",
       "2                        0.794648         0.883987      0.887170   \n",
       "3                        0.723854         0.852295      0.843353   \n",
       "4                        0.753099         0.861037      0.857297   \n",
       "5                        0.752727         0.864082      0.857793   \n",
       "\n",
       "                   morph.F-score  morph.word_accuracy  \n",
       "config.num_layers                                      \n",
       "1                       0.869436               0.8027  \n",
       "2                       0.885576               0.8273  \n",
       "3                       0.839809               0.7583  \n",
       "4                       0.859163               0.7889  \n",
       "5                       0.858921               0.7873  "
      ]
     },
     "execution_count": 123,
     "metadata": {},
     "output_type": "execute_result"
    }
   ],
   "source": [
    "cnn_results.groupby('config.num_layers').max()[res_cols]"
   ]
  },
  {
   "cell_type": "code",
   "execution_count": 36,
   "metadata": {
    "collapsed": true
   },
   "outputs": [],
   "source": [
    "cnn_results['config.sum_filters'] = cnn_results['config.layers'].apply(lambda x: sum((l['filters']) for l in eval(x)))"
   ]
  },
  {
   "cell_type": "code",
   "execution_count": 37,
   "metadata": {},
   "outputs": [
    {
     "data": {
      "text/plain": [
       "<matplotlib.axes._subplots.AxesSubplot at 0x7fe17246e2e8>"
      ]
     },
     "execution_count": 37,
     "metadata": {},
     "output_type": "execute_result"
    },
    {
     "data": {
      "image/png": "[encoded data removed]",
      "text/plain": [
       "<matplotlib.figure.Figure at 0x7fe172447f98>"
      ]
     },
     "metadata": {},
     "output_type": "display_data"
    }
   ],
   "source": [
    "cnn_results.groupby('config.sum_filters').mean()['morph.word_accuracy'].plot()"
   ]
  },
  {
   "cell_type": "code",
   "execution_count": 124,
   "metadata": {
    "collapsed": true
   },
   "outputs": [],
   "source": [
    "cnn_results['config.minkernel'] = cnn_results['config.layers'].apply(\n",
    "    lambda x: min(l['kernel_size'] for l in eval(x)))\n",
    "cnn_results['config.maxkernel'] = cnn_results['config.layers'].apply(\n",
    "    lambda x: max(l['kernel_size'] for l in eval(x)))"
   ]
  },
  {
   "cell_type": "code",
   "execution_count": 125,
   "metadata": {
    "collapsed": true
   },
   "outputs": [],
   "source": [
    "b = cnn_results.groupby('config.minkernel')[res_cols].max()[\n",
    "    ['boundary.F-score', 'morph.F-score', 'morph.word_accuracy']]\n",
    "s = b.reset_index().rename(columns={\n",
    "    'config.minkernel': 'Minimum kernel',\n",
    "    'morph.word_accuracy': 'Word accuracy',\n",
    "    'boundary.F-score': 'Boundary F-score',\n",
    "    'morph.F-score': 'Morph F-score',\n",
    "}).to_latex(index=False, bold_rows=True)\n",
    "with open(\"szeged/minkernel.tex\", 'w') as f:\n",
    "    f.write(s)"
   ]
  },
  {
   "cell_type": "code",
   "execution_count": 40,
   "metadata": {
    "collapsed": true
   },
   "outputs": [],
   "source": [
    "b = cnn_results.groupby('config.maxkernel')[res_cols].max()[\n",
    "    ['boundary.F-score', 'morph.F-score', 'morph.word_accuracy']]\n",
    "s = b.reset_index().rename(columns={\n",
    "    'config.maxkernel': 'Maximum kernel',\n",
    "    'morph.word_accuracy': 'Word accuracy',\n",
    "    'boundary.F-score': 'Boundary F-score',\n",
    "    'morph.F-score': 'Morph F-score',\n",
    "}).to_latex(index=False, bold_rows=True)\n",
    "with open(\"szeged/maxkernel.tex\", 'w') as f:\n",
    "    f.write(s)"
   ]
  },
  {
   "cell_type": "code",
   "execution_count": 126,
   "metadata": {},
   "outputs": [
    {
     "data": {
      "text/html": [
       "<div>\n",
       "<style>\n",
       "    .dataframe thead tr:only-child th {\n",
       "        text-align: right;\n",
       "    }\n",
       "\n",
       "    .dataframe thead th {\n",
       "        text-align: left;\n",
       "    }\n",
       "\n",
       "    .dataframe tbody tr th {\n",
       "        vertical-align: top;\n",
       "    }\n",
       "</style>\n",
       "<table border=\"1\" class=\"dataframe\">\n",
       "  <thead>\n",
       "    <tr style=\"text-align: right;\">\n",
       "      <th></th>\n",
       "      <th>boundary.precision</th>\n",
       "      <th>boundary.recall</th>\n",
       "      <th>boundary.F-score</th>\n",
       "      <th>morph.accuracy</th>\n",
       "      <th>morph.precision</th>\n",
       "      <th>morph.recall</th>\n",
       "      <th>morph.F-score</th>\n",
       "      <th>morph.word_accuracy</th>\n",
       "    </tr>\n",
       "    <tr>\n",
       "      <th>config.minkernel</th>\n",
       "      <th></th>\n",
       "      <th></th>\n",
       "      <th></th>\n",
       "      <th></th>\n",
       "      <th></th>\n",
       "      <th></th>\n",
       "      <th></th>\n",
       "      <th></th>\n",
       "    </tr>\n",
       "  </thead>\n",
       "  <tbody>\n",
       "    <tr>\n",
       "      <th>1</th>\n",
       "      <td>1.000000</td>\n",
       "      <td>0.905498</td>\n",
       "      <td>0.903006</td>\n",
       "      <td>0.736653</td>\n",
       "      <td>0.852295</td>\n",
       "      <td>0.846622</td>\n",
       "      <td>0.848359</td>\n",
       "      <td>0.7732</td>\n",
       "    </tr>\n",
       "    <tr>\n",
       "      <th>2</th>\n",
       "      <td>0.934158</td>\n",
       "      <td>0.905427</td>\n",
       "      <td>0.910472</td>\n",
       "      <td>0.753502</td>\n",
       "      <td>0.871264</td>\n",
       "      <td>0.856469</td>\n",
       "      <td>0.859425</td>\n",
       "      <td>0.7925</td>\n",
       "    </tr>\n",
       "    <tr>\n",
       "      <th>5</th>\n",
       "      <td>0.920689</td>\n",
       "      <td>0.915096</td>\n",
       "      <td>0.911269</td>\n",
       "      <td>0.752727</td>\n",
       "      <td>0.864082</td>\n",
       "      <td>0.859614</td>\n",
       "      <td>0.858921</td>\n",
       "      <td>0.7873</td>\n",
       "    </tr>\n",
       "    <tr>\n",
       "      <th>10</th>\n",
       "      <td>0.924944</td>\n",
       "      <td>0.930623</td>\n",
       "      <td>0.927775</td>\n",
       "      <td>0.794648</td>\n",
       "      <td>0.883987</td>\n",
       "      <td>0.887170</td>\n",
       "      <td>0.885576</td>\n",
       "      <td>0.8273</td>\n",
       "    </tr>\n",
       "  </tbody>\n",
       "</table>\n",
       "</div>"
      ],
      "text/plain": [
       "                  boundary.precision  boundary.recall  boundary.F-score  \\\n",
       "config.minkernel                                                          \n",
       "1                           1.000000         0.905498          0.903006   \n",
       "2                           0.934158         0.905427          0.910472   \n",
       "5                           0.920689         0.915096          0.911269   \n",
       "10                          0.924944         0.930623          0.927775   \n",
       "\n",
       "                  morph.accuracy  morph.precision  morph.recall  \\\n",
       "config.minkernel                                                  \n",
       "1                       0.736653         0.852295      0.846622   \n",
       "2                       0.753502         0.871264      0.856469   \n",
       "5                       0.752727         0.864082      0.859614   \n",
       "10                      0.794648         0.883987      0.887170   \n",
       "\n",
       "                  morph.F-score  morph.word_accuracy  \n",
       "config.minkernel                                      \n",
       "1                      0.848359               0.7732  \n",
       "2                      0.859425               0.7925  \n",
       "5                      0.858921               0.7873  \n",
       "10                     0.885576               0.8273  "
      ]
     },
     "execution_count": 126,
     "metadata": {},
     "output_type": "execute_result"
    }
   ],
   "source": [
    "cnn_results.groupby('config.minkernel').max()[res_cols]"
   ]
  },
  {
   "cell_type": "code",
   "execution_count": 127,
   "metadata": {},
   "outputs": [
    {
     "data": {
      "text/plain": [
       "13.448568285562988"
      ]
     },
     "execution_count": 127,
     "metadata": {},
     "output_type": "execute_result"
    }
   ],
   "source": [
    "cnn_results['result.running_time'].mean() / 60"
   ]
  },
  {
   "cell_type": "code",
   "execution_count": 129,
   "metadata": {},
   "outputs": [
    {
     "data": {
      "text/plain": [
       "count     299.000000\n",
       "mean      806.914097\n",
       "std       464.928460\n",
       "min        66.373190\n",
       "25%       557.820638\n",
       "50%       716.430526\n",
       "75%      1082.524136\n",
       "max      3781.732782\n",
       "Name: result.running_time, dtype: float64"
      ]
     },
     "execution_count": 129,
     "metadata": {},
     "output_type": "execute_result"
    }
   ],
   "source": [
    "cnn_results['result.running_time'].describe()"
   ]
  },
  {
   "cell_type": "code",
   "execution_count": 135,
   "metadata": {},
   "outputs": [
    {
     "data": {
      "text/plain": [
       "\"[{'padding': 'same', 'filters': 10, 'kernel_size': 10, 'strides': 1, 'activation': 'sigmoid'}, {'padding': 'same', 'filters': 30, 'kernel_size': 10, 'strides': 1, 'activation': 'relu'}, {'padding': 'same', 'filters': 100, 'kernel_size': 5, 'strides': 1, 'activation': 'sigmoid'}]\""
      ]
     },
     "execution_count": 135,
     "metadata": {},
     "output_type": "execute_result"
    }
   ],
   "source": [
    "cnn_results.loc[cnn_results['result.running_time'].argmax()].loc['config.layers']"
   ]
  },
  {
   "cell_type": "code",
   "execution_count": 43,
   "metadata": {},
   "outputs": [
    {
     "data": {
      "text/plain": [
       "result.early_stopped\n",
       "False    120\n",
       "True     179\n",
       "dtype: int64"
      ]
     },
     "execution_count": 43,
     "metadata": {},
     "output_type": "execute_result"
    }
   ],
   "source": [
    "cnn_results['result.early_stopped'] = (cnn_results['result.epochs_run'] < 100)\n",
    "c = cnn_results.groupby('result.early_stopped').size()\n",
    "c"
   ]
  },
  {
   "cell_type": "code",
   "execution_count": 44,
   "metadata": {},
   "outputs": [
    {
     "data": {
      "text/plain": [
       "result.early_stopped\n",
       "False    0.401338\n",
       "True     0.598662\n",
       "dtype: float64"
      ]
     },
     "execution_count": 44,
     "metadata": {},
     "output_type": "execute_result"
    }
   ],
   "source": [
    "c / c.sum()"
   ]
  },
  {
   "cell_type": "code",
   "execution_count": 45,
   "metadata": {},
   "outputs": [
    {
     "data": {
      "text/plain": [
       "38.702237634077889"
      ]
     },
     "execution_count": 45,
     "metadata": {},
     "output_type": "execute_result"
    }
   ],
   "source": [
    "lstm_results['result.running_time'].mean() / 60"
   ]
  },
  {
   "cell_type": "code",
   "execution_count": 46,
   "metadata": {},
   "outputs": [
    {
     "data": {
      "text/plain": [
       "result.early_stopped\n",
       "False    104\n",
       "True     187\n",
       "dtype: int64"
      ]
     },
     "execution_count": 46,
     "metadata": {},
     "output_type": "execute_result"
    }
   ],
   "source": [
    "lstm_results['result.early_stopped'] = (lstm_results['result.epochs_run'] < 100)\n",
    "l = lstm_results.groupby('result.early_stopped').size()\n",
    "l"
   ]
  },
  {
   "cell_type": "code",
   "execution_count": 47,
   "metadata": {},
   "outputs": [
    {
     "data": {
      "text/plain": [
       "result.early_stopped\n",
       "False    0.357388\n",
       "True     0.642612\n",
       "dtype: float64"
      ]
     },
     "execution_count": 47,
     "metadata": {},
     "output_type": "execute_result"
    }
   ],
   "source": [
    "l / l.sum()"
   ]
  },
  {
   "cell_type": "code",
   "execution_count": 48,
   "metadata": {},
   "outputs": [
    {
     "data": {
      "text/plain": [
       "count    299.000000\n",
       "mean      77.645485\n",
       "std       28.007814\n",
       "min        6.000000\n",
       "25%       63.500000\n",
       "50%       90.000000\n",
       "75%      100.000000\n",
       "max      100.000000\n",
       "Name: result.epochs_run, dtype: float64"
      ]
     },
     "execution_count": 48,
     "metadata": {},
     "output_type": "execute_result"
    }
   ],
   "source": [
    "cnn_results['result.epochs_run'].describe()"
   ]
  }
 ],
 "metadata": {
  "kernelspec": {
   "display_name": "Python 3",
   "language": "python",
   "name": "python3"
  },
  "language_info": {
   "codemirror_mode": {
    "name": "ipython",
    "version": 3
   },
   "file_extension": ".py",
   "mimetype": "text/x-python",
   "name": "python",
   "nbconvert_exporter": "python",
   "pygments_lexer": "ipython3",
   "version": "3.6.2"
  }
 },
 "nbformat": 4,
 "nbformat_minor": 2
}
