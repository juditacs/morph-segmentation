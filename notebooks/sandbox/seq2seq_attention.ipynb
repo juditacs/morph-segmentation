{
 "cells": [
  {
   "cell_type": "code",
   "execution_count": 1,
   "metadata": {
    "collapsed": true,
    "deletable": true,
    "editable": true
   },
   "outputs": [],
   "source": [
    "import os\n",
    "import tensorflow as tf\n",
    "from tensorflow.python.ops import lookup_ops\n",
    "from tensorflow.python.layers import core as layers_core\n",
    "\n",
    "tf.reset_default_graph()"
   ]
  },
  {
   "cell_type": "markdown",
   "metadata": {
    "deletable": true,
    "editable": true
   },
   "source": [
    "# Model parameters\n",
    "\n",
    "Set `use_toy_data` to `True` for toy experiments. This will train the network on two unique examples.\n",
    "\n",
    "The real dataset is morphological reinflection task: Hungarian nouns in the instrumental case.\n",
    "Hungarian features both vowel harmony and assimilation.\n",
    "A few examples are listed here (capitalization is added for emphasis):\n",
    "\n",
    "| input | output | meaning | what happens |\n",
    "| :-----: | :-----: | :-----: | :-----: |\n",
    "| autó | autóval | with car | |\n",
    "| Peti | Petiv**E**l | with Pete | vowel harmony |\n",
    "| fej | fej**J**el | with head | assimilation |\n",
    "| pálca | pálc**Á**val | with stick | low vowel lengthening |\n",
    "| kulcs | kul**CCS**al | with key | digraph + assimilation |\n",
    "\n",
    "This turns out to be a very easy task for a fairly small seq2seq model."
   ]
  },
  {
   "cell_type": "code",
   "execution_count": 2,
   "metadata": {
    "collapsed": true,
    "deletable": true,
    "editable": true
   },
   "outputs": [],
   "source": [
    "use_toy_data = False\n",
    "LOG_DIR = 'logs'  # Tensorboard log directory\n",
    "\n",
    "if use_toy_data:\n",
    "    batch_size = 8\n",
    "    embedding_dim = 5\n",
    "    cell_size = 32 \n",
    "    max_len = 6\n",
    "else:\n",
    "    batch_size = 64\n",
    "    embedding_dim = 20\n",
    "    cell_size = 128\n",
    "    max_len = 33\n",
    "    \n",
    "use_attention = True\n",
    "use_bidirectional_encoder = True\n",
    "is_time_major = True"
   ]
  },
  {
   "cell_type": "markdown",
   "metadata": {
    "deletable": true,
    "editable": true
   },
   "source": [
    "# Download data if necessary\n",
    "\n",
    "The input data is expected in the following format:\n",
    "\n",
    "~~~\n",
    "i n p u t 1 TAB o u t p u t 1\n",
    "i n p u t 2 TAB o u t p u t 2\n",
    "~~~\n",
    "\n",
    "Each line contains a single input-output pair separated by a TAB.\n",
    "Tokens are space-separated."
   ]
  },
  {
   "cell_type": "code",
   "execution_count": 3,
   "metadata": {
    "collapsed": false,
    "deletable": true,
    "editable": true
   },
   "outputs": [],
   "source": [
    "if use_toy_data:\n",
    "    input_fn = 'toy_input.txt'\n",
    "    with open(input_fn, 'w') as f:\n",
    "        f.write('a b c\\td e f d e f\\n')\n",
    "        f.write('d e f\\ta b c a b c\\n')\n",
    "else:\n",
    "    DATA_DIR = '../../data/'\n",
    "    input_fn = 'instrumental.full.train'\n",
    "    input_fn = os.path.join(DATA_DIR, input_fn)\n",
    "    if not os.path.exists(input_fn):\n",
    "        import urllib\n",
    "        u = urllib.request.URLopener()\n",
    "        u.retrieve(\n",
    "            \"http://sandbox.mokk.bme.hu/~judit/resources/instrumental.full.train\", input_fn)"
   ]
  },
  {
   "cell_type": "markdown",
   "metadata": {
    "deletable": true,
    "editable": true
   },
   "source": [
    "# Load and preprocess data"
   ]
  },
  {
   "cell_type": "code",
   "execution_count": 4,
   "metadata": {
    "collapsed": true,
    "deletable": true,
    "editable": true
   },
   "outputs": [],
   "source": [
    "if use_toy_data:\n",
    "    vocab = ['PAD', 'UNK', 'EOS', 'SOS'] + list(\"abcdef\")\n",
    "else:\n",
    "    vocab = ['PAD', 'UNK', 'EOS', 'SOS'] + list(\"aábcdeéfghiíjklmnoóöőpqrstuúüűvwxyz-+._\")\n",
    "EOS = 2  # end of sentence\n",
    "SOS = 3  # start of sentence (GO symbol)\n",
    "table = lookup_ops.index_table_from_tensor(tf.constant(vocab), default_value=1)\n",
    "vocab = {k: i for i, k in enumerate(vocab)}\n",
    "vocab_size = len(vocab)\n",
    "\n",
    "table_initializer = tf.tables_initializer()\n",
    "\n",
    "dataset = tf.contrib.data.TextLineDataset(input_fn)\n",
    "dataset = dataset.repeat()\n",
    "dataset = dataset.map(lambda string: tf.string_split([string], delimiter='\\t').values)\n",
    "source = dataset.map(lambda string: string[0])\n",
    "target = dataset.map(lambda string: string[1])\n",
    "\n",
    "source = source.map(lambda string: tf.string_split([string], delimiter=' ').values)\n",
    "source = source.map(lambda words: table.lookup(words))\n",
    "target = target.map(lambda string: tf.string_split([string], delimiter=' ').values)\n",
    "target = target.map(lambda words: table.lookup(words))\n",
    "\n",
    "src_tgt_dataset = tf.contrib.data.Dataset.zip((source, target))\n",
    "src_tgt_dataset = src_tgt_dataset.map(\n",
    "    lambda src, tgt: (src,\n",
    "                      tf.concat(([SOS], tgt), 0),\n",
    "                      tf.concat((tgt, [EOS]), 0),)\n",
    ")\n",
    "src_tgt_dataset = src_tgt_dataset.map(\n",
    "    lambda src, tgt_in, tgt_out: (src, tgt_in, tgt_out, tf.size(src), tf.size(tgt_in))\n",
    ")\n",
    "\n",
    "batched = src_tgt_dataset.padded_batch(batch_size, padded_shapes=(\n",
    "    tf.TensorShape([max_len+2]), tf.TensorShape([max_len+2]), tf.TensorShape([None]),\n",
    "         tf.TensorShape([]), tf.TensorShape([])))\n",
    "batched_iter = batched.make_initializable_iterator()\n",
    "src_ids, tgt_in_ids, tgt_out_ids, src_size, tgt_size = batched_iter.get_next()"
   ]
  },
  {
   "cell_type": "markdown",
   "metadata": {
    "deletable": true,
    "editable": true
   },
   "source": [
    "# Create model\n",
    "\n",
    "## Embedding\n",
    "\n",
    "The input and output embeddings are the same."
   ]
  },
  {
   "cell_type": "code",
   "execution_count": 5,
   "metadata": {
    "collapsed": true,
    "deletable": true,
    "editable": true
   },
   "outputs": [],
   "source": [
    "with tf.variable_scope(\"embedding\"):\n",
    "    embedding = tf.get_variable(\"embedding\", [vocab_size, embedding_dim], dtype=tf.float32)\n",
    "    embedding_input = tf.nn.embedding_lookup(embedding, src_ids)\n",
    "    decoder_emb_inp = tf.nn.embedding_lookup(embedding, tgt_in_ids)\n",
    "    if is_time_major:\n",
    "        embedding_input = tf.transpose(embedding_input, [1, 0, 2])\n",
    "        decoder_emb_inp = tf.transpose(decoder_emb_inp, [1, 0, 2])"
   ]
  },
  {
   "cell_type": "markdown",
   "metadata": {
    "deletable": true,
    "editable": true
   },
   "source": [
    "## Encoder"
   ]
  },
  {
   "cell_type": "code",
   "execution_count": 6,
   "metadata": {
    "collapsed": true,
    "deletable": true,
    "editable": true
   },
   "outputs": [],
   "source": [
    "with tf.variable_scope(\"encoder\"):\n",
    "    \n",
    "    if use_bidirectional_encoder:\n",
    "        fw_cell = tf.nn.rnn_cell.BasicLSTMCell(cell_size)\n",
    "        fw_cell = tf.contrib.rnn.DropoutWrapper(fw_cell, input_keep_prob=0.8)\n",
    "        bw_cell = tf.nn.rnn_cell.BasicLSTMCell(cell_size)\n",
    "        bw_cell = tf.contrib.rnn.DropoutWrapper(bw_cell, input_keep_prob=0.8)\n",
    "\n",
    "        o, e = tf.nn.bidirectional_dynamic_rnn(\n",
    "            fw_cell, bw_cell, embedding_input, dtype='float32', sequence_length=src_size,\n",
    "            time_major=is_time_major)\n",
    "        encoder_outputs = tf.concat(o, -1)\n",
    "        encoder_state = e\n",
    "    \n",
    "    else:\n",
    "        fw_cell = tf.nn.rnn_cell.BasicLSTMCell(cell_size)\n",
    "        fw_cell = tf.contrib.rnn.DropoutWrapper(fw_cell, input_keep_prob=0.8)\n",
    "        o, e = tf.nn.dynamic_rnn(fw_cell, embedding_input, dtype='float32',\n",
    "                                 sequence_length=src_size, time_major=is_time_major)\n",
    "        encoder_outputs = o\n",
    "        encoder_state = e\n",
    "    "
   ]
  },
  {
   "cell_type": "markdown",
   "metadata": {
    "deletable": true,
    "editable": true
   },
   "source": [
    "## Decoder"
   ]
  },
  {
   "cell_type": "code",
   "execution_count": 7,
   "metadata": {
    "collapsed": true,
    "deletable": true,
    "editable": true
   },
   "outputs": [],
   "source": [
    "with tf.variable_scope(\"decoder\", dtype=\"float32\") as scope:\n",
    "    if use_bidirectional_encoder:\n",
    "        decoder_cells = []\n",
    "        for i in range(2):\n",
    "            decoder_cell = tf.contrib.rnn.BasicLSTMCell(cell_size)\n",
    "            decoder_cell = tf.contrib.rnn.DropoutWrapper(decoder_cell, input_keep_prob=0.8)\n",
    "            decoder_cells.append(decoder_cell)\n",
    "        decoder_cell = tf.contrib.rnn.MultiRNNCell(decoder_cells)\n",
    "\n",
    "        if use_attention:\n",
    "            if is_time_major:\n",
    "                attention_states = tf.transpose(encoder_outputs, [1, 0, 2])\n",
    "            else:\n",
    "                attention_states = encoder_outputs\n",
    "            attention_mechanism = tf.contrib.seq2seq.LuongAttention(\n",
    "                cell_size, attention_states, memory_sequence_length=src_size,\n",
    "                scale=True\n",
    "            )\n",
    "            decoder_cell = tf.contrib.seq2seq.AttentionWrapper(\n",
    "                decoder_cell, attention_mechanism, attention_layer_size=cell_size,\n",
    "                name=\"attention\"\n",
    "            )\n",
    "            if is_time_major:\n",
    "                decoder_initial_state = decoder_cell.zero_state(\n",
    "                    tf.shape(decoder_emb_inp)[1], tf.float32).clone(cell_state=encoder_state)\n",
    "            else:\n",
    "                decoder_initial_state = decoder_cell.zero_state(\n",
    "                    tf.shape(decoder_emb_inp)[0], tf.float32).clone(cell_state=encoder_state)\n",
    "        else:\n",
    "            decoder_initial_state = encoder_state\n",
    "            \n",
    "    else:\n",
    "        decoder_cell = tf.contrib.rnn.BasicLSTMCell(cell_size)\n",
    "        decoder_initial_state = encoder_state\n",
    "        \n",
    "    helper = tf.contrib.seq2seq.TrainingHelper(\n",
    "        decoder_emb_inp, tgt_size, time_major=is_time_major)\n",
    "    decoder = tf.contrib.seq2seq.BasicDecoder(\n",
    "        decoder_cell, helper, decoder_initial_state)\n",
    "    \n",
    "    outputs, final, _ = tf.contrib.seq2seq.dynamic_decode(\n",
    "        decoder, output_time_major=is_time_major, swap_memory=True, scope=scope)\n",
    "    \n",
    "    output_proj = layers_core.Dense(vocab_size, name=\"output_proj\")\n",
    "    logits = output_proj(outputs.rnn_output)\n",
    "    \n",
    "    "
   ]
  },
  {
   "cell_type": "markdown",
   "metadata": {
    "deletable": true,
    "editable": true
   },
   "source": [
    "## Loss and training operations"
   ]
  },
  {
   "cell_type": "code",
   "execution_count": 8,
   "metadata": {
    "collapsed": false,
    "deletable": true,
    "editable": true
   },
   "outputs": [],
   "source": [
    "with tf.variable_scope(\"train\"):\n",
    "    if is_time_major:\n",
    "        logits = tf.transpose(logits, [1, 0, 2])\n",
    "        crossent = tf.nn.sparse_softmax_cross_entropy_with_logits(\n",
    "            labels=tgt_out_ids, logits=logits)\n",
    "        target_weights = tf.sequence_mask(tgt_size, tf.shape(logits)[1], tf.float32)\n",
    "    else:\n",
    "        crossent = tf.nn.sparse_softmax_cross_entropy_with_logits(\n",
    "            labels=tgt_out_ids, logits=logits)\n",
    "        target_weights = tf.sequence_mask(tgt_size, tf.shape(logits)[1], tf.float32)\n",
    "    loss = tf.reduce_sum(crossent * target_weights) / tf.to_float(batch_size)\n",
    "    tf.summary.scalar(\"loss\", loss)\n",
    "\n",
    "    learning_rate = tf.placeholder(dtype=tf.float32, name=\"learning_rate\")\n",
    "    max_global_norm = tf.placeholder(dtype=tf.float32, name=\"max_global_norm\")\n",
    "    optimizer = tf.train.MomentumOptimizer(learning_rate, momentum=0.5)\n",
    "    params = tf.trainable_variables()\n",
    "    gradients = tf.gradients(loss, params)\n",
    "    for grad, var in zip(gradients, params):\n",
    "        tf.summary.histogram(var.op.name+'/gradient', grad)\n",
    "    gradients, _ = tf.clip_by_global_norm(gradients, max_global_norm)\n",
    "    for grad, var in zip(gradients, params):\n",
    "        tf.summary.histogram(var.op.name+'/clipped_gradient', grad)\n",
    "    update = optimizer.apply_gradients(zip(gradients, params))"
   ]
  },
  {
   "cell_type": "markdown",
   "metadata": {
    "deletable": true,
    "editable": true
   },
   "source": [
    "## Greedy decoder for inference"
   ]
  },
  {
   "cell_type": "code",
   "execution_count": 9,
   "metadata": {
    "collapsed": false,
    "deletable": true,
    "editable": true
   },
   "outputs": [],
   "source": [
    "g_helper = tf.contrib.seq2seq.GreedyEmbeddingHelper(embedding, tf.fill([batch_size], SOS), EOS)\n",
    "g_decoder = tf.contrib.seq2seq.BasicDecoder(decoder_cell, g_helper, decoder_initial_state,\n",
    "                                         output_layer=output_proj)\n",
    "\n",
    "g_outputs, _, _ = tf.contrib.seq2seq.dynamic_decode(g_decoder, maximum_iterations=30)"
   ]
  },
  {
   "cell_type": "markdown",
   "metadata": {
    "deletable": true,
    "editable": true
   },
   "source": [
    "# Starting session"
   ]
  },
  {
   "cell_type": "code",
   "execution_count": 10,
   "metadata": {
    "collapsed": false,
    "deletable": true,
    "editable": true
   },
   "outputs": [],
   "source": [
    "sess = tf.Session()\n",
    "sess.run(table_initializer)\n",
    "sess.run(batched_iter.initializer)\n",
    "sess.run(tf.global_variables_initializer())\n",
    "\n",
    "merged_summary = tf.summary.merge_all()\n",
    "writer = tf.summary.FileWriter(os.path.join(LOG_DIR, 's2s_sandbox', 'tmp'))\n",
    "writer.add_graph(sess.graph)"
   ]
  },
  {
   "cell_type": "markdown",
   "metadata": {
    "deletable": true,
    "editable": true
   },
   "source": [
    "# Training"
   ]
  },
  {
   "cell_type": "code",
   "execution_count": 11,
   "metadata": {
    "collapsed": false,
    "deletable": true,
    "editable": true
   },
   "outputs": [
    {
     "name": "stdout",
     "output_type": "stream",
     "text": [
      "Start training...\n",
      "Running 500 epochs with learning rate 1\n",
      "Iter 50, learning rate 1, loss 49.17654800415039\n",
      "Iter 100, learning rate 1, loss 42.914772033691406\n",
      "Iter 150, learning rate 1, loss 35.850791931152344\n",
      "Iter 200, learning rate 1, loss 23.160964965820312\n",
      "Iter 250, learning rate 1, loss 10.841547966003418\n",
      "Iter 300, learning rate 1, loss 7.734435081481934\n",
      "Iter 350, learning rate 1, loss 4.6222639083862305\n",
      "Iter 400, learning rate 1, loss 5.883413314819336\n",
      "Iter 450, learning rate 1, loss 5.117784023284912\n",
      "Iter 500, learning rate 1, loss 7.258327960968018\n",
      "Running 1000 epochs with learning rate 0.1\n",
      "Iter 100, learning rate 0.1, loss 1.5203056335449219\n",
      "Iter 200, learning rate 0.1, loss 1.5339192152023315\n",
      "Iter 300, learning rate 0.1, loss 1.2612941265106201\n",
      "Iter 400, learning rate 0.1, loss 1.3094332218170166\n",
      "Iter 500, learning rate 0.1, loss 1.751520037651062\n",
      "Iter 600, learning rate 0.1, loss 0.835232675075531\n",
      "Iter 700, learning rate 0.1, loss 0.7679431438446045\n",
      "Iter 800, learning rate 0.1, loss 0.996171236038208\n",
      "Iter 900, learning rate 0.1, loss 0.8044092655181885\n",
      "Iter 1000, learning rate 0.1, loss 0.6431879997253418\n",
      "CPU times: user 9min 54s, sys: 34.7 s, total: 10min 28s\n",
      "Wall time: 4min 25s\n"
     ]
    }
   ],
   "source": [
    "%%time\n",
    "\n",
    "def train(epochs, logstep, lr):\n",
    "    print(\"Running {} epochs with learning rate {}\".format(epochs, lr))\n",
    "    for i in range(epochs):\n",
    "        _, s = sess.run([update, merged_summary], feed_dict={learning_rate: lr, max_global_norm: 5.0})\n",
    "        l = sess.run(loss)\n",
    "        writer.add_summary(s, i)\n",
    "        if i % logstep == logstep - 1:\n",
    "            print(\"Iter {}, learning rate {}, loss {}\".format(i+1, lr, l))\n",
    "            \n",
    "print(\"Start training...\")\n",
    "if use_toy_data:\n",
    "    train(100, 10, .5)\n",
    "else:\n",
    "    train(500, 50, 1)\n",
    "    train(1000, 100, 0.1)"
   ]
  },
  {
   "cell_type": "markdown",
   "metadata": {
    "deletable": true,
    "editable": true
   },
   "source": [
    "# Inference"
   ]
  },
  {
   "cell_type": "code",
   "execution_count": 12,
   "metadata": {
    "collapsed": false,
    "deletable": true,
    "editable": true
   },
   "outputs": [
    {
     "name": "stdout",
     "output_type": "stream",
     "text": [
      "fémgyapot ---> fémgyapottal\n",
      "bútorvasalat ---> bútorvasalattal\n",
      "vargha-gyógymód ---> vargha-gyógymóddal\n",
      "energiatartalom ---> energiatartalommal\n",
      "gravisz ---> gavisszel\n",
      "projektdíj ---> projektdíjjal\n",
      "fogvatartás ---> fogvatartással\n",
      "gépésztervező ---> gépésztervezővel\n",
      "béla-alkotás ---> béla-alkotással\n",
      "UNKdörzspapír ---> drrzspapírral\n",
      "priusz ---> priusszal\n",
      "terméktámogatás ---> terméktámogatással\n",
      "nirvána ---> nirvánával\n",
      "zuhanórepülés ---> zuhanórepüléssel\n",
      "szerep-teljesítés ---> szerep-teljesítéssel\n",
      "részterhelés ---> részterheléssel\n",
      "kávéháztörténet ---> kávézténettel\n",
      "töretés ---> töretéssel\n",
      "burgonyafánk ---> burgonyafánkkal\n",
      "tengőd ---> tengővel\n",
      "alapkőzet ---> alapkőzettel\n",
      "palánta ---> palántával\n",
      "internet-cím ---> internet-címmel\n",
      "jet-ski ---> jet-skivel\n",
      "zalahús ---> zalahússal\n",
      "porkoncentráció ---> porkoncentrációval\n",
      "aufschlág ---> aufschlággal\n",
      "púderecset ---> púderecsettel\n",
      "igazgató ---> igazgatóval\n",
      "magángép ---> magángéppel\n",
      "nyelvtehetség ---> nyelvtehetséggel\n",
      "biomanipuláció ---> biomanipulációval\n",
      "összehangolás ---> összehangolással\n",
      "prézli ---> prézlivel\n",
      "eck ---> eckkel\n",
      "kg ---> kg-gal\n",
      "anyaghiba ---> anyaghibával\n",
      "pénzintézeteke ---> pénzintézetekével\n",
      "rázógép ---> rázógéppel\n",
      "formatudás ---> formatudással\n",
      "konfliktushelyzet ---> konfliktushelyzettel\n",
      "vákuumformázás ---> vákuumformázással\n",
      "éléskamra ---> éléskamrával\n",
      "iparosítás ---> iparosítással\n",
      "módzser ---> módzserrel\n",
      "rahmanyinov-szimfónia ---> rahmanyinov-szimfóniával\n",
      "bill ---> billlal\n",
      "bálvány ---> bálvánnyal\n",
      "tantárgyválasztás ---> tantárgyválasztással\n",
      "keresési_érték ---> keresésilisivértékkel\n",
      "nyelvismeret ---> nyelvismerettel\n",
      "tüskézés ---> tüskézéssel\n",
      "koch ---> koch-val\n",
      "versenyrendszer ---> versenyrendszerrel\n",
      "próbagyalulás ---> próbayyalulással\n",
      "megijesztés ---> megüjesztéssel\n",
      "agronómus ---> agronómussal\n",
      "díszletraktár ---> díszletraktárral\n",
      "beverly ---> beverly-vel\n",
      "fogadóernyő ---> fogadóernyővel\n",
      "fajsúly ---> fajsúllyal\n",
      "jóbarát-példakép ---> jóbarát-példaképpel\n",
      "newtonméter ---> newtonméterrel\n",
      "háttérmegvilágítás ---> háttérmegvilágítással\n"
     ]
    }
   ],
   "source": [
    "inv_vocab = {v: k for k, v in vocab.items()}\n",
    "skip_symbols = ('PAD',)\n",
    "\n",
    "def decode_ids(input_ids, output_ids):\n",
    "    decoded = []\n",
    "    for sample_i in range(output_ids.shape[0]):\n",
    "        input_sample = input_ids[sample_i]\n",
    "        output_sample = output_ids[sample_i]\n",
    "        input_decoded = [inv_vocab[s] for s in input_sample]\n",
    "        input_decoded = ''.join(c for c in input_decoded if c not in skip_symbols)\n",
    "        output_decoded = [inv_vocab[s] for s in output_sample]\n",
    "        try:\n",
    "            eos_idx = output_decoded.index('EOS')\n",
    "        except ValueError:  # EOS not in list\n",
    "            eos_idx = len(output_decoded)\n",
    "        output_decoded = output_decoded[:eos_idx]\n",
    "        output_decoded = ''.join(c for c in output_decoded if c not in skip_symbols)\n",
    "        decoded.append((input_decoded, output_decoded))\n",
    "    return decoded\n",
    "\n",
    "input_ids, output_ids = sess.run([src_ids, g_outputs.sample_id])\n",
    "decoded = decode_ids(input_ids, output_ids)\n",
    "print('\\n'.join(\n",
    "    '{} ---> {}'.format(dec[0], dec[1]) for dec in decoded\n",
    "))"
   ]
  }
 ],
 "metadata": {
  "kernelspec": {
   "display_name": "Python 3",
   "language": "python",
   "name": "python3"
  },
  "language_info": {
   "codemirror_mode": {
    "name": "ipython",
    "version": 3
   },
   "file_extension": ".py",
   "mimetype": "text/x-python",
   "name": "python",
   "nbconvert_exporter": "python",
   "pygments_lexer": "ipython3",
   "version": "3.4.2"
  }
 },
 "nbformat": 4,
 "nbformat_minor": 2
}
