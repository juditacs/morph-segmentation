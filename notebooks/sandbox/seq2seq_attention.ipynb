{
 "cells": [
  {
   "cell_type": "code",
   "execution_count": 115,
   "metadata": {
    "collapsed": true,
    "deletable": true,
    "editable": true
   },
   "outputs": [],
   "source": [
    "import os\n",
    "import tensorflow as tf\n",
    "from tensorflow.python.ops import lookup_ops\n",
    "from tensorflow.python.layers import core as layers_core\n",
    "\n",
    "tf.reset_default_graph()"
   ]
  },
  {
   "cell_type": "markdown",
   "metadata": {
    "deletable": true,
    "editable": true
   },
   "source": [
    "# Model parameters\n",
    "\n",
    "Set `use_toy_data` to `True` for toy experiments. This will train the network on two unique examples.\n",
    "\n",
    "The real dataset is morphological reinflection task: Hungarian nouns in the instrumental case.\n",
    "Hungarian features both vowel harmony and assimilation.\n",
    "A few examples are listed here (capitalization is added for emphasis):\n",
    "\n",
    "| input | output | meaning | what happens |\n",
    "| :-----: | :-----: | :-----: | :-----: |\n",
    "| autó | autóval | with car | |\n",
    "| Peti | Petiv**E**l | with Pete | vowel harmony |\n",
    "| fej | fej**J**el | with head | assimilation |\n",
    "| pálca | pálc**Á**val | with stick | low vowel lengthening |\n",
    "| kulcs | kul**CCS**al | with key | digraph + assimilation |\n",
    "\n",
    "This turns out to be a very easy task for a fairly small seq2seq model."
   ]
  },
  {
   "cell_type": "code",
   "execution_count": 116,
   "metadata": {
    "collapsed": true,
    "deletable": true,
    "editable": true
   },
   "outputs": [],
   "source": [
    "use_toy_data = False\n",
    "LOG_DIR = 'logs'  # Tensorboard log directory\n",
    "\n",
    "if use_toy_data:\n",
    "    batch_size = 8\n",
    "    embedding_dim = 5\n",
    "    cell_size = 32 \n",
    "    max_len = 6\n",
    "else:\n",
    "    batch_size = 64\n",
    "    embedding_dim = 20\n",
    "    cell_size = 128\n",
    "    max_len = 33\n",
    "    \n",
    "use_attention = True\n",
    "use_bidirectional_encoder = True\n",
    "is_time_major = True"
   ]
  },
  {
   "cell_type": "markdown",
   "metadata": {
    "deletable": true,
    "editable": true
   },
   "source": [
    "# Download data if necessary\n",
    "\n",
    "The input data is expected in the following format:\n",
    "\n",
    "~~~\n",
    "i n p u t 1 TAB o u t p u t 1\n",
    "i n p u t 2 TAB o u t p u t 2\n",
    "~~~\n",
    "\n",
    "Each line contains a single input-output pair separated by a TAB.\n",
    "Tokens are space-separated."
   ]
  },
  {
   "cell_type": "code",
   "execution_count": 117,
   "metadata": {
    "collapsed": false,
    "deletable": true,
    "editable": true
   },
   "outputs": [],
   "source": [
    "if use_toy_data:\n",
    "    input_fn = 'toy_input.txt'\n",
    "    with open(input_fn, 'w') as f:\n",
    "        f.write('a b c\\td e f d e f\\n')\n",
    "        f.write('d e f\\ta b c a b c\\n')\n",
    "else:\n",
    "    DATA_DIR = '../../data/'\n",
    "    input_fn = 'instrumental.full.train'\n",
    "    input_fn = os.path.join(DATA_DIR, input_fn)\n",
    "    if not os.path.exists(input_fn):\n",
    "        import urllib\n",
    "        u = urllib.request.URLopener()\n",
    "        u.retrieve(\n",
    "            \"http://sandbox.mokk.bme.hu/~judit/resources/instrumental.full.train\", input_fn)"
   ]
  },
  {
   "cell_type": "markdown",
   "metadata": {
    "deletable": true,
    "editable": true
   },
   "source": [
    "# Load and preprocess data"
   ]
  },
  {
   "cell_type": "code",
   "execution_count": 118,
   "metadata": {
    "collapsed": true
   },
   "outputs": [],
   "source": [
    "class Dataset(object):\n",
    "    PAD = 0\n",
    "    UNK = 1\n",
    "    SOS = 1\n",
    "    EOS = 2\n",
    "    src_vocab = ['PAD', 'UNK']\n",
    "    tgt_vocab = ['PAD', 'SOS', 'EOS']\n",
    "    hu_alphabet = list(\"aábcdeéfghiíjklmnoóöőpqrstuúüűvwxyz-+._\")\n",
    "    \n",
    "    def __init__(self, fn, config, src_alphabet=None, tgt_alphabet=None, share_vocab=False):\n",
    "        self.config = config\n",
    "        self.create_tables(src_alphabet, tgt_alphabet, share_vocab)\n",
    "        self.load_and_preproc_dataset(fn)\n",
    "        \n",
    "    def create_tables(self, src_alphabet, tgt_alphabet, share_vocab):\n",
    "        if src_alphabet is None:\n",
    "            self.src_vocab = Dataset.src_vocab + Dataset.hu_alphabet\n",
    "        else:\n",
    "            self.src_vocab = Dataset.src_vocab + alphabet\n",
    "        self.src_table = lookup_ops.index_table_from_tensor(\n",
    "            tf.constant(self.src_vocab), default_value=Dataset.UNK\n",
    "        )\n",
    "        if share_vocab:\n",
    "            self.tgt_vocab = self.src_vocab\n",
    "            self.tgt_table = self.src_table\n",
    "        else:\n",
    "            if tgt_alphabet is None:\n",
    "                self.tgt_vocab = Dataset.tgt_vocab + Dataset.hu_alphabet\n",
    "            else:\n",
    "                self.tgt_vocab = Dataset.tgt_vocab + alphabet\n",
    "            self.tgt_table = lookup_ops.index_table_from_tensor(\n",
    "                tf.constant(self.tgt_vocab), default_value=Dataset.UNK\n",
    "            )\n",
    "        self.src_vocab_size = len(self.src_vocab)\n",
    "        self.tgt_vocab_size = len(self.tgt_vocab)\n",
    "    \n",
    "    def load_and_preproc_dataset(self, fn):\n",
    "        dataset = tf.contrib.data.TextLineDataset(fn)\n",
    "        dataset = dataset.repeat()\n",
    "        dataset = dataset.map(lambda s: tf.string_split([s], delimiter='\\t').values)\n",
    "        \n",
    "        src = dataset.map(lambda s: s[0])\n",
    "        tgt = dataset.map(lambda s: s[1])\n",
    "        \n",
    "        src = src.map(lambda s: tf.string_split([s], delimiter=' ').values)\n",
    "        # src = src.map(lambda s: s[:self.config.src_maxlen])\n",
    "        tgt = tgt.map(lambda s: tf.string_split([s], delimiter=' ').values)\n",
    "        # tgt = tgt.map(lambda s: s[:self.config.tgt_maxlen])\n",
    "        \n",
    "        src = src.map(lambda words: self.src_table.lookup(words))\n",
    "        tgt = tgt.map(lambda words: self.tgt_table.lookup(words))\n",
    "        \n",
    "        dataset = tf.contrib.data.Dataset.zip((src, tgt))\n",
    "        dataset = dataset.map(\n",
    "            lambda src, tgt: (\n",
    "                src,\n",
    "                tf.concat(([Dataset.SOS], tgt), 0),\n",
    "                tf.concat((tgt, [Dataset.EOS]), 0),\n",
    "            )\n",
    "        )\n",
    "        dataset = dataset.map(\n",
    "            lambda src, tgt_in, tgt_out: (src, tgt_in, tgt_out, tf.size(src), tf.size(tgt_in))\n",
    "        )\n",
    "        batched = dataset.padded_batch(\n",
    "            self.config.batch_size,\n",
    "            padded_shapes=(\n",
    "                tf.TensorShape([self.config.src_maxlen]),\n",
    "                tf.TensorShape([self.config.tgt_maxlen+2]),\n",
    "                tf.TensorShape([None]),\n",
    "                tf.TensorShape([]),\n",
    "                tf.TensorShape([]),\n",
    "            )\n",
    "        )\n",
    "        self.batched_iter = batched.make_initializable_iterator()\n",
    "        s = self.batched_iter.get_next()\n",
    "        self.src_ids = s[0]\n",
    "        self.tgt_in_ids = s[1]\n",
    "        self.tgt_out_ids = s[2]\n",
    "        self.src_size = s[3]\n",
    "        self.tgt_size = s[4]\n",
    "        \n",
    "    def run_initializers(self, session):\n",
    "        session.run(tf.tables_initializer())\n",
    "        session.run(self.batched_iter.initializer)"
   ]
  },
  {
   "cell_type": "code",
   "execution_count": 119,
   "metadata": {
    "collapsed": true,
    "deletable": true,
    "editable": true
   },
   "outputs": [],
   "source": [
    "if use_toy_data:\n",
    "    vocab = ['PAD', 'UNK', 'EOS', 'SOS'] + list(\"abcdef\")\n",
    "else:\n",
    "    vocab = ['PAD', 'UNK', 'EOS', 'SOS'] + list(\"aábcdeéfghiíjklmnoóöőpqrstuúüűvwxyz-+._\")\n",
    "EOS = 2  # end of sentence\n",
    "SOS = 3  # start of sentence (GO symbol)\n",
    "table = lookup_ops.index_table_from_tensor(tf.constant(vocab), default_value=1)\n",
    "vocab = {k: i for i, k in enumerate(vocab)}\n",
    "vocab_size = len(vocab)\n",
    "\n",
    "table_initializer = tf.tables_initializer()\n",
    "\n",
    "dataset = tf.contrib.data.TextLineDataset(input_fn)\n",
    "dataset = dataset.repeat()\n",
    "dataset = dataset.map(lambda string: tf.string_split([string], delimiter='\\t').values)\n",
    "source = dataset.map(lambda string: string[0])\n",
    "target = dataset.map(lambda string: string[1])\n",
    "\n",
    "source = source.map(lambda string: tf.string_split([string], delimiter=' ').values)\n",
    "source = source.map(lambda words: table.lookup(words))\n",
    "target = target.map(lambda string: tf.string_split([string], delimiter=' ').values)\n",
    "target = target.map(lambda words: table.lookup(words))\n",
    "\n",
    "src_tgt_dataset = tf.contrib.data.Dataset.zip((source, target))\n",
    "src_tgt_dataset = src_tgt_dataset.map(\n",
    "    lambda src, tgt: (src,\n",
    "                      tf.concat(([SOS], tgt), 0),\n",
    "                      tf.concat((tgt, [EOS]), 0),)\n",
    ")\n",
    "src_tgt_dataset = src_tgt_dataset.map(\n",
    "    lambda src, tgt_in, tgt_out: (src, tgt_in, tgt_out, tf.size(src), tf.size(tgt_in))\n",
    ")\n",
    "\n",
    "batched = src_tgt_dataset.padded_batch(batch_size, padded_shapes=(\n",
    "    tf.TensorShape([max_len+2]), tf.TensorShape([max_len+2]), tf.TensorShape([None]),\n",
    "         tf.TensorShape([]), tf.TensorShape([])))\n",
    "batched_iter = batched.make_initializable_iterator()\n",
    "src_ids, tgt_in_ids, tgt_out_ids, src_size, tgt_size = batched_iter.get_next()"
   ]
  },
  {
   "cell_type": "markdown",
   "metadata": {
    "deletable": true,
    "editable": true
   },
   "source": [
    "# Create model\n",
    "\n",
    "## Embedding\n",
    "\n",
    "The input and output embeddings are the same."
   ]
  },
  {
   "cell_type": "code",
   "execution_count": 120,
   "metadata": {
    "collapsed": false
   },
   "outputs": [],
   "source": [
    "class Config(object):\n",
    "    def __init__(self):\n",
    "        self.batch_size = 64\n",
    "        self.src_maxlen = 30\n",
    "        self.tgt_maxlen = 30\n",
    "        \n",
    "dataset = Dataset(input_fn, Config())"
   ]
  },
  {
   "cell_type": "code",
   "execution_count": 121,
   "metadata": {
    "collapsed": false,
    "deletable": true,
    "editable": true
   },
   "outputs": [],
   "source": [
    "with tf.variable_scope(\"embedding\"):\n",
    "    embedding = tf.get_variable(\"embedding\", [vocab_size, embedding_dim], dtype=tf.float32)\n",
    "    embedding_input = tf.nn.embedding_lookup(embedding, dataset.src_ids)\n",
    "    decoder_emb_inp = tf.nn.embedding_lookup(embedding, dataset.tgt_in_ids)\n",
    "    if is_time_major:\n",
    "        embedding_input = tf.transpose(embedding_input, [1, 0, 2])\n",
    "        decoder_emb_inp = tf.transpose(decoder_emb_inp, [1, 0, 2])"
   ]
  },
  {
   "cell_type": "markdown",
   "metadata": {
    "deletable": true,
    "editable": true
   },
   "source": [
    "## Encoder"
   ]
  },
  {
   "cell_type": "code",
   "execution_count": 122,
   "metadata": {
    "collapsed": true,
    "deletable": true,
    "editable": true
   },
   "outputs": [],
   "source": [
    "with tf.variable_scope(\"encoder\"):\n",
    "    \n",
    "    if use_bidirectional_encoder:\n",
    "        fw_cell = tf.nn.rnn_cell.BasicLSTMCell(cell_size)\n",
    "        fw_cell = tf.contrib.rnn.DropoutWrapper(fw_cell, input_keep_prob=0.8)\n",
    "        bw_cell = tf.nn.rnn_cell.BasicLSTMCell(cell_size)\n",
    "        bw_cell = tf.contrib.rnn.DropoutWrapper(bw_cell, input_keep_prob=0.8)\n",
    "\n",
    "        o, e = tf.nn.bidirectional_dynamic_rnn(\n",
    "            fw_cell, bw_cell, embedding_input, dtype='float32', sequence_length=dataset.src_size,\n",
    "            time_major=is_time_major)\n",
    "        encoder_outputs = tf.concat(o, -1)\n",
    "        encoder_state = e\n",
    "    \n",
    "    else:\n",
    "        fw_cell = tf.nn.rnn_cell.BasicLSTMCell(cell_size)\n",
    "        fw_cell = tf.contrib.rnn.DropoutWrapper(fw_cell, input_keep_prob=0.8)\n",
    "        o, e = tf.nn.dynamic_rnn(fw_cell, embedding_input, dtype='float32',\n",
    "                                 sequence_length=dataset.src_size, time_major=is_time_major)\n",
    "        encoder_outputs = o\n",
    "        encoder_state = e\n",
    "    "
   ]
  },
  {
   "cell_type": "markdown",
   "metadata": {
    "deletable": true,
    "editable": true
   },
   "source": [
    "## Decoder"
   ]
  },
  {
   "cell_type": "code",
   "execution_count": 123,
   "metadata": {
    "collapsed": true,
    "deletable": true,
    "editable": true
   },
   "outputs": [],
   "source": [
    "with tf.variable_scope(\"decoder\", dtype=\"float32\") as scope:\n",
    "    if use_bidirectional_encoder:\n",
    "        decoder_cells = []\n",
    "        for i in range(2):\n",
    "            decoder_cell = tf.contrib.rnn.BasicLSTMCell(cell_size)\n",
    "            decoder_cell = tf.contrib.rnn.DropoutWrapper(decoder_cell, input_keep_prob=0.8)\n",
    "            decoder_cells.append(decoder_cell)\n",
    "        decoder_cell = tf.contrib.rnn.MultiRNNCell(decoder_cells)\n",
    "\n",
    "        if use_attention:\n",
    "            if is_time_major:\n",
    "                attention_states = tf.transpose(encoder_outputs, [1, 0, 2])\n",
    "            else:\n",
    "                attention_states = encoder_outputs\n",
    "            attention_mechanism = tf.contrib.seq2seq.LuongAttention(\n",
    "                cell_size, attention_states, memory_sequence_length=dataset.src_size,\n",
    "                scale=True\n",
    "            )\n",
    "            decoder_cell = tf.contrib.seq2seq.AttentionWrapper(\n",
    "                decoder_cell, attention_mechanism, attention_layer_size=cell_size,\n",
    "                name=\"attention\"\n",
    "            )\n",
    "            if is_time_major:\n",
    "                decoder_initial_state = decoder_cell.zero_state(\n",
    "                    tf.shape(decoder_emb_inp)[1], tf.float32).clone(cell_state=encoder_state)\n",
    "            else:\n",
    "                decoder_initial_state = decoder_cell.zero_state(\n",
    "                    tf.shape(decoder_emb_inp)[0], tf.float32).clone(cell_state=encoder_state)\n",
    "        else:\n",
    "            decoder_initial_state = encoder_state\n",
    "            \n",
    "    else:\n",
    "        decoder_cell = tf.contrib.rnn.BasicLSTMCell(cell_size)\n",
    "        decoder_initial_state = encoder_state\n",
    "        \n",
    "    helper = tf.contrib.seq2seq.TrainingHelper(\n",
    "        decoder_emb_inp, dataset.tgt_size, time_major=is_time_major)\n",
    "    decoder = tf.contrib.seq2seq.BasicDecoder(\n",
    "        decoder_cell, helper, decoder_initial_state)\n",
    "    \n",
    "    outputs, final, _ = tf.contrib.seq2seq.dynamic_decode(\n",
    "        decoder, output_time_major=is_time_major, swap_memory=True, scope=scope)\n",
    "    \n",
    "    output_proj = layers_core.Dense(vocab_size, name=\"output_proj\")\n",
    "    logits = output_proj(outputs.rnn_output)\n",
    "    \n",
    "    "
   ]
  },
  {
   "cell_type": "markdown",
   "metadata": {
    "deletable": true,
    "editable": true
   },
   "source": [
    "## Loss and training operations"
   ]
  },
  {
   "cell_type": "code",
   "execution_count": 124,
   "metadata": {
    "collapsed": false,
    "deletable": true,
    "editable": true
   },
   "outputs": [],
   "source": [
    "with tf.variable_scope(\"train\"):\n",
    "    if is_time_major:\n",
    "        logits = tf.transpose(logits, [1, 0, 2])\n",
    "        crossent = tf.nn.sparse_softmax_cross_entropy_with_logits(\n",
    "            labels=dataset.tgt_out_ids, logits=logits)\n",
    "        target_weights = tf.sequence_mask(dataset.tgt_size, tf.shape(logits)[1], tf.float32)\n",
    "    else:\n",
    "        crossent = tf.nn.sparse_softmax_cross_entropy_with_logits(\n",
    "            labels=dataset.tgt_out_ids, logits=logits)\n",
    "        target_weights = tf.sequence_mask(dataset.tgt_size, tf.shape(logits)[1], tf.float32)\n",
    "    loss = tf.reduce_sum(crossent * target_weights) / tf.to_float(batch_size)\n",
    "    tf.summary.scalar(\"loss\", loss)\n",
    "\n",
    "    learning_rate = tf.placeholder(dtype=tf.float32, name=\"learning_rate\")\n",
    "    max_global_norm = tf.placeholder(dtype=tf.float32, name=\"max_global_norm\")\n",
    "    optimizer = tf.train.MomentumOptimizer(learning_rate, momentum=0.5)\n",
    "    params = tf.trainable_variables()\n",
    "    gradients = tf.gradients(loss, params)\n",
    "    for grad, var in zip(gradients, params):\n",
    "        tf.summary.histogram(var.op.name+'/gradient', grad)\n",
    "    gradients, _ = tf.clip_by_global_norm(gradients, max_global_norm)\n",
    "    for grad, var in zip(gradients, params):\n",
    "        tf.summary.histogram(var.op.name+'/clipped_gradient', grad)\n",
    "    update = optimizer.apply_gradients(zip(gradients, params))"
   ]
  },
  {
   "cell_type": "markdown",
   "metadata": {
    "deletable": true,
    "editable": true
   },
   "source": [
    "## Greedy decoder for inference"
   ]
  },
  {
   "cell_type": "code",
   "execution_count": 125,
   "metadata": {
    "collapsed": false,
    "deletable": true,
    "editable": true
   },
   "outputs": [],
   "source": [
    "g_helper = tf.contrib.seq2seq.GreedyEmbeddingHelper(embedding, tf.fill([batch_size], SOS), EOS)\n",
    "g_decoder = tf.contrib.seq2seq.BasicDecoder(decoder_cell, g_helper, decoder_initial_state,\n",
    "                                         output_layer=output_proj)\n",
    "\n",
    "g_outputs, _, _ = tf.contrib.seq2seq.dynamic_decode(g_decoder, maximum_iterations=30)"
   ]
  },
  {
   "cell_type": "markdown",
   "metadata": {
    "deletable": true,
    "editable": true
   },
   "source": [
    "# Starting session"
   ]
  },
  {
   "cell_type": "code",
   "execution_count": 126,
   "metadata": {
    "collapsed": false,
    "deletable": true,
    "editable": true
   },
   "outputs": [],
   "source": [
    "#sess = tf.Session(config=tf.ConfigProto(device_count={'GPU': 0}))\n",
    "sess = tf.Session()\n",
    "#sess.run(table_initializer)\n",
    "#sess.run(batched_iter.initializer)\n",
    "dataset.run_initializers(sess)\n",
    "sess.run(tf.global_variables_initializer())\n",
    "\n",
    "merged_summary = tf.summary.merge_all()\n",
    "writer = tf.summary.FileWriter(os.path.join(LOG_DIR, 's2s_sandbox', 'tmp'))\n",
    "writer.add_graph(sess.graph)"
   ]
  },
  {
   "cell_type": "markdown",
   "metadata": {
    "deletable": true,
    "editable": true
   },
   "source": [
    "# Training"
   ]
  },
  {
   "cell_type": "code",
   "execution_count": 127,
   "metadata": {
    "collapsed": false,
    "deletable": true,
    "editable": true
   },
   "outputs": [
    {
     "name": "stdout",
     "output_type": "stream",
     "text": [
      "Start training...\n",
      "Running 250 epochs with learning rate 1\n",
      "Iter 50, learning rate 1, loss 78.3214111328125\n",
      "Iter 100, learning rate 1, loss 45.283721923828125\n",
      "Iter 150, learning rate 1, loss 28.154346466064453\n",
      "Iter 200, learning rate 1, loss 17.336687088012695\n",
      "Iter 250, learning rate 1, loss 10.197346687316895\n",
      "Running 1000 epochs with learning rate 0.1\n",
      "Iter 100, learning rate 0.1, loss 3.457552433013916\n",
      "Iter 200, learning rate 0.1, loss 2.5191853046417236\n",
      "Iter 300, learning rate 0.1, loss 2.1833624839782715\n",
      "Iter 400, learning rate 0.1, loss 1.5034258365631104\n",
      "Iter 500, learning rate 0.1, loss 1.1282069683074951\n",
      "Iter 600, learning rate 0.1, loss 1.0767518281936646\n",
      "Iter 700, learning rate 0.1, loss 0.8556519150733948\n",
      "Iter 800, learning rate 0.1, loss 0.5977839231491089\n",
      "Iter 900, learning rate 0.1, loss 0.9103585481643677\n",
      "Iter 1000, learning rate 0.1, loss 0.9672097563743591\n",
      "CPU times: user 8min 1s, sys: 20.4 s, total: 8min 21s\n",
      "Wall time: 3min 30s\n"
     ]
    }
   ],
   "source": [
    "%%time\n",
    "\n",
    "def train(epochs, logstep, lr):\n",
    "    print(\"Running {} epochs with learning rate {}\".format(epochs, lr))\n",
    "    for i in range(epochs):\n",
    "        _, s = sess.run([update, merged_summary], feed_dict={learning_rate: lr, max_global_norm: 5.0})\n",
    "        l = sess.run(loss)\n",
    "        writer.add_summary(s, i)\n",
    "        if i % logstep == logstep - 1:\n",
    "            print(\"Iter {}, learning rate {}, loss {}\".format(i+1, lr, l))\n",
    "            \n",
    "print(\"Start training...\")\n",
    "if use_toy_data:\n",
    "    train(100, 10, .5)\n",
    "else:\n",
    "    train(250, 50, 1)\n",
    "    train(1000, 100, 0.1)"
   ]
  },
  {
   "cell_type": "markdown",
   "metadata": {
    "deletable": true,
    "editable": true
   },
   "source": [
    "# Inference"
   ]
  },
  {
   "cell_type": "code",
   "execution_count": 128,
   "metadata": {
    "collapsed": false,
    "deletable": true,
    "editable": true
   },
   "outputs": [
    {
     "ename": "FailedPreconditionError",
     "evalue": "GetNext() failed because the iterator has not been initialized. Ensure that you have run the initializer operation for this iterator before getting the next element.\n\t [[Node: IteratorGetNext = IteratorGetNext[output_shapes=[[-1,35], [-1,35], [-1,-1], [-1], [-1]], output_types=[DT_INT64, DT_INT64, DT_INT64, DT_INT32, DT_INT32], _device=\"/job:localhost/replica:0/task:0/cpu:0\"](Iterator)]]\n\t [[Node: decoder/LuongAttention/assert_equal/Assert/Assert/_708 = _Recv[client_terminated=false, recv_device=\"/job:localhost/replica:0/task:0/gpu:0\", send_device=\"/job:localhost/replica:0/task:0/cpu:0\", send_device_incarnation=1, tensor_name=\"edge_549_decoder/LuongAttention/assert_equal/Assert/Assert\", tensor_type=DT_FLOAT, _device=\"/job:localhost/replica:0/task:0/gpu:0\"]()]]\n\nCaused by op 'IteratorGetNext', defined at:\n  File \"/usr/lib/python3.4/runpy.py\", line 170, in _run_module_as_main\n    \"__main__\", mod_spec)\n  File \"/usr/lib/python3.4/runpy.py\", line 85, in _run_code\n    exec(code, run_globals)\n  File \"/mnt/store/judit/.virtualenvs/deep/lib/python3.4/site-packages/ipykernel/__main__.py\", line 3, in <module>\n    app.launch_new_instance()\n  File \"/mnt/store/judit/.virtualenvs/deep/lib/python3.4/site-packages/traitlets/config/application.py\", line 658, in launch_instance\n    app.start()\n  File \"/mnt/store/judit/.virtualenvs/deep/lib/python3.4/site-packages/ipykernel/kernelapp.py\", line 474, in start\n    ioloop.IOLoop.instance().start()\n  File \"/mnt/store/judit/.virtualenvs/deep/lib/python3.4/site-packages/zmq/eventloop/ioloop.py\", line 177, in start\n    super(ZMQIOLoop, self).start()\n  File \"/mnt/store/judit/.virtualenvs/deep/lib/python3.4/site-packages/tornado/ioloop.py\", line 887, in start\n    handler_func(fd_obj, events)\n  File \"/mnt/store/judit/.virtualenvs/deep/lib/python3.4/site-packages/tornado/stack_context.py\", line 275, in null_wrapper\n    return fn(*args, **kwargs)\n  File \"/mnt/store/judit/.virtualenvs/deep/lib/python3.4/site-packages/zmq/eventloop/zmqstream.py\", line 440, in _handle_events\n    self._handle_recv()\n  File \"/mnt/store/judit/.virtualenvs/deep/lib/python3.4/site-packages/zmq/eventloop/zmqstream.py\", line 472, in _handle_recv\n    self._run_callback(callback, msg)\n  File \"/mnt/store/judit/.virtualenvs/deep/lib/python3.4/site-packages/zmq/eventloop/zmqstream.py\", line 414, in _run_callback\n    callback(*args, **kwargs)\n  File \"/mnt/store/judit/.virtualenvs/deep/lib/python3.4/site-packages/tornado/stack_context.py\", line 275, in null_wrapper\n    return fn(*args, **kwargs)\n  File \"/mnt/store/judit/.virtualenvs/deep/lib/python3.4/site-packages/ipykernel/kernelbase.py\", line 276, in dispatcher\n    return self.dispatch_shell(stream, msg)\n  File \"/mnt/store/judit/.virtualenvs/deep/lib/python3.4/site-packages/ipykernel/kernelbase.py\", line 228, in dispatch_shell\n    handler(stream, idents, msg)\n  File \"/mnt/store/judit/.virtualenvs/deep/lib/python3.4/site-packages/ipykernel/kernelbase.py\", line 390, in execute_request\n    user_expressions, allow_stdin)\n  File \"/mnt/store/judit/.virtualenvs/deep/lib/python3.4/site-packages/ipykernel/ipkernel.py\", line 196, in do_execute\n    res = shell.run_cell(code, store_history=store_history, silent=silent)\n  File \"/mnt/store/judit/.virtualenvs/deep/lib/python3.4/site-packages/ipykernel/zmqshell.py\", line 501, in run_cell\n    return super(ZMQInteractiveShell, self).run_cell(*args, **kwargs)\n  File \"/mnt/store/judit/.virtualenvs/deep/lib/python3.4/site-packages/IPython/core/interactiveshell.py\", line 2717, in run_cell\n    interactivity=interactivity, compiler=compiler, result=result)\n  File \"/mnt/store/judit/.virtualenvs/deep/lib/python3.4/site-packages/IPython/core/interactiveshell.py\", line 2821, in run_ast_nodes\n    if self.run_code(code, result):\n  File \"/mnt/store/judit/.virtualenvs/deep/lib/python3.4/site-packages/IPython/core/interactiveshell.py\", line 2881, in run_code\n    exec(code_obj, self.user_global_ns, self.user_ns)\n  File \"<ipython-input-119-8b344f65da7d>\", line 38, in <module>\n    src_ids, tgt_in_ids, tgt_out_ids, src_size, tgt_size = batched_iter.get_next()\n  File \"/mnt/store/judit/.virtualenvs/deep/lib/python3.4/site-packages/tensorflow/contrib/data/python/ops/dataset_ops.py\", line 247, in get_next\n    name=name))\n  File \"/mnt/store/judit/.virtualenvs/deep/lib/python3.4/site-packages/tensorflow/python/ops/gen_dataset_ops.py\", line 254, in iterator_get_next\n    output_shapes=output_shapes, name=name)\n  File \"/mnt/store/judit/.virtualenvs/deep/lib/python3.4/site-packages/tensorflow/python/framework/op_def_library.py\", line 767, in apply_op\n    op_def=op_def)\n  File \"/mnt/store/judit/.virtualenvs/deep/lib/python3.4/site-packages/tensorflow/python/framework/ops.py\", line 2506, in create_op\n    original_op=self._default_original_op, op_def=op_def)\n  File \"/mnt/store/judit/.virtualenvs/deep/lib/python3.4/site-packages/tensorflow/python/framework/ops.py\", line 1269, in __init__\n    self._traceback = _extract_stack()\n\nFailedPreconditionError (see above for traceback): GetNext() failed because the iterator has not been initialized. Ensure that you have run the initializer operation for this iterator before getting the next element.\n\t [[Node: IteratorGetNext = IteratorGetNext[output_shapes=[[-1,35], [-1,35], [-1,-1], [-1], [-1]], output_types=[DT_INT64, DT_INT64, DT_INT64, DT_INT32, DT_INT32], _device=\"/job:localhost/replica:0/task:0/cpu:0\"](Iterator)]]\n\t [[Node: decoder/LuongAttention/assert_equal/Assert/Assert/_708 = _Recv[client_terminated=false, recv_device=\"/job:localhost/replica:0/task:0/gpu:0\", send_device=\"/job:localhost/replica:0/task:0/cpu:0\", send_device_incarnation=1, tensor_name=\"edge_549_decoder/LuongAttention/assert_equal/Assert/Assert\", tensor_type=DT_FLOAT, _device=\"/job:localhost/replica:0/task:0/gpu:0\"]()]]\n",
     "output_type": "error",
     "traceback": [
      "\u001b[0;31m---------------------------------------------------------------------------\u001b[0m",
      "\u001b[0;31mFailedPreconditionError\u001b[0m                   Traceback (most recent call last)",
      "\u001b[0;32m/mnt/store/judit/.virtualenvs/deep/lib/python3.4/site-packages/tensorflow/python/client/session.py\u001b[0m in \u001b[0;36m_do_call\u001b[0;34m(self, fn, *args)\u001b[0m\n\u001b[1;32m   1138\u001b[0m     \u001b[0;32mtry\u001b[0m\u001b[0;34m:\u001b[0m\u001b[0;34m\u001b[0m\u001b[0m\n\u001b[0;32m-> 1139\u001b[0;31m       \u001b[0;32mreturn\u001b[0m \u001b[0mfn\u001b[0m\u001b[0;34m(\u001b[0m\u001b[0;34m*\u001b[0m\u001b[0margs\u001b[0m\u001b[0;34m)\u001b[0m\u001b[0;34m\u001b[0m\u001b[0m\n\u001b[0m\u001b[1;32m   1140\u001b[0m     \u001b[0;32mexcept\u001b[0m \u001b[0merrors\u001b[0m\u001b[0;34m.\u001b[0m\u001b[0mOpError\u001b[0m \u001b[0;32mas\u001b[0m \u001b[0me\u001b[0m\u001b[0;34m:\u001b[0m\u001b[0;34m\u001b[0m\u001b[0m\n",
      "\u001b[0;32m/mnt/store/judit/.virtualenvs/deep/lib/python3.4/site-packages/tensorflow/python/client/session.py\u001b[0m in \u001b[0;36m_run_fn\u001b[0;34m(session, feed_dict, fetch_list, target_list, options, run_metadata)\u001b[0m\n\u001b[1;32m   1120\u001b[0m                                  \u001b[0mfeed_dict\u001b[0m\u001b[0;34m,\u001b[0m \u001b[0mfetch_list\u001b[0m\u001b[0;34m,\u001b[0m \u001b[0mtarget_list\u001b[0m\u001b[0;34m,\u001b[0m\u001b[0;34m\u001b[0m\u001b[0m\n\u001b[0;32m-> 1121\u001b[0;31m                                  status, run_metadata)\n\u001b[0m\u001b[1;32m   1122\u001b[0m \u001b[0;34m\u001b[0m\u001b[0m\n",
      "\u001b[0;32m/usr/lib/python3.4/contextlib.py\u001b[0m in \u001b[0;36m__exit__\u001b[0;34m(self, type, value, traceback)\u001b[0m\n\u001b[1;32m     65\u001b[0m             \u001b[0;32mtry\u001b[0m\u001b[0;34m:\u001b[0m\u001b[0;34m\u001b[0m\u001b[0m\n\u001b[0;32m---> 66\u001b[0;31m                 \u001b[0mnext\u001b[0m\u001b[0;34m(\u001b[0m\u001b[0mself\u001b[0m\u001b[0;34m.\u001b[0m\u001b[0mgen\u001b[0m\u001b[0;34m)\u001b[0m\u001b[0;34m\u001b[0m\u001b[0m\n\u001b[0m\u001b[1;32m     67\u001b[0m             \u001b[0;32mexcept\u001b[0m \u001b[0mStopIteration\u001b[0m\u001b[0;34m:\u001b[0m\u001b[0;34m\u001b[0m\u001b[0m\n",
      "\u001b[0;32m/mnt/store/judit/.virtualenvs/deep/lib/python3.4/site-packages/tensorflow/python/framework/errors_impl.py\u001b[0m in \u001b[0;36mraise_exception_on_not_ok_status\u001b[0;34m()\u001b[0m\n\u001b[1;32m    465\u001b[0m           \u001b[0mcompat\u001b[0m\u001b[0;34m.\u001b[0m\u001b[0mas_text\u001b[0m\u001b[0;34m(\u001b[0m\u001b[0mpywrap_tensorflow\u001b[0m\u001b[0;34m.\u001b[0m\u001b[0mTF_Message\u001b[0m\u001b[0;34m(\u001b[0m\u001b[0mstatus\u001b[0m\u001b[0;34m)\u001b[0m\u001b[0;34m)\u001b[0m\u001b[0;34m,\u001b[0m\u001b[0;34m\u001b[0m\u001b[0m\n\u001b[0;32m--> 466\u001b[0;31m           pywrap_tensorflow.TF_GetCode(status))\n\u001b[0m\u001b[1;32m    467\u001b[0m   \u001b[0;32mfinally\u001b[0m\u001b[0;34m:\u001b[0m\u001b[0;34m\u001b[0m\u001b[0m\n",
      "\u001b[0;31mFailedPreconditionError\u001b[0m: GetNext() failed because the iterator has not been initialized. Ensure that you have run the initializer operation for this iterator before getting the next element.\n\t [[Node: IteratorGetNext = IteratorGetNext[output_shapes=[[-1,35], [-1,35], [-1,-1], [-1], [-1]], output_types=[DT_INT64, DT_INT64, DT_INT64, DT_INT32, DT_INT32], _device=\"/job:localhost/replica:0/task:0/cpu:0\"](Iterator)]]\n\t [[Node: decoder/LuongAttention/assert_equal/Assert/Assert/_708 = _Recv[client_terminated=false, recv_device=\"/job:localhost/replica:0/task:0/gpu:0\", send_device=\"/job:localhost/replica:0/task:0/cpu:0\", send_device_incarnation=1, tensor_name=\"edge_549_decoder/LuongAttention/assert_equal/Assert/Assert\", tensor_type=DT_FLOAT, _device=\"/job:localhost/replica:0/task:0/gpu:0\"]()]]",
      "\nDuring handling of the above exception, another exception occurred:\n",
      "\u001b[0;31mFailedPreconditionError\u001b[0m                   Traceback (most recent call last)",
      "\u001b[0;32m<ipython-input-128-55b0056c11ac>\u001b[0m in \u001b[0;36m<module>\u001b[0;34m()\u001b[0m\n\u001b[1;32m     19\u001b[0m     \u001b[0;32mreturn\u001b[0m \u001b[0mdecoded\u001b[0m\u001b[0;34m\u001b[0m\u001b[0m\n\u001b[1;32m     20\u001b[0m \u001b[0;34m\u001b[0m\u001b[0m\n\u001b[0;32m---> 21\u001b[0;31m \u001b[0minput_ids\u001b[0m\u001b[0;34m,\u001b[0m \u001b[0moutput_ids\u001b[0m \u001b[0;34m=\u001b[0m \u001b[0msess\u001b[0m\u001b[0;34m.\u001b[0m\u001b[0mrun\u001b[0m\u001b[0;34m(\u001b[0m\u001b[0;34m[\u001b[0m\u001b[0msrc_ids\u001b[0m\u001b[0;34m,\u001b[0m \u001b[0mg_outputs\u001b[0m\u001b[0;34m.\u001b[0m\u001b[0msample_id\u001b[0m\u001b[0;34m]\u001b[0m\u001b[0;34m)\u001b[0m\u001b[0;34m\u001b[0m\u001b[0m\n\u001b[0m\u001b[1;32m     22\u001b[0m \u001b[0mdecoded\u001b[0m \u001b[0;34m=\u001b[0m \u001b[0mdecode_ids\u001b[0m\u001b[0;34m(\u001b[0m\u001b[0minput_ids\u001b[0m\u001b[0;34m,\u001b[0m \u001b[0moutput_ids\u001b[0m\u001b[0;34m)\u001b[0m\u001b[0;34m\u001b[0m\u001b[0m\n\u001b[1;32m     23\u001b[0m print('\\n'.join(\n",
      "\u001b[0;32m/mnt/store/judit/.virtualenvs/deep/lib/python3.4/site-packages/tensorflow/python/client/session.py\u001b[0m in \u001b[0;36mrun\u001b[0;34m(self, fetches, feed_dict, options, run_metadata)\u001b[0m\n\u001b[1;32m    787\u001b[0m     \u001b[0;32mtry\u001b[0m\u001b[0;34m:\u001b[0m\u001b[0;34m\u001b[0m\u001b[0m\n\u001b[1;32m    788\u001b[0m       result = self._run(None, fetches, feed_dict, options_ptr,\n\u001b[0;32m--> 789\u001b[0;31m                          run_metadata_ptr)\n\u001b[0m\u001b[1;32m    790\u001b[0m       \u001b[0;32mif\u001b[0m \u001b[0mrun_metadata\u001b[0m\u001b[0;34m:\u001b[0m\u001b[0;34m\u001b[0m\u001b[0m\n\u001b[1;32m    791\u001b[0m         \u001b[0mproto_data\u001b[0m \u001b[0;34m=\u001b[0m \u001b[0mtf_session\u001b[0m\u001b[0;34m.\u001b[0m\u001b[0mTF_GetBuffer\u001b[0m\u001b[0;34m(\u001b[0m\u001b[0mrun_metadata_ptr\u001b[0m\u001b[0;34m)\u001b[0m\u001b[0;34m\u001b[0m\u001b[0m\n",
      "\u001b[0;32m/mnt/store/judit/.virtualenvs/deep/lib/python3.4/site-packages/tensorflow/python/client/session.py\u001b[0m in \u001b[0;36m_run\u001b[0;34m(self, handle, fetches, feed_dict, options, run_metadata)\u001b[0m\n\u001b[1;32m    995\u001b[0m     \u001b[0;32mif\u001b[0m \u001b[0mfinal_fetches\u001b[0m \u001b[0;32mor\u001b[0m \u001b[0mfinal_targets\u001b[0m\u001b[0;34m:\u001b[0m\u001b[0;34m\u001b[0m\u001b[0m\n\u001b[1;32m    996\u001b[0m       results = self._do_run(handle, final_targets, final_fetches,\n\u001b[0;32m--> 997\u001b[0;31m                              feed_dict_string, options, run_metadata)\n\u001b[0m\u001b[1;32m    998\u001b[0m     \u001b[0;32melse\u001b[0m\u001b[0;34m:\u001b[0m\u001b[0;34m\u001b[0m\u001b[0m\n\u001b[1;32m    999\u001b[0m       \u001b[0mresults\u001b[0m \u001b[0;34m=\u001b[0m \u001b[0;34m[\u001b[0m\u001b[0;34m]\u001b[0m\u001b[0;34m\u001b[0m\u001b[0m\n",
      "\u001b[0;32m/mnt/store/judit/.virtualenvs/deep/lib/python3.4/site-packages/tensorflow/python/client/session.py\u001b[0m in \u001b[0;36m_do_run\u001b[0;34m(self, handle, target_list, fetch_list, feed_dict, options, run_metadata)\u001b[0m\n\u001b[1;32m   1130\u001b[0m     \u001b[0;32mif\u001b[0m \u001b[0mhandle\u001b[0m \u001b[0;32mis\u001b[0m \u001b[0;32mNone\u001b[0m\u001b[0;34m:\u001b[0m\u001b[0;34m\u001b[0m\u001b[0m\n\u001b[1;32m   1131\u001b[0m       return self._do_call(_run_fn, self._session, feed_dict, fetch_list,\n\u001b[0;32m-> 1132\u001b[0;31m                            target_list, options, run_metadata)\n\u001b[0m\u001b[1;32m   1133\u001b[0m     \u001b[0;32melse\u001b[0m\u001b[0;34m:\u001b[0m\u001b[0;34m\u001b[0m\u001b[0m\n\u001b[1;32m   1134\u001b[0m       return self._do_call(_prun_fn, self._session, handle, feed_dict,\n",
      "\u001b[0;32m/mnt/store/judit/.virtualenvs/deep/lib/python3.4/site-packages/tensorflow/python/client/session.py\u001b[0m in \u001b[0;36m_do_call\u001b[0;34m(self, fn, *args)\u001b[0m\n\u001b[1;32m   1150\u001b[0m         \u001b[0;32mexcept\u001b[0m \u001b[0mKeyError\u001b[0m\u001b[0;34m:\u001b[0m\u001b[0;34m\u001b[0m\u001b[0m\n\u001b[1;32m   1151\u001b[0m           \u001b[0;32mpass\u001b[0m\u001b[0;34m\u001b[0m\u001b[0m\n\u001b[0;32m-> 1152\u001b[0;31m       \u001b[0;32mraise\u001b[0m \u001b[0mtype\u001b[0m\u001b[0;34m(\u001b[0m\u001b[0me\u001b[0m\u001b[0;34m)\u001b[0m\u001b[0;34m(\u001b[0m\u001b[0mnode_def\u001b[0m\u001b[0;34m,\u001b[0m \u001b[0mop\u001b[0m\u001b[0;34m,\u001b[0m \u001b[0mmessage\u001b[0m\u001b[0;34m)\u001b[0m\u001b[0;34m\u001b[0m\u001b[0m\n\u001b[0m\u001b[1;32m   1153\u001b[0m \u001b[0;34m\u001b[0m\u001b[0m\n\u001b[1;32m   1154\u001b[0m   \u001b[0;32mdef\u001b[0m \u001b[0m_extend_graph\u001b[0m\u001b[0;34m(\u001b[0m\u001b[0mself\u001b[0m\u001b[0;34m)\u001b[0m\u001b[0;34m:\u001b[0m\u001b[0;34m\u001b[0m\u001b[0m\n",
      "\u001b[0;31mFailedPreconditionError\u001b[0m: GetNext() failed because the iterator has not been initialized. Ensure that you have run the initializer operation for this iterator before getting the next element.\n\t [[Node: IteratorGetNext = IteratorGetNext[output_shapes=[[-1,35], [-1,35], [-1,-1], [-1], [-1]], output_types=[DT_INT64, DT_INT64, DT_INT64, DT_INT32, DT_INT32], _device=\"/job:localhost/replica:0/task:0/cpu:0\"](Iterator)]]\n\t [[Node: decoder/LuongAttention/assert_equal/Assert/Assert/_708 = _Recv[client_terminated=false, recv_device=\"/job:localhost/replica:0/task:0/gpu:0\", send_device=\"/job:localhost/replica:0/task:0/cpu:0\", send_device_incarnation=1, tensor_name=\"edge_549_decoder/LuongAttention/assert_equal/Assert/Assert\", tensor_type=DT_FLOAT, _device=\"/job:localhost/replica:0/task:0/gpu:0\"]()]]\n\nCaused by op 'IteratorGetNext', defined at:\n  File \"/usr/lib/python3.4/runpy.py\", line 170, in _run_module_as_main\n    \"__main__\", mod_spec)\n  File \"/usr/lib/python3.4/runpy.py\", line 85, in _run_code\n    exec(code, run_globals)\n  File \"/mnt/store/judit/.virtualenvs/deep/lib/python3.4/site-packages/ipykernel/__main__.py\", line 3, in <module>\n    app.launch_new_instance()\n  File \"/mnt/store/judit/.virtualenvs/deep/lib/python3.4/site-packages/traitlets/config/application.py\", line 658, in launch_instance\n    app.start()\n  File \"/mnt/store/judit/.virtualenvs/deep/lib/python3.4/site-packages/ipykernel/kernelapp.py\", line 474, in start\n    ioloop.IOLoop.instance().start()\n  File \"/mnt/store/judit/.virtualenvs/deep/lib/python3.4/site-packages/zmq/eventloop/ioloop.py\", line 177, in start\n    super(ZMQIOLoop, self).start()\n  File \"/mnt/store/judit/.virtualenvs/deep/lib/python3.4/site-packages/tornado/ioloop.py\", line 887, in start\n    handler_func(fd_obj, events)\n  File \"/mnt/store/judit/.virtualenvs/deep/lib/python3.4/site-packages/tornado/stack_context.py\", line 275, in null_wrapper\n    return fn(*args, **kwargs)\n  File \"/mnt/store/judit/.virtualenvs/deep/lib/python3.4/site-packages/zmq/eventloop/zmqstream.py\", line 440, in _handle_events\n    self._handle_recv()\n  File \"/mnt/store/judit/.virtualenvs/deep/lib/python3.4/site-packages/zmq/eventloop/zmqstream.py\", line 472, in _handle_recv\n    self._run_callback(callback, msg)\n  File \"/mnt/store/judit/.virtualenvs/deep/lib/python3.4/site-packages/zmq/eventloop/zmqstream.py\", line 414, in _run_callback\n    callback(*args, **kwargs)\n  File \"/mnt/store/judit/.virtualenvs/deep/lib/python3.4/site-packages/tornado/stack_context.py\", line 275, in null_wrapper\n    return fn(*args, **kwargs)\n  File \"/mnt/store/judit/.virtualenvs/deep/lib/python3.4/site-packages/ipykernel/kernelbase.py\", line 276, in dispatcher\n    return self.dispatch_shell(stream, msg)\n  File \"/mnt/store/judit/.virtualenvs/deep/lib/python3.4/site-packages/ipykernel/kernelbase.py\", line 228, in dispatch_shell\n    handler(stream, idents, msg)\n  File \"/mnt/store/judit/.virtualenvs/deep/lib/python3.4/site-packages/ipykernel/kernelbase.py\", line 390, in execute_request\n    user_expressions, allow_stdin)\n  File \"/mnt/store/judit/.virtualenvs/deep/lib/python3.4/site-packages/ipykernel/ipkernel.py\", line 196, in do_execute\n    res = shell.run_cell(code, store_history=store_history, silent=silent)\n  File \"/mnt/store/judit/.virtualenvs/deep/lib/python3.4/site-packages/ipykernel/zmqshell.py\", line 501, in run_cell\n    return super(ZMQInteractiveShell, self).run_cell(*args, **kwargs)\n  File \"/mnt/store/judit/.virtualenvs/deep/lib/python3.4/site-packages/IPython/core/interactiveshell.py\", line 2717, in run_cell\n    interactivity=interactivity, compiler=compiler, result=result)\n  File \"/mnt/store/judit/.virtualenvs/deep/lib/python3.4/site-packages/IPython/core/interactiveshell.py\", line 2821, in run_ast_nodes\n    if self.run_code(code, result):\n  File \"/mnt/store/judit/.virtualenvs/deep/lib/python3.4/site-packages/IPython/core/interactiveshell.py\", line 2881, in run_code\n    exec(code_obj, self.user_global_ns, self.user_ns)\n  File \"<ipython-input-119-8b344f65da7d>\", line 38, in <module>\n    src_ids, tgt_in_ids, tgt_out_ids, src_size, tgt_size = batched_iter.get_next()\n  File \"/mnt/store/judit/.virtualenvs/deep/lib/python3.4/site-packages/tensorflow/contrib/data/python/ops/dataset_ops.py\", line 247, in get_next\n    name=name))\n  File \"/mnt/store/judit/.virtualenvs/deep/lib/python3.4/site-packages/tensorflow/python/ops/gen_dataset_ops.py\", line 254, in iterator_get_next\n    output_shapes=output_shapes, name=name)\n  File \"/mnt/store/judit/.virtualenvs/deep/lib/python3.4/site-packages/tensorflow/python/framework/op_def_library.py\", line 767, in apply_op\n    op_def=op_def)\n  File \"/mnt/store/judit/.virtualenvs/deep/lib/python3.4/site-packages/tensorflow/python/framework/ops.py\", line 2506, in create_op\n    original_op=self._default_original_op, op_def=op_def)\n  File \"/mnt/store/judit/.virtualenvs/deep/lib/python3.4/site-packages/tensorflow/python/framework/ops.py\", line 1269, in __init__\n    self._traceback = _extract_stack()\n\nFailedPreconditionError (see above for traceback): GetNext() failed because the iterator has not been initialized. Ensure that you have run the initializer operation for this iterator before getting the next element.\n\t [[Node: IteratorGetNext = IteratorGetNext[output_shapes=[[-1,35], [-1,35], [-1,-1], [-1], [-1]], output_types=[DT_INT64, DT_INT64, DT_INT64, DT_INT32, DT_INT32], _device=\"/job:localhost/replica:0/task:0/cpu:0\"](Iterator)]]\n\t [[Node: decoder/LuongAttention/assert_equal/Assert/Assert/_708 = _Recv[client_terminated=false, recv_device=\"/job:localhost/replica:0/task:0/gpu:0\", send_device=\"/job:localhost/replica:0/task:0/cpu:0\", send_device_incarnation=1, tensor_name=\"edge_549_decoder/LuongAttention/assert_equal/Assert/Assert\", tensor_type=DT_FLOAT, _device=\"/job:localhost/replica:0/task:0/gpu:0\"]()]]\n"
     ]
    }
   ],
   "source": [
    "inv_vocab = {v: k for k, v in vocab.items()}\n",
    "skip_symbols = ('PAD',)\n",
    "\n",
    "def decode_ids(input_ids, output_ids):\n",
    "    decoded = []\n",
    "    for sample_i in range(output_ids.shape[0]):\n",
    "        input_sample = input_ids[sample_i]\n",
    "        output_sample = output_ids[sample_i]\n",
    "        input_decoded = [inv_vocab[s] for s in input_sample]\n",
    "        input_decoded = ''.join(c for c in input_decoded if c not in skip_symbols)\n",
    "        output_decoded = [inv_vocab[s] for s in output_sample]\n",
    "        try:\n",
    "            eos_idx = output_decoded.index('EOS')\n",
    "        except ValueError:  # EOS not in list\n",
    "            eos_idx = len(output_decoded)\n",
    "        output_decoded = output_decoded[:eos_idx]\n",
    "        output_decoded = ''.join(c for c in output_decoded if c not in skip_symbols)\n",
    "        decoded.append((input_decoded, output_decoded))\n",
    "    return decoded\n",
    "\n",
    "input_ids, output_ids = sess.run([src_ids, g_outputs.sample_id])\n",
    "decoded = decode_ids(input_ids, output_ids)\n",
    "print('\\n'.join(\n",
    "    '{} ---> {}'.format(dec[0], dec[1]) for dec in decoded\n",
    "))"
   ]
  }
 ],
 "metadata": {
  "kernelspec": {
   "display_name": "Python 3",
   "language": "python",
   "name": "python3"
  },
  "language_info": {
   "codemirror_mode": {
    "name": "ipython",
    "version": 3
   },
   "file_extension": ".py",
   "mimetype": "text/x-python",
   "name": "python",
   "nbconvert_exporter": "python",
   "pygments_lexer": "ipython3",
   "version": "3.4.2"
  }
 },
 "nbformat": 4,
 "nbformat_minor": 2
}
