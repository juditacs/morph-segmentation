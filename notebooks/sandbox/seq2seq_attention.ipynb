{
 "cells": [
  {
   "cell_type": "code",
   "execution_count": 1,
   "metadata": {
    "collapsed": false,
    "deletable": true,
    "editable": true
   },
   "outputs": [],
   "source": [
    "import os\n",
    "import yaml\n",
    "import tensorflow as tf\n",
    "from tensorflow.python.ops import lookup_ops\n",
    "from tensorflow.python.layers import core as layers_core\n",
    "\n",
    "tf.reset_default_graph()"
   ]
  },
  {
   "cell_type": "markdown",
   "metadata": {
    "deletable": true,
    "editable": true
   },
   "source": [
    "# Model parameters\n",
    "\n",
    "Set `use_toy_data` to `True` for toy experiments. This will train the network on two unique examples.\n",
    "\n",
    "The real dataset is morphological reinflection task: Hungarian nouns in the instrumental case.\n",
    "Hungarian features both vowel harmony and assimilation.\n",
    "A few examples are listed here (capitalization is added for emphasis):\n",
    "\n",
    "| input | output | meaning | what happens |\n",
    "| :-----: | :-----: | :-----: | :-----: |\n",
    "| autó | autóval | with car | |\n",
    "| Peti | Petiv**E**l | with Pete | vowel harmony |\n",
    "| fej | fej**J**el | with head | assimilation |\n",
    "| pálca | pálc**Á**val | with stick | low vowel lengthening |\n",
    "| kulcs | kul**CCS**al | with key | digraph + assimilation |\n",
    "\n",
    "This turns out to be a very easy task for a fairly small seq2seq model."
   ]
  },
  {
   "cell_type": "code",
   "execution_count": 2,
   "metadata": {
    "collapsed": true,
    "deletable": true,
    "editable": true
   },
   "outputs": [],
   "source": [
    "PROJECT_DIR = \"../../\"\n",
    "use_toy_data = False\n",
    "LOG_DIR = 'logs'  # Tensorboard log directory\n",
    "\n",
    "if use_toy_data:\n",
    "    batch_size = 8\n",
    "    embedding_dim = 5\n",
    "    cell_size = 32\n",
    "    max_len = 6\n",
    "else:\n",
    "    batch_size = 64\n",
    "    embedding_dim = 20\n",
    "    cell_size = 128\n",
    "    max_len = 33\n",
    "    \n",
    "use_attention = False\n",
    "use_bidirectional_encoder = True\n",
    "is_time_major = True"
   ]
  },
  {
   "cell_type": "markdown",
   "metadata": {
    "deletable": true,
    "editable": true
   },
   "source": [
    "# Download data if necessary\n",
    "\n",
    "The input data is expected in the following format:\n",
    "\n",
    "~~~\n",
    "i n p u t 1 TAB o u t p u t 1\n",
    "i n p u t 2 TAB o u t p u t 2\n",
    "~~~\n",
    "\n",
    "Each line contains a single input-output pair separated by a TAB.\n",
    "Tokens are space-separated."
   ]
  },
  {
   "cell_type": "code",
   "execution_count": 3,
   "metadata": {
    "collapsed": false,
    "deletable": true,
    "editable": true
   },
   "outputs": [],
   "source": [
    "if use_toy_data:\n",
    "    input_fn = 'toy_input.txt'\n",
    "    with open(input_fn, 'w') as f:\n",
    "        f.write('a b c\\td e f d e f\\n')\n",
    "        f.write('d e f\\ta b c a b c\\n')\n",
    "else:\n",
    "    DATA_DIR = '../../data/'\n",
    "    input_fn = 'instrumental.full.train'\n",
    "    input_fn = os.path.join(DATA_DIR, input_fn)\n",
    "    if not os.path.exists(input_fn):\n",
    "        import urllib\n",
    "        u = urllib.request.URLopener()\n",
    "        u.retrieve(\n",
    "            \"http://sandbox.mokk.bme.hu/~judit/resources/instrumental.full.train\", input_fn)"
   ]
  },
  {
   "cell_type": "markdown",
   "metadata": {
    "deletable": true,
    "editable": true
   },
   "source": [
    "# Load and preprocess data"
   ]
  },
  {
   "cell_type": "code",
   "execution_count": 4,
   "metadata": {
    "collapsed": true,
    "deletable": true,
    "editable": true
   },
   "outputs": [],
   "source": [
    "class Dataset(object):\n",
    "    PAD = 0\n",
    "    SOS = 1\n",
    "    EOS = 2\n",
    "    UNK = 3\n",
    "    #src_vocab = ['PAD', 'UNK']\n",
    "    constants = ['PAD', 'SOS', 'EOS', 'UNK']\n",
    "    hu_alphabet = list(\"aábcdeéfghiíjklmnoóöőpqrstuúüűvwxyz-+._\")\n",
    "    \n",
    "    def __init__(self, fn, config, src_alphabet=None, tgt_alphabet=None):\n",
    "        self.config = config\n",
    "        self.create_tables(src_alphabet, tgt_alphabet)\n",
    "        self.load_and_preproc_dataset(fn)\n",
    "        \n",
    "    def create_tables(self, src_alphabet, tgt_alphabet):\n",
    "        if src_alphabet is None:\n",
    "            self.src_vocab = Dataset.constants + Dataset.hu_alphabet\n",
    "        else:\n",
    "            self.src_vocab = Dataset.constants + alphabet\n",
    "        self.src_table = lookup_ops.index_table_from_tensor(\n",
    "            tf.constant(self.src_vocab), default_value=Dataset.UNK\n",
    "        )\n",
    "        if self.config.share_vocab:\n",
    "            self.tgt_vocab = self.src_vocab\n",
    "            self.tgt_table = self.src_table\n",
    "        else:\n",
    "            if tgt_alphabet is None:\n",
    "                self.tgt_vocab = Dataset.constants + Dataset.hu_alphabet\n",
    "            else:\n",
    "                self.tgt_vocab = Dataset.constants + alphabet\n",
    "            self.tgt_table = lookup_ops.index_table_from_tensor(\n",
    "                tf.constant(self.tgt_vocab), default_value=Dataset.UNK\n",
    "            )\n",
    "        self.src_vocab_size = len(self.src_vocab)\n",
    "        self.tgt_vocab_size = len(self.tgt_vocab)\n",
    "    \n",
    "    def load_and_preproc_dataset(self, fn):\n",
    "        dataset = tf.contrib.data.TextLineDataset(fn)\n",
    "        dataset = dataset.repeat()\n",
    "        dataset = dataset.map(lambda s: tf.string_split([s], delimiter='\\t').values)\n",
    "        \n",
    "        src = dataset.map(lambda s: s[0])\n",
    "        tgt = dataset.map(lambda s: s[1])\n",
    "        \n",
    "        src = src.map(lambda s: tf.string_split([s], delimiter=' ').values)\n",
    "        src = src.map(lambda s: s[:self.config.src_maxlen])\n",
    "        tgt = tgt.map(lambda s: tf.string_split([s], delimiter=' ').values)\n",
    "        tgt = tgt.map(lambda s: s[:self.config.tgt_maxlen])\n",
    "        \n",
    "        src = src.map(lambda words: self.src_table.lookup(words))\n",
    "        tgt = tgt.map(lambda words: self.tgt_table.lookup(words))\n",
    "        \n",
    "        dataset = tf.contrib.data.Dataset.zip((src, tgt))\n",
    "        dataset = dataset.map(\n",
    "            lambda src, tgt: (\n",
    "                src,\n",
    "                tf.concat(([Dataset.SOS], tgt), 0),\n",
    "                tf.concat((tgt, [Dataset.EOS]), 0),\n",
    "            )\n",
    "        )\n",
    "        dataset = dataset.map(\n",
    "            lambda src, tgt_in, tgt_out: (src, tgt_in, tgt_out, tf.size(src), tf.size(tgt_in))\n",
    "        )\n",
    "        batched = dataset.padded_batch(\n",
    "            self.config.batch_size,\n",
    "            padded_shapes=(\n",
    "                tf.TensorShape([self.config.src_maxlen]),\n",
    "                tf.TensorShape([self.config.tgt_maxlen+2]),\n",
    "                tf.TensorShape([None]),\n",
    "                tf.TensorShape([]),\n",
    "                tf.TensorShape([]),\n",
    "            )\n",
    "        )\n",
    "        self.batched_iter = batched.make_initializable_iterator()\n",
    "        s = self.batched_iter.get_next()\n",
    "        self.src_ids = s[0]\n",
    "        self.tgt_in_ids = s[1]\n",
    "        self.tgt_out_ids = s[2]\n",
    "        self.src_size = s[3]\n",
    "        self.tgt_size = s[4]\n",
    "        \n",
    "    def run_initializers(self, session):\n",
    "        session.run(tf.tables_initializer())\n",
    "        session.run(self.batched_iter.initializer)"
   ]
  },
  {
   "cell_type": "markdown",
   "metadata": {
    "deletable": true,
    "editable": true
   },
   "source": [
    "# Create model\n",
    "\n",
    "## Embedding\n",
    "\n",
    "The input and output embeddings are the same."
   ]
  },
  {
   "cell_type": "code",
   "execution_count": 5,
   "metadata": {
    "collapsed": false,
    "deletable": true,
    "editable": true
   },
   "outputs": [],
   "source": [
    "class Config(object):\n",
    "    default_fn = os.path.join(\n",
    "        PROJECT_DIR, \"config\", \"seq2seq\", \"default.yaml\"\n",
    "    )\n",
    "    \n",
    "    @staticmethod\n",
    "    def load_defaults(fn=default_fn):\n",
    "        with open(fn) as f:\n",
    "            return yaml.load(f)\n",
    "    \n",
    "    @classmethod\n",
    "    def from_yaml(cls, fn):\n",
    "        params = yaml.load(fn)\n",
    "        return cls(**params)\n",
    "    \n",
    "    def __init__(self, **kwargs):\n",
    "        defaults = Config.load_defaults()\n",
    "        for param, val in defaults.items():\n",
    "            setattr(self, param, val)\n",
    "        for param, val in kwargs.items():\n",
    "            setattr(self, param, val)\n",
    "        \n",
    "config = Config(src_maxlen=30, tgt_maxlen=33)\n",
    "dataset = Dataset(input_fn, config)"
   ]
  },
  {
   "cell_type": "code",
   "execution_count": 6,
   "metadata": {
    "collapsed": false,
    "deletable": true,
    "editable": true
   },
   "outputs": [],
   "source": [
    "with tf.variable_scope(\"embedding\"):\n",
    "    embedding = tf.get_variable(\"embedding\", [dataset.src_vocab_size, embedding_dim], dtype=tf.float32)\n",
    "    embedding_input = tf.nn.embedding_lookup(embedding, dataset.src_ids)\n",
    "    decoder_emb_inp = tf.nn.embedding_lookup(embedding, dataset.tgt_in_ids)\n",
    "    if is_time_major:\n",
    "        embedding_input = tf.transpose(embedding_input, [1, 0, 2])\n",
    "        decoder_emb_inp = tf.transpose(decoder_emb_inp, [1, 0, 2])"
   ]
  },
  {
   "cell_type": "markdown",
   "metadata": {
    "deletable": true,
    "editable": true
   },
   "source": [
    "## Encoder"
   ]
  },
  {
   "cell_type": "code",
   "execution_count": 7,
   "metadata": {
    "collapsed": true,
    "deletable": true,
    "editable": true
   },
   "outputs": [],
   "source": [
    "with tf.variable_scope(\"encoder\"):\n",
    "    \n",
    "    if use_bidirectional_encoder:\n",
    "        fw_cell = tf.nn.rnn_cell.BasicLSTMCell(cell_size)\n",
    "        fw_cell = tf.contrib.rnn.DropoutWrapper(fw_cell, input_keep_prob=0.8)\n",
    "        bw_cell = tf.nn.rnn_cell.BasicLSTMCell(cell_size)\n",
    "        bw_cell = tf.contrib.rnn.DropoutWrapper(bw_cell, input_keep_prob=0.8)\n",
    "\n",
    "        o, e = tf.nn.bidirectional_dynamic_rnn(\n",
    "            fw_cell, bw_cell, embedding_input, dtype='float32', sequence_length=dataset.src_size,\n",
    "            time_major=is_time_major)\n",
    "        encoder_outputs = tf.concat(o, -1)\n",
    "        encoder_state = e\n",
    "    \n",
    "    else:\n",
    "        fw_cell = tf.nn.rnn_cell.BasicLSTMCell(cell_size)\n",
    "        fw_cell = tf.contrib.rnn.DropoutWrapper(fw_cell, input_keep_prob=0.8)\n",
    "        o, e = tf.nn.dynamic_rnn(fw_cell, embedding_input, dtype='float32',\n",
    "                                 sequence_length=dataset.src_size, time_major=is_time_major)\n",
    "        encoder_outputs = o\n",
    "        encoder_state = e\n",
    "    "
   ]
  },
  {
   "cell_type": "markdown",
   "metadata": {
    "deletable": true,
    "editable": true
   },
   "source": [
    "## Decoder"
   ]
  },
  {
   "cell_type": "code",
   "execution_count": 8,
   "metadata": {
    "collapsed": false,
    "deletable": true,
    "editable": true
   },
   "outputs": [],
   "source": [
    "with tf.variable_scope(\"decoder\", dtype=\"float32\") as scope:\n",
    "    if use_bidirectional_encoder:\n",
    "        decoder_cells = []\n",
    "        for i in range(2):\n",
    "            decoder_cell = tf.contrib.rnn.BasicLSTMCell(cell_size)\n",
    "            decoder_cell = tf.contrib.rnn.DropoutWrapper(decoder_cell, input_keep_prob=0.8)\n",
    "            decoder_cells.append(decoder_cell)\n",
    "        decoder_cell = tf.contrib.rnn.MultiRNNCell(decoder_cells)\n",
    "\n",
    "        if use_attention:\n",
    "            if is_time_major:\n",
    "                attention_states = tf.transpose(encoder_outputs, [1, 0, 2])\n",
    "            else:\n",
    "                attention_states = encoder_outputs\n",
    "            attention_mechanism = tf.contrib.seq2seq.LuongAttention(\n",
    "                cell_size, attention_states, memory_sequence_length=dataset.src_size,\n",
    "                scale=True\n",
    "            )\n",
    "            decoder_cell = tf.contrib.seq2seq.AttentionWrapper(\n",
    "                decoder_cell, attention_mechanism, attention_layer_size=cell_size,\n",
    "                name=\"attention\"\n",
    "            )\n",
    "            if is_time_major:\n",
    "                decoder_initial_state = decoder_cell.zero_state(\n",
    "                    tf.shape(decoder_emb_inp)[1], tf.float32).clone(cell_state=encoder_state)\n",
    "            else:\n",
    "                decoder_initial_state = decoder_cell.zero_state(\n",
    "                    tf.shape(decoder_emb_inp)[0], tf.float32).clone(cell_state=encoder_state)\n",
    "        else:\n",
    "            decoder_initial_state = encoder_state\n",
    "            \n",
    "    else:\n",
    "        decoder_cell = tf.contrib.rnn.BasicLSTMCell(cell_size)\n",
    "        decoder_initial_state = encoder_state\n",
    "        \n",
    "    helper = tf.contrib.seq2seq.TrainingHelper(\n",
    "        decoder_emb_inp, dataset.tgt_size, time_major=is_time_major)\n",
    "    decoder = tf.contrib.seq2seq.BasicDecoder(\n",
    "        decoder_cell, helper, decoder_initial_state)\n",
    "    \n",
    "    outputs, final, _ = tf.contrib.seq2seq.dynamic_decode(\n",
    "        decoder, output_time_major=is_time_major, swap_memory=True, scope=scope)\n",
    "    \n",
    "    output_proj = layers_core.Dense(dataset.tgt_vocab_size, name=\"output_proj\")\n",
    "    logits = output_proj(outputs.rnn_output)\n",
    "    \n",
    "    "
   ]
  },
  {
   "cell_type": "markdown",
   "metadata": {
    "deletable": true,
    "editable": true
   },
   "source": [
    "## Loss and training operations"
   ]
  },
  {
   "cell_type": "code",
   "execution_count": 9,
   "metadata": {
    "collapsed": false,
    "deletable": true,
    "editable": true
   },
   "outputs": [],
   "source": [
    "with tf.variable_scope(\"train\"):\n",
    "    if is_time_major:\n",
    "        logits = tf.transpose(logits, [1, 0, 2])\n",
    "        crossent = tf.nn.sparse_softmax_cross_entropy_with_logits(\n",
    "            labels=dataset.tgt_out_ids, logits=logits)\n",
    "        target_weights = tf.sequence_mask(dataset.tgt_size, tf.shape(logits)[1], tf.float32)\n",
    "    else:\n",
    "        crossent = tf.nn.sparse_softmax_cross_entropy_with_logits(\n",
    "            labels=dataset.tgt_out_ids, logits=logits)\n",
    "        target_weights = tf.sequence_mask(dataset.tgt_size, tf.shape(logits)[1], tf.float32)\n",
    "    loss = tf.reduce_sum(crossent * target_weights) / tf.to_float(batch_size)\n",
    "    tf.summary.scalar(\"loss\", loss)\n",
    "\n",
    "    learning_rate = tf.placeholder(dtype=tf.float32, name=\"learning_rate\")\n",
    "    max_global_norm = tf.placeholder(dtype=tf.float32, name=\"max_global_norm\")\n",
    "    optimizer = tf.train.MomentumOptimizer(learning_rate, momentum=0.5)\n",
    "    params = tf.trainable_variables()\n",
    "    gradients = tf.gradients(loss, params)\n",
    "    for grad, var in zip(gradients, params):\n",
    "        tf.summary.histogram(var.op.name+'/gradient', grad)\n",
    "    gradients, _ = tf.clip_by_global_norm(gradients, max_global_norm)\n",
    "    for grad, var in zip(gradients, params):\n",
    "        tf.summary.histogram(var.op.name+'/clipped_gradient', grad)\n",
    "    update = optimizer.apply_gradients(zip(gradients, params))"
   ]
  },
  {
   "cell_type": "markdown",
   "metadata": {
    "deletable": true,
    "editable": true
   },
   "source": [
    "## Greedy decoder for inference"
   ]
  },
  {
   "cell_type": "code",
   "execution_count": 10,
   "metadata": {
    "collapsed": false,
    "deletable": true,
    "editable": true
   },
   "outputs": [],
   "source": [
    "with tf.variable_scope(\"greedy_decoder\"):\n",
    "    g_helper = tf.contrib.seq2seq.GreedyEmbeddingHelper(\n",
    "        embedding, tf.fill([dataset.config.batch_size], dataset.SOS), dataset.EOS)\n",
    "    g_decoder = tf.contrib.seq2seq.BasicDecoder(decoder_cell, g_helper, decoder_initial_state,\n",
    "                                             output_layer=output_proj)\n",
    "\n",
    "    g_outputs, _, _ = tf.contrib.seq2seq.dynamic_decode(g_decoder, maximum_iterations=30)"
   ]
  },
  {
   "cell_type": "markdown",
   "metadata": {},
   "source": [
    "## Beam search decoder"
   ]
  },
  {
   "cell_type": "code",
   "execution_count": 11,
   "metadata": {
    "collapsed": false
   },
   "outputs": [],
   "source": [
    "with tf.variable_scope(\"beam_search\"):\n",
    "    beam_width = 4\n",
    "    start_tokens = tf.fill([config.batch_size], dataset.SOS)\n",
    "    bm_dec_initial_state = tf.contrib.seq2seq.tile_batch(\n",
    "        encoder_state, multiplier=beam_width)\n",
    "    bm_decoder = tf.contrib.seq2seq.BeamSearchDecoder(\n",
    "        cell=decoder_cell,\n",
    "        embedding=embedding,\n",
    "        start_tokens=start_tokens,\n",
    "        initial_state=bm_dec_initial_state,\n",
    "        beam_width=beam_width,\n",
    "        output_layer=output_proj,\n",
    "        end_token=dataset.EOS\n",
    "    )\n",
    "    bm_outputs, _, _ = tf.contrib.seq2seq.dynamic_decode(\n",
    "        bm_decoder, maximum_iterations=config.tgt_maxlen)"
   ]
  },
  {
   "cell_type": "markdown",
   "metadata": {
    "deletable": true,
    "editable": true
   },
   "source": [
    "# Starting session"
   ]
  },
  {
   "cell_type": "code",
   "execution_count": null,
   "metadata": {
    "collapsed": false,
    "deletable": true,
    "editable": true
   },
   "outputs": [],
   "source": [
    "#sess = tf.Session(config=tf.ConfigProto(device_count={'GPU': 0}))\n",
    "sess = tf.Session()\n",
    "dataset.run_initializers(sess)\n",
    "sess.run(tf.global_variables_initializer())\n",
    "\n",
    "merged_summary = tf.summary.merge_all()\n",
    "writer = tf.summary.FileWriter(os.path.join(LOG_DIR, 's2s_sandbox', 'tmp'))\n",
    "writer.add_graph(sess.graph)"
   ]
  },
  {
   "cell_type": "markdown",
   "metadata": {
    "deletable": true,
    "editable": true
   },
   "source": [
    "# Training"
   ]
  },
  {
   "cell_type": "code",
   "execution_count": null,
   "metadata": {
    "collapsed": false,
    "deletable": true,
    "editable": true
   },
   "outputs": [
    {
     "name": "stdout",
     "output_type": "stream",
     "text": [
      "Start training...\n",
      "Running 350 epochs with learning rate 1\n",
      "Iter 50, learning rate 1, loss 45.26033020019531\n",
      "Iter 100, learning rate 1, loss 34.81024169921875\n",
      "Iter 150, learning rate 1, loss 31.522985458374023\n",
      "Iter 200, learning rate 1, loss 23.517223358154297\n",
      "Iter 250, learning rate 1, loss 18.17040252685547\n",
      "Iter 300, learning rate 1, loss 16.15471839904785\n",
      "Iter 350, learning rate 1, loss 13.37446403503418\n",
      "Running 1000 epochs with learning rate 0.1\n",
      "Iter 100, learning rate 0.1, loss 9.242836952209473\n",
      "Iter 200, learning rate 0.1, loss 7.943110466003418\n",
      "Iter 300, learning rate 0.1, loss 8.02791690826416\n",
      "Iter 400, learning rate 0.1, loss 7.113648414611816\n",
      "Iter 500, learning rate 0.1, loss 7.066655158996582\n",
      "Iter 600, learning rate 0.1, loss 6.1783928871154785\n"
     ]
    }
   ],
   "source": [
    "%%time\n",
    "\n",
    "def train(epochs, logstep, lr):\n",
    "    print(\"Running {} epochs with learning rate {}\".format(epochs, lr))\n",
    "    for i in range(epochs):\n",
    "        _, s = sess.run([update, merged_summary], feed_dict={learning_rate: lr, max_global_norm: 5.0})\n",
    "        l = sess.run(loss)\n",
    "        writer.add_summary(s, i)\n",
    "        if i % logstep == logstep - 1:\n",
    "            print(\"Iter {}, learning rate {}, loss {}\".format(i+1, lr, l))\n",
    "            \n",
    "print(\"Start training...\")\n",
    "if use_toy_data:\n",
    "    train(100, 10, .5)\n",
    "else:\n",
    "    train(350, 50, 1)\n",
    "    train(1000, 100, 0.1)\n",
    "    train(1000, 100, 0.01)"
   ]
  },
  {
   "cell_type": "markdown",
   "metadata": {
    "deletable": true,
    "editable": true
   },
   "source": [
    "# Inference"
   ]
  },
  {
   "cell_type": "code",
   "execution_count": null,
   "metadata": {
    "collapsed": false,
    "deletable": true,
    "editable": true
   },
   "outputs": [],
   "source": [
    "inv_vocab = {i: v for i, v in enumerate(dataset.tgt_vocab)}\n",
    "inv_vocab[-1] = 'UNK'\n",
    "skip_symbols = ('PAD',)\n",
    "\n",
    "def decode_ids(input_ids, output_ids):\n",
    "    decoded = []\n",
    "    for sample_i in range(output_ids.shape[0]):\n",
    "        input_sample = input_ids[sample_i]\n",
    "        output_sample = output_ids[sample_i]\n",
    "        input_decoded = [inv_vocab[s] for s in input_sample]\n",
    "        input_decoded = ''.join(c for c in input_decoded if c not in skip_symbols)\n",
    "        output_decoded = [inv_vocab[s] for s in output_sample]\n",
    "        try:\n",
    "            eos_idx = output_decoded.index('EOS')\n",
    "        except ValueError:  # EOS not in list\n",
    "            eos_idx = len(output_decoded)\n",
    "        output_decoded = output_decoded[:eos_idx]\n",
    "        output_decoded = ''.join(c for c in output_decoded if c not in skip_symbols)\n",
    "        decoded.append((input_decoded, output_decoded))\n",
    "    return decoded\n",
    "\n",
    "input_ids, output_ids, bm_output_ids = sess.run([dataset.src_ids, g_outputs.sample_id,\n",
    "                                                bm_outputs.predicted_ids])\n",
    "decoded = decode_ids(input_ids, output_ids)\n",
    "print('\\n'.join(\n",
    "    '{} ---> {}'.format(dec[0], dec[1]) for dec in decoded\n",
    "))"
   ]
  },
  {
   "cell_type": "markdown",
   "metadata": {},
   "source": [
    "## Beam search decoding"
   ]
  },
  {
   "cell_type": "code",
   "execution_count": null,
   "metadata": {
    "collapsed": false
   },
   "outputs": [],
   "source": [
    "all_decoded = []\n",
    "for beam_i in range(beam_width):\n",
    "    inputs = []\n",
    "    all_decoded.append([])\n",
    "    decoded = decode_ids(input_ids, bm_output_ids[:,:,beam_i])\n",
    "    for dec in decoded:\n",
    "        all_decoded[-1].append(dec[1])\n",
    "        inputs.append(dec[0])\n",
    "\n",
    "print('\\n'.join(\n",
    "    '{} ---> {}'.format(inputs[i], ' / '.join(d[i] for d in all_decoded))\n",
    "                        for i in range(len(inputs))\n",
    "))"
   ]
  }
 ],
 "metadata": {
  "kernelspec": {
   "display_name": "Python 3",
   "language": "python",
   "name": "python3"
  },
  "language_info": {
   "codemirror_mode": {
    "name": "ipython",
    "version": 3
   },
   "file_extension": ".py",
   "mimetype": "text/x-python",
   "name": "python",
   "nbconvert_exporter": "python",
   "pygments_lexer": "ipython3",
   "version": "3.4.2"
  }
 },
 "nbformat": 4,
 "nbformat_minor": 2
}
